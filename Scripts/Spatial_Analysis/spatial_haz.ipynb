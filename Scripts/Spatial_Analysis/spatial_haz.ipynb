{
 "cells": [
  {
   "cell_type": "code",
   "execution_count": 1,
   "id": "05d927d3-4769-4595-8aa8-0ad8ec50e4e8",
   "metadata": {},
   "outputs": [],
   "source": [
    "import os\n",
    "import pandas as pd\n",
    "import arcpy\n",
    "import arcpy.mp as mp\n",
    "import re\n",
    "import requests\n",
    "import numpy as np\n",
    "import geopandas\n",
    "from arcpy.sa import *\n",
    "arcpy.CheckOutExtension(\"Spatial\")\n",
    "import random\n",
    "import string"
   ]
  },
  {
   "cell_type": "code",
   "execution_count": null,
   "id": "50c9c1ed-1d7f-4d0a-a1a2-efed930cb343",
   "metadata": {},
   "outputs": [],
   "source": []
  },
  {
   "cell_type": "markdown",
   "id": "2869b75d-ae1a-457e-94ac-f43bcd1f399a",
   "metadata": {},
   "source": [
    "#### Get the path of this notebook and use it to generate path for input shapefile:"
   ]
  },
  {
   "cell_type": "code",
   "execution_count": 2,
   "id": "68a1da9f-739b-43c9-b1f8-7951f64eee05",
   "metadata": {},
   "outputs": [
    {
     "name": "stdout",
     "output_type": "stream",
     "text": [
      "Location of this notebook: C:\\GITHUB\\CCSVI\\Scripts\\Spatial_Analysis\n",
      "Location of CBG SHP: C:\\GITHUB\\CCSVI\\Scripts\\Spatial_Analysis\\input\\cbg_kontur.shp\n",
      "Location for output: C:\\GITHUB\\CCSVI\\Scripts\\Spatial_Analysis\\output\n"
     ]
    }
   ],
   "source": [
    "current_dir = os.getcwd()\n",
    "shapefile_cbg = r\"input\\cbg_kontur.shp\"\n",
    "shapefile_cbg_path = os.path.join(current_dir, shapefile_cbg)\n",
    "output_folder_path = os.path.join(current_dir, \"output\")\n",
    "print(f\"Location of this notebook: {current_dir}\")\n",
    "print(f\"Location of CBG SHP: {shapefile_cbg_path}\")\n",
    "print(f\"Location for output: {output_folder_path}\")"
   ]
  },
  {
   "cell_type": "markdown",
   "id": "407a6fea-a83d-4030-953a-28b272cfbae9",
   "metadata": {},
   "source": [
    "#### Set up ArcPy Workspace:"
   ]
  },
  {
   "cell_type": "code",
   "execution_count": 3,
   "id": "b3ae849a-ba58-44bc-9f87-f1251ffde6cc",
   "metadata": {},
   "outputs": [],
   "source": [
    "arcpy.env.overwriteOutput = True\n",
    "workspace = os.path.dirname(shapefile_cbg_path)\n",
    "arcpy.env.workspace = workspace"
   ]
  },
  {
   "cell_type": "markdown",
   "id": "7a434ed8-bee9-4df8-90b7-322bcf201c96",
   "metadata": {},
   "source": [
    "#### Load shapefile into a layer and check spatial reference etc:"
   ]
  },
  {
   "cell_type": "code",
   "execution_count": 4,
   "id": "72d5c9ae-d80f-4fef-8627-623d0c8f0b54",
   "metadata": {},
   "outputs": [
    {
     "name": "stdout",
     "output_type": "stream",
     "text": [
      "Layer cbg_layer info:\n",
      "\n",
      "Shape type: Polygon\n",
      "Spatial reference: WGS_1984_Web_Mercator_Auxiliary_Sphere\n",
      "Number of features: 1057\n",
      "\n",
      "Field List: ['FID', 'Shape', 'GEOID', 'GEO_ID', 'GEOIDFQ', 'STATEFP', 'COUNTYFP', 'TRACTCE', 'BLKGRPCE', 'NAMELSAD', 'P1_001N', 'trim_acres', 'pop_per_ac', 'pop_sqkm', 'Shape_Leng', 'Shape_Area', 'whole_bg_a', 'whole_bg_s', 'trim_bg_ac', 'trim_bg_sq', 'rainavgin']\n"
     ]
    }
   ],
   "source": [
    "cbg_layer = shapefile_cbg_path\n",
    "desc = arcpy.Describe(cbg_layer)\n",
    "fields = [f.name for f in arcpy.ListFields(cbg_layer)]\n",
    "count = arcpy.management.GetCount(cbg_layer)\n",
    "print(\"Layer cbg_layer info:\\n\")\n",
    "print(\"Shape type:\", desc.shapeType)\n",
    "print(\"Spatial reference:\", desc.spatialReference.name)\n",
    "print(f\"Number of features: {count[0]}\\n\")\n",
    "print(f\"Field List: {fields}\")\n"
   ]
  },
  {
   "cell_type": "markdown",
   "id": "3549f9ff-1553-4307-9186-a4dae89597c3",
   "metadata": {},
   "source": [
    "#### Define location/name of raster for analysis and fieldname to put resulting value into:"
   ]
  },
  {
   "cell_type": "code",
   "execution_count": 5,
   "id": "0809e95e-9a6b-4390-bf4c-ccd014b817b7",
   "metadata": {},
   "outputs": [],
   "source": [
    "raster_path = os.path.join(workspace, r\"environmental\\staterf_inann.tif\")\n",
    "stat_type = \"MEAN\"  # other options: \"MAX\", \"MIN\", \"SUM\", etc.\n",
    "\n",
    "# Create field name using raster base name and stat type\n",
    "raster_name = os.path.splitext(os.path.basename(raster_path))[0]\n",
    "output_field = f\"{raster_name}_{stat_type.lower()}\"\n"
   ]
  },
  {
   "cell_type": "code",
   "execution_count": null,
   "id": "772f961d-8eb1-4fc3-b36c-d388faeeca81",
   "metadata": {
    "scrolled": true
   },
   "outputs": [],
   "source": []
  },
  {
   "cell_type": "markdown",
   "id": "002a5774-07d1-4ff4-a76c-9652a2226afc",
   "metadata": {},
   "source": [
    "#### Do Zonal Statistics and put output into DBF named similarly to the raster in an OUTPUT folder:"
   ]
  },
  {
   "cell_type": "code",
   "execution_count": 6,
   "id": "da487fac-bfed-45f4-b521-bef7de5e84ff",
   "metadata": {},
   "outputs": [],
   "source": [
    "output_folder = os.path.join(current_dir, \"output\")\n",
    "os.makedirs(output_folder, exist_ok=True)"
   ]
  },
  {
   "cell_type": "code",
   "execution_count": 7,
   "id": "ffb0742e-887c-4b58-bf70-f6de5dca76ba",
   "metadata": {},
   "outputs": [
    {
     "data": {
      "text/html": [
       "<div class='gpresult'><h2 class='msg-title'>Messages</h2><div id='messages'>Start Time: Thursday, May 8, 2025 7:39:01 PM<br>Value raster being used as snap raster; this is new default behavior.<br>WARNING 010566: Some zones may not have been rasterized.<br>Succeeded at Thursday, May 8, 2025 7:39:02 PM (Elapsed Time: 0.97 seconds)<br></div><div id = 'default' /></div></div>"
      ],
      "text/plain": [
       "<Result 'C:\\\\GITHUB\\\\CCSVI\\\\Scripts\\\\Spatial_Analysis\\\\output\\\\staterf_inann_mean.dbf'>"
      ]
     },
     "execution_count": 7,
     "metadata": {},
     "output_type": "execute_result"
    }
   ],
   "source": [
    "# Zonal stats setup\n",
    "zone_field = \"GEOIDFQ\"\n",
    "out_table = os.path.join(output_folder, f\"{raster_name}_{stat_type.lower()}.dbf\")\n",
    "\n",
    "arcpy.sa.ZonalStatisticsAsTable(\n",
    "    in_zone_data=cbg_layer,\n",
    "    zone_field=zone_field,\n",
    "    in_value_raster=raster_path,\n",
    "    out_table=out_table,\n",
    "    statistics_type=stat_type,\n",
    "    ignore_nodata=\"DATA\"\n",
    ")\n"
   ]
  },
  {
   "cell_type": "markdown",
   "id": "e0f35b1f-e6c5-4062-ad08-fce6f33087ca",
   "metadata": {},
   "source": [
    "#### Convert DBF to CSV:"
   ]
  },
  {
   "cell_type": "code",
   "execution_count": 8,
   "id": "18c2768e-04ed-4589-85bf-90e8d9b7fd8a",
   "metadata": {},
   "outputs": [
    {
     "ename": "UnicodeDecodeError",
     "evalue": "'utf-8' codec can't decode byte 0xc1 in position 8: invalid start byte",
     "output_type": "error",
     "traceback": [
      "\u001b[1;31m---------------------------------------------------------------------------\u001b[0m",
      "\u001b[1;31mUnicodeDecodeError\u001b[0m                        Traceback (most recent call last)",
      "Cell \u001b[1;32mIn[8], line 2\u001b[0m\n\u001b[0;32m      1\u001b[0m csv_output \u001b[38;5;241m=\u001b[39m os\u001b[38;5;241m.\u001b[39mpath\u001b[38;5;241m.\u001b[39mjoin(output_folder, \u001b[38;5;124mf\u001b[39m\u001b[38;5;124m\"\u001b[39m\u001b[38;5;132;01m{\u001b[39;00mraster_name\u001b[38;5;132;01m}\u001b[39;00m\u001b[38;5;124m_\u001b[39m\u001b[38;5;132;01m{\u001b[39;00mstat_type\u001b[38;5;241m.\u001b[39mlower()\u001b[38;5;132;01m}\u001b[39;00m\u001b[38;5;124m.csv\u001b[39m\u001b[38;5;124m\"\u001b[39m)\n\u001b[1;32m----> 2\u001b[0m df \u001b[38;5;241m=\u001b[39m pd\u001b[38;5;241m.\u001b[39mread_csv(out_table)\n\u001b[0;32m      3\u001b[0m df[[zone_field, stat_type\u001b[38;5;241m.\u001b[39mupper()]]\u001b[38;5;241m.\u001b[39mto_csv(csv_output, index\u001b[38;5;241m=\u001b[39m\u001b[38;5;28;01mFalse\u001b[39;00m)\n\u001b[0;32m      5\u001b[0m \u001b[38;5;28mprint\u001b[39m(\u001b[38;5;124mf\u001b[39m\u001b[38;5;124m\"\u001b[39m\u001b[38;5;124mZonal statistics CSV saved to: \u001b[39m\u001b[38;5;132;01m{\u001b[39;00mcsv_output\u001b[38;5;132;01m}\u001b[39;00m\u001b[38;5;124m\"\u001b[39m)\n",
      "File \u001b[1;32mC:\\Program Files\\ArcGIS\\Pro\\bin\\Python\\envs\\arcgispro-py3\\Lib\\site-packages\\pandas\\io\\parsers\\readers.py:912\u001b[0m, in \u001b[0;36mread_csv\u001b[1;34m(filepath_or_buffer, sep, delimiter, header, names, index_col, usecols, dtype, engine, converters, true_values, false_values, skipinitialspace, skiprows, skipfooter, nrows, na_values, keep_default_na, na_filter, verbose, skip_blank_lines, parse_dates, infer_datetime_format, keep_date_col, date_parser, date_format, dayfirst, cache_dates, iterator, chunksize, compression, thousands, decimal, lineterminator, quotechar, quoting, doublequote, escapechar, comment, encoding, encoding_errors, dialect, on_bad_lines, delim_whitespace, low_memory, memory_map, float_precision, storage_options, dtype_backend)\u001b[0m\n\u001b[0;32m    899\u001b[0m kwds_defaults \u001b[38;5;241m=\u001b[39m _refine_defaults_read(\n\u001b[0;32m    900\u001b[0m     dialect,\n\u001b[0;32m    901\u001b[0m     delimiter,\n\u001b[1;32m   (...)\u001b[0m\n\u001b[0;32m    908\u001b[0m     dtype_backend\u001b[38;5;241m=\u001b[39mdtype_backend,\n\u001b[0;32m    909\u001b[0m )\n\u001b[0;32m    910\u001b[0m kwds\u001b[38;5;241m.\u001b[39mupdate(kwds_defaults)\n\u001b[1;32m--> 912\u001b[0m \u001b[38;5;28;01mreturn\u001b[39;00m _read(filepath_or_buffer, kwds)\n",
      "File \u001b[1;32mC:\\Program Files\\ArcGIS\\Pro\\bin\\Python\\envs\\arcgispro-py3\\Lib\\site-packages\\pandas\\io\\parsers\\readers.py:577\u001b[0m, in \u001b[0;36m_read\u001b[1;34m(filepath_or_buffer, kwds)\u001b[0m\n\u001b[0;32m    574\u001b[0m _validate_names(kwds\u001b[38;5;241m.\u001b[39mget(\u001b[38;5;124m\"\u001b[39m\u001b[38;5;124mnames\u001b[39m\u001b[38;5;124m\"\u001b[39m, \u001b[38;5;28;01mNone\u001b[39;00m))\n\u001b[0;32m    576\u001b[0m \u001b[38;5;66;03m# Create the parser.\u001b[39;00m\n\u001b[1;32m--> 577\u001b[0m parser \u001b[38;5;241m=\u001b[39m TextFileReader(filepath_or_buffer, \u001b[38;5;241m*\u001b[39m\u001b[38;5;241m*\u001b[39mkwds)\n\u001b[0;32m    579\u001b[0m \u001b[38;5;28;01mif\u001b[39;00m chunksize \u001b[38;5;129;01mor\u001b[39;00m iterator:\n\u001b[0;32m    580\u001b[0m     \u001b[38;5;28;01mreturn\u001b[39;00m parser\n",
      "File \u001b[1;32mC:\\Program Files\\ArcGIS\\Pro\\bin\\Python\\envs\\arcgispro-py3\\Lib\\site-packages\\pandas\\io\\parsers\\readers.py:1407\u001b[0m, in \u001b[0;36mTextFileReader.__init__\u001b[1;34m(self, f, engine, **kwds)\u001b[0m\n\u001b[0;32m   1404\u001b[0m     \u001b[38;5;28mself\u001b[39m\u001b[38;5;241m.\u001b[39moptions[\u001b[38;5;124m\"\u001b[39m\u001b[38;5;124mhas_index_names\u001b[39m\u001b[38;5;124m\"\u001b[39m] \u001b[38;5;241m=\u001b[39m kwds[\u001b[38;5;124m\"\u001b[39m\u001b[38;5;124mhas_index_names\u001b[39m\u001b[38;5;124m\"\u001b[39m]\n\u001b[0;32m   1406\u001b[0m \u001b[38;5;28mself\u001b[39m\u001b[38;5;241m.\u001b[39mhandles: IOHandles \u001b[38;5;241m|\u001b[39m \u001b[38;5;28;01mNone\u001b[39;00m \u001b[38;5;241m=\u001b[39m \u001b[38;5;28;01mNone\u001b[39;00m\n\u001b[1;32m-> 1407\u001b[0m \u001b[38;5;28mself\u001b[39m\u001b[38;5;241m.\u001b[39m_engine \u001b[38;5;241m=\u001b[39m \u001b[38;5;28mself\u001b[39m\u001b[38;5;241m.\u001b[39m_make_engine(f, \u001b[38;5;28mself\u001b[39m\u001b[38;5;241m.\u001b[39mengine)\n",
      "File \u001b[1;32mC:\\Program Files\\ArcGIS\\Pro\\bin\\Python\\envs\\arcgispro-py3\\Lib\\site-packages\\pandas\\io\\parsers\\readers.py:1679\u001b[0m, in \u001b[0;36mTextFileReader._make_engine\u001b[1;34m(self, f, engine)\u001b[0m\n\u001b[0;32m   1676\u001b[0m     \u001b[38;5;28;01mraise\u001b[39;00m \u001b[38;5;167;01mValueError\u001b[39;00m(msg)\n\u001b[0;32m   1678\u001b[0m \u001b[38;5;28;01mtry\u001b[39;00m:\n\u001b[1;32m-> 1679\u001b[0m     \u001b[38;5;28;01mreturn\u001b[39;00m mapping[engine](f, \u001b[38;5;241m*\u001b[39m\u001b[38;5;241m*\u001b[39m\u001b[38;5;28mself\u001b[39m\u001b[38;5;241m.\u001b[39moptions)\n\u001b[0;32m   1680\u001b[0m \u001b[38;5;28;01mexcept\u001b[39;00m \u001b[38;5;167;01mException\u001b[39;00m:\n\u001b[0;32m   1681\u001b[0m     \u001b[38;5;28;01mif\u001b[39;00m \u001b[38;5;28mself\u001b[39m\u001b[38;5;241m.\u001b[39mhandles \u001b[38;5;129;01mis\u001b[39;00m \u001b[38;5;129;01mnot\u001b[39;00m \u001b[38;5;28;01mNone\u001b[39;00m:\n",
      "File \u001b[1;32mC:\\Program Files\\ArcGIS\\Pro\\bin\\Python\\envs\\arcgispro-py3\\Lib\\site-packages\\pandas\\io\\parsers\\c_parser_wrapper.py:93\u001b[0m, in \u001b[0;36mCParserWrapper.__init__\u001b[1;34m(self, src, **kwds)\u001b[0m\n\u001b[0;32m     90\u001b[0m \u001b[38;5;28;01mif\u001b[39;00m kwds[\u001b[38;5;124m\"\u001b[39m\u001b[38;5;124mdtype_backend\u001b[39m\u001b[38;5;124m\"\u001b[39m] \u001b[38;5;241m==\u001b[39m \u001b[38;5;124m\"\u001b[39m\u001b[38;5;124mpyarrow\u001b[39m\u001b[38;5;124m\"\u001b[39m:\n\u001b[0;32m     91\u001b[0m     \u001b[38;5;66;03m# Fail here loudly instead of in cython after reading\u001b[39;00m\n\u001b[0;32m     92\u001b[0m     import_optional_dependency(\u001b[38;5;124m\"\u001b[39m\u001b[38;5;124mpyarrow\u001b[39m\u001b[38;5;124m\"\u001b[39m)\n\u001b[1;32m---> 93\u001b[0m \u001b[38;5;28mself\u001b[39m\u001b[38;5;241m.\u001b[39m_reader \u001b[38;5;241m=\u001b[39m parsers\u001b[38;5;241m.\u001b[39mTextReader(src, \u001b[38;5;241m*\u001b[39m\u001b[38;5;241m*\u001b[39mkwds)\n\u001b[0;32m     95\u001b[0m \u001b[38;5;28mself\u001b[39m\u001b[38;5;241m.\u001b[39munnamed_cols \u001b[38;5;241m=\u001b[39m \u001b[38;5;28mself\u001b[39m\u001b[38;5;241m.\u001b[39m_reader\u001b[38;5;241m.\u001b[39munnamed_cols\n\u001b[0;32m     97\u001b[0m \u001b[38;5;66;03m# error: Cannot determine type of 'names'\u001b[39;00m\n",
      "File \u001b[1;32mC:\\Program Files\\ArcGIS\\Pro\\bin\\Python\\envs\\arcgispro-py3\\Lib\\site-packages\\pandas\\_libs\\parsers.pyx:548\u001b[0m, in \u001b[0;36mpandas._libs.parsers.TextReader.__cinit__\u001b[1;34m()\u001b[0m\n",
      "File \u001b[1;32mC:\\Program Files\\ArcGIS\\Pro\\bin\\Python\\envs\\arcgispro-py3\\Lib\\site-packages\\pandas\\_libs\\parsers.pyx:637\u001b[0m, in \u001b[0;36mpandas._libs.parsers.TextReader._get_header\u001b[1;34m()\u001b[0m\n",
      "File \u001b[1;32mC:\\Program Files\\ArcGIS\\Pro\\bin\\Python\\envs\\arcgispro-py3\\Lib\\site-packages\\pandas\\_libs\\parsers.pyx:848\u001b[0m, in \u001b[0;36mpandas._libs.parsers.TextReader._tokenize_rows\u001b[1;34m()\u001b[0m\n",
      "File \u001b[1;32mC:\\Program Files\\ArcGIS\\Pro\\bin\\Python\\envs\\arcgispro-py3\\Lib\\site-packages\\pandas\\_libs\\parsers.pyx:859\u001b[0m, in \u001b[0;36mpandas._libs.parsers.TextReader._check_tokenize_status\u001b[1;34m()\u001b[0m\n",
      "File \u001b[1;32mC:\\Program Files\\ArcGIS\\Pro\\bin\\Python\\envs\\arcgispro-py3\\Lib\\site-packages\\pandas\\_libs\\parsers.pyx:2017\u001b[0m, in \u001b[0;36mpandas._libs.parsers.raise_parser_error\u001b[1;34m()\u001b[0m\n",
      "\u001b[1;31mUnicodeDecodeError\u001b[0m: 'utf-8' codec can't decode byte 0xc1 in position 8: invalid start byte"
     ]
    }
   ],
   "source": [
    "csv_output = os.path.join(output_folder, f\"{raster_name}_{stat_type.lower()}.csv\")\n",
    "df = pd.read_csv(out_table)\n",
    "df[[zone_field, stat_type.upper()]].to_csv(csv_output, index=False)\n",
    "\n",
    "print(f\"Zonal statistics CSV saved to: {csv_output}\")"
   ]
  },
  {
   "cell_type": "code",
   "execution_count": null,
   "id": "8d39432b-f560-49d8-93fc-5404fb9c8bf1",
   "metadata": {},
   "outputs": [],
   "source": []
  }
 ],
 "metadata": {
  "kernelspec": {
   "display_name": "Python 3 (ipykernel)",
   "language": "python",
   "name": "python3"
  },
  "language_info": {
   "codemirror_mode": {
    "name": "ipython",
    "version": 3
   },
   "file_extension": ".py",
   "mimetype": "text/x-python",
   "name": "python",
   "nbconvert_exporter": "python",
   "pygments_lexer": "ipython3",
   "version": "3.11.10"
  }
 },
 "nbformat": 4,
 "nbformat_minor": 5
}
