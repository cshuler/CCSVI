{
 "cells": [
  {
   "cell_type": "code",
   "execution_count": 1,
   "id": "05d927d3-4769-4595-8aa8-0ad8ec50e4e8",
   "metadata": {},
   "outputs": [
    {
     "data": {
      "text/plain": [
       "'CheckedOut'"
      ]
     },
     "execution_count": 1,
     "metadata": {},
     "output_type": "execute_result"
    }
   ],
   "source": [
    "import os\n",
    "import pandas as pd\n",
    "import arcpy\n",
    "import arcpy.mp as mp\n",
    "import re\n",
    "import requests\n",
    "import numpy as np\n",
    "import geopandas\n",
    "from arcpy.sa import *\n",
    "arcpy.CheckOutExtension(\"Spatial\")\n",
    "import random\n",
    "import string"
   ]
  },
  {
   "cell_type": "code",
   "execution_count": null,
   "id": "50c9c1ed-1d7f-4d0a-a1a2-efed930cb343",
   "metadata": {},
   "outputs": [],
   "source": []
  },
  {
   "cell_type": "markdown",
   "id": "2869b75d-ae1a-457e-94ac-f43bcd1f399a",
   "metadata": {},
   "source": [
    "#### Get the path of this notebook and use it to generate path for input shapefile:"
   ]
  },
  {
   "cell_type": "code",
   "execution_count": 2,
   "id": "68a1da9f-739b-43c9-b1f8-7951f64eee05",
   "metadata": {},
   "outputs": [
    {
     "name": "stdout",
     "output_type": "stream",
     "text": [
      "Location of this notebook: C:\\GITHUB\\CCSVI\\Scripts\\Spatial_Analysis\n",
      "Location of CBG SHP: C:\\GITHUB\\CCSVI\\Scripts\\Spatial_Analysis\\input\\cbg_kontur.shp\n",
      "Location for output: C:\\GITHUB\\CCSVI\\Scripts\\Spatial_Analysis\\output\n"
     ]
    }
   ],
   "source": [
    "current_dir = os.getcwd()\n",
    "shapefile_cbg = r\"input\\cbg_kontur.shp\"\n",
    "shapefile_cbg_path = os.path.join(current_dir, shapefile_cbg)\n",
    "output_folder_path = os.path.join(current_dir, \"output\")\n",
    "print(f\"Location of this notebook: {current_dir}\")\n",
    "print(f\"Location of CBG SHP: {shapefile_cbg_path}\")\n",
    "print(f\"Location for output: {output_folder_path}\")"
   ]
  },
  {
   "cell_type": "markdown",
   "id": "407a6fea-a83d-4030-953a-28b272cfbae9",
   "metadata": {},
   "source": [
    "#### Set up ArcPy Workspace:"
   ]
  },
  {
   "cell_type": "code",
   "execution_count": 3,
   "id": "b3ae849a-ba58-44bc-9f87-f1251ffde6cc",
   "metadata": {},
   "outputs": [],
   "source": [
    "arcpy.env.overwriteOutput = True\n",
    "workspace = os.path.dirname(shapefile_cbg_path)\n",
    "arcpy.env.workspace = workspace"
   ]
  },
  {
   "cell_type": "markdown",
   "id": "7a434ed8-bee9-4df8-90b7-322bcf201c96",
   "metadata": {},
   "source": [
    "#### Load shapefile into a layer and check spatial reference etc:"
   ]
  },
  {
   "cell_type": "code",
   "execution_count": 4,
   "id": "72d5c9ae-d80f-4fef-8627-623d0c8f0b54",
   "metadata": {},
   "outputs": [
    {
     "name": "stdout",
     "output_type": "stream",
     "text": [
      "Layer cbg_layer info:\n",
      "\n",
      "Shape type: Polygon\n",
      "Spatial reference: WGS_1984_Web_Mercator_Auxiliary_Sphere\n",
      "Number of features: 1057\n",
      "\n",
      "Field List: ['FID', 'Shape', 'GEOID', 'GEO_ID', 'GEOIDFQ', 'STATEFP', 'COUNTYFP', 'TRACTCE', 'BLKGRPCE', 'NAMELSAD', 'P1_001N', 'trim_acres', 'pop_per_ac', 'pop_sqkm', 'Shape_Leng', 'Shape_Area', 'whole_bg_a', 'whole_bg_s', 'trim_bg_ac', 'trim_bg_sq', 'rainavgin']\n"
     ]
    }
   ],
   "source": [
    "cbg_layer = shapefile_cbg_path\n",
    "desc = arcpy.Describe(cbg_layer)\n",
    "fields = [f.name for f in arcpy.ListFields(cbg_layer)]\n",
    "count = arcpy.management.GetCount(cbg_layer)\n",
    "print(\"Layer cbg_layer info:\\n\")\n",
    "print(\"Shape type:\", desc.shapeType)\n",
    "print(\"Spatial reference:\", desc.spatialReference.name)\n",
    "print(f\"Number of features: {count[0]}\\n\")\n",
    "print(f\"Field List: {fields}\")\n"
   ]
  },
  {
   "cell_type": "markdown",
   "id": "3549f9ff-1553-4307-9186-a4dae89597c3",
   "metadata": {},
   "source": [
    "#### Define location/name of raster for analysis and fieldname to put resulting value into:"
   ]
  },
  {
   "cell_type": "code",
   "execution_count": 5,
   "id": "0809e95e-9a6b-4390-bf4c-ccd014b817b7",
   "metadata": {},
   "outputs": [],
   "source": [
    "raster_path = os.path.join(workspace, r\"environmental\\staterf_inann.tif\")\n",
    "stat_type = \"MEAN\"  # other options: \"MAX\", \"MIN\", \"SUM\", etc.\n",
    "\n",
    "# Create field name using raster base name and stat type\n",
    "raster_name = os.path.splitext(os.path.basename(raster_path))[0]\n",
    "output_field = f\"{raster_name}_{stat_type.lower()}\"\n"
   ]
  },
  {
   "cell_type": "code",
   "execution_count": 10,
   "id": "772f961d-8eb1-4fc3-b36c-d388faeeca81",
   "metadata": {
    "scrolled": true
   },
   "outputs": [
    {
     "name": "stdout",
     "output_type": "stream",
     "text": [
      "3857\n"
     ]
    }
   ],
   "source": []
  },
  {
   "cell_type": "markdown",
   "id": "002a5774-07d1-4ff4-a76c-9652a2226afc",
   "metadata": {},
   "source": [
    "#### Do Zonal Statistics and put output into CSV named similarly to the raster in an OUTPUT folder:"
   ]
  },
  {
   "cell_type": "code",
   "execution_count": 12,
   "id": "da487fac-bfed-45f4-b521-bef7de5e84ff",
   "metadata": {},
   "outputs": [
    {
     "ename": "ExecuteError",
     "evalue": "Failed to execute. Parameters are not valid.\nUndefined coordinate system for input dataset.\nFailed to execute (ProjectRaster).\n",
     "output_type": "error",
     "traceback": [
      "\u001b[1;31m---------------------------------------------------------------------------\u001b[0m",
      "\u001b[1;31mExecuteError\u001b[0m                              Traceback (most recent call last)",
      "Cell \u001b[1;32mIn[12], line 2\u001b[0m\n\u001b[0;32m      1\u001b[0m \u001b[38;5;66;03m# Step 4: Reproject raster\u001b[39;00m\n\u001b[1;32m----> 2\u001b[0m arcpy\u001b[38;5;241m.\u001b[39mmanagement\u001b[38;5;241m.\u001b[39mProjectRaster(\n\u001b[0;32m      3\u001b[0m     in_raster\u001b[38;5;241m=\u001b[39mraster_path,\n\u001b[0;32m      4\u001b[0m     out_raster\u001b[38;5;241m=\u001b[39mreprojected_raster_path,\n\u001b[0;32m      5\u001b[0m     out_coor_system\u001b[38;5;241m=\u001b[39mspatial_ref,\n\u001b[0;32m      6\u001b[0m     resampling_type\u001b[38;5;241m=\u001b[39m\u001b[38;5;124m\"\u001b[39m\u001b[38;5;124mNEAREST\u001b[39m\u001b[38;5;124m\"\u001b[39m  \u001b[38;5;66;03m# could also be BILINEAR\u001b[39;00m\n\u001b[0;32m      7\u001b[0m )\n\u001b[0;32m      8\u001b[0m \u001b[38;5;28mprint\u001b[39m(\u001b[38;5;124mf\u001b[39m\u001b[38;5;124m\"\u001b[39m\u001b[38;5;124mReprojected raster saved to: \u001b[39m\u001b[38;5;132;01m{\u001b[39;00mreprojected_raster_path\u001b[38;5;132;01m}\u001b[39;00m\u001b[38;5;124m\"\u001b[39m)\n",
      "File \u001b[1;32mC:\\Program Files\\ArcGIS\\Pro\\Resources\\ArcPy\\arcpy\\management.py:20634\u001b[0m, in \u001b[0;36mProjectRaster\u001b[1;34m(in_raster, out_raster, out_coor_system, resampling_type, cell_size, geographic_transform, Registration_Point, in_coor_system, vertical)\u001b[0m\n\u001b[0;32m  20632\u001b[0m     \u001b[38;5;28;01mreturn\u001b[39;00m retval\n\u001b[0;32m  20633\u001b[0m \u001b[38;5;28;01mexcept\u001b[39;00m \u001b[38;5;167;01mException\u001b[39;00m \u001b[38;5;28;01mas\u001b[39;00m e:\n\u001b[1;32m> 20634\u001b[0m     \u001b[38;5;28;01mraise\u001b[39;00m e\n",
      "File \u001b[1;32mC:\\Program Files\\ArcGIS\\Pro\\Resources\\ArcPy\\arcpy\\management.py:20615\u001b[0m, in \u001b[0;36mProjectRaster\u001b[1;34m(in_raster, out_raster, out_coor_system, resampling_type, cell_size, geographic_transform, Registration_Point, in_coor_system, vertical)\u001b[0m\n\u001b[0;32m  20611\u001b[0m \u001b[38;5;28;01mfrom\u001b[39;00m \u001b[38;5;21;01marcpy\u001b[39;00m\u001b[38;5;21;01m.\u001b[39;00m\u001b[38;5;21;01marcobjects\u001b[39;00m\u001b[38;5;21;01m.\u001b[39;00m\u001b[38;5;21;01marcobjectconversion\u001b[39;00m \u001b[38;5;28;01mimport\u001b[39;00m convertArcObjectToPythonObject\n\u001b[0;32m  20613\u001b[0m \u001b[38;5;28;01mtry\u001b[39;00m:\n\u001b[0;32m  20614\u001b[0m     retval \u001b[38;5;241m=\u001b[39m convertArcObjectToPythonObject(\n\u001b[1;32m> 20615\u001b[0m         gp\u001b[38;5;241m.\u001b[39mProjectRaster_management(\n\u001b[0;32m  20616\u001b[0m             \u001b[38;5;241m*\u001b[39mgp_fixargs(\n\u001b[0;32m  20617\u001b[0m                 (\n\u001b[0;32m  20618\u001b[0m                     in_raster,\n\u001b[0;32m  20619\u001b[0m                     out_raster,\n\u001b[0;32m  20620\u001b[0m                     out_coor_system,\n\u001b[0;32m  20621\u001b[0m                     resampling_type,\n\u001b[0;32m  20622\u001b[0m                     cell_size,\n\u001b[0;32m  20623\u001b[0m                     geographic_transform,\n\u001b[0;32m  20624\u001b[0m                     Registration_Point,\n\u001b[0;32m  20625\u001b[0m                     in_coor_system,\n\u001b[0;32m  20626\u001b[0m                     vertical,\n\u001b[0;32m  20627\u001b[0m                 ),\n\u001b[0;32m  20628\u001b[0m                 \u001b[38;5;28;01mTrue\u001b[39;00m,\n\u001b[0;32m  20629\u001b[0m             )\n\u001b[0;32m  20630\u001b[0m         )\n\u001b[0;32m  20631\u001b[0m     )\n\u001b[0;32m  20632\u001b[0m     \u001b[38;5;28;01mreturn\u001b[39;00m retval\n\u001b[0;32m  20633\u001b[0m \u001b[38;5;28;01mexcept\u001b[39;00m \u001b[38;5;167;01mException\u001b[39;00m \u001b[38;5;28;01mas\u001b[39;00m e:\n",
      "File \u001b[1;32mC:\\Program Files\\ArcGIS\\Pro\\Resources\\ArcPy\\arcpy\\geoprocessing\\_base.py:532\u001b[0m, in \u001b[0;36mGeoprocessor.__getattr__.<locals>.<lambda>\u001b[1;34m(*args)\u001b[0m\n\u001b[0;32m    530\u001b[0m val \u001b[38;5;241m=\u001b[39m \u001b[38;5;28mgetattr\u001b[39m(\u001b[38;5;28mself\u001b[39m\u001b[38;5;241m.\u001b[39m_gp, attr)\n\u001b[0;32m    531\u001b[0m \u001b[38;5;28;01mif\u001b[39;00m \u001b[38;5;28mcallable\u001b[39m(val):\n\u001b[1;32m--> 532\u001b[0m     \u001b[38;5;28;01mreturn\u001b[39;00m \u001b[38;5;28;01mlambda\u001b[39;00m \u001b[38;5;241m*\u001b[39margs: val(\u001b[38;5;241m*\u001b[39mgp_fixargs(args, \u001b[38;5;28;01mTrue\u001b[39;00m))\n\u001b[0;32m    533\u001b[0m \u001b[38;5;28;01melse\u001b[39;00m:\n\u001b[0;32m    534\u001b[0m     \u001b[38;5;28;01mreturn\u001b[39;00m convertArcObjectToPythonObject(val)\n",
      "\u001b[1;31mExecuteError\u001b[0m: Failed to execute. Parameters are not valid.\nUndefined coordinate system for input dataset.\nFailed to execute (ProjectRaster).\n"
     ]
    }
   ],
   "source": [
    "output_folder = os.path.join(current_dir, \"output\")\n",
    "os.makedirs(output_folder, exist_ok=True)"
   ]
  },
  {
   "cell_type": "code",
   "execution_count": 13,
   "id": "ffb0742e-887c-4b58-bf70-f6de5dca76ba",
   "metadata": {},
   "outputs": [
    {
     "ename": "NameError",
     "evalue": "name 'output_folder' is not defined",
     "output_type": "error",
     "traceback": [
      "\u001b[1;31m---------------------------------------------------------------------------\u001b[0m",
      "\u001b[1;31mNameError\u001b[0m                                 Traceback (most recent call last)",
      "Cell \u001b[1;32mIn[13], line 3\u001b[0m\n\u001b[0;32m      1\u001b[0m \u001b[38;5;66;03m# Zonal stats setup\u001b[39;00m\n\u001b[0;32m      2\u001b[0m zone_field \u001b[38;5;241m=\u001b[39m \u001b[38;5;124m\"\u001b[39m\u001b[38;5;124mGEOIDFQ\u001b[39m\u001b[38;5;124m\"\u001b[39m\n\u001b[1;32m----> 3\u001b[0m out_table \u001b[38;5;241m=\u001b[39m os\u001b[38;5;241m.\u001b[39mpath\u001b[38;5;241m.\u001b[39mjoin(output_folder, \u001b[38;5;124mf\u001b[39m\u001b[38;5;124m\"\u001b[39m\u001b[38;5;132;01m{\u001b[39;00mraster_name\u001b[38;5;132;01m}\u001b[39;00m\u001b[38;5;124m_\u001b[39m\u001b[38;5;132;01m{\u001b[39;00mstat_type\u001b[38;5;241m.\u001b[39mlower()\u001b[38;5;132;01m}\u001b[39;00m\u001b[38;5;124m.dbf\u001b[39m\u001b[38;5;124m\"\u001b[39m)\n\u001b[0;32m      5\u001b[0m arcpy\u001b[38;5;241m.\u001b[39msa\u001b[38;5;241m.\u001b[39mZonalStatisticsAsTable(\n\u001b[0;32m      6\u001b[0m     in_zone_data\u001b[38;5;241m=\u001b[39mcbg_layer,\n\u001b[0;32m      7\u001b[0m     zone_field\u001b[38;5;241m=\u001b[39mzone_field,\n\u001b[1;32m   (...)\u001b[0m\n\u001b[0;32m     11\u001b[0m     ignore_nodata\u001b[38;5;241m=\u001b[39m\u001b[38;5;124m\"\u001b[39m\u001b[38;5;124mDATA\u001b[39m\u001b[38;5;124m\"\u001b[39m\n\u001b[0;32m     12\u001b[0m )\n",
      "\u001b[1;31mNameError\u001b[0m: name 'output_folder' is not defined"
     ]
    }
   ],
   "source": [
    "# Zonal stats setup\n",
    "zone_field = \"GEOIDFQ\"\n",
    "out_table = os.path.join(output_folder, f\"{raster_name}_{stat_type.lower()}.dbf\")\n",
    "\n",
    "arcpy.sa.ZonalStatisticsAsTable(\n",
    "    in_zone_data=cbg_layer,\n",
    "    zone_field=zone_field,\n",
    "    in_value_raster=raster_path,\n",
    "    out_table=out_table,\n",
    "    statistics_type=stat_type,\n",
    "    ignore_nodata=\"DATA\"\n",
    ")\n"
   ]
  },
  {
   "cell_type": "code",
   "execution_count": null,
   "id": "18c2768e-04ed-4589-85bf-90e8d9b7fd8a",
   "metadata": {},
   "outputs": [],
   "source": []
  }
 ],
 "metadata": {
  "kernelspec": {
   "display_name": "Python 3 (ipykernel)",
   "language": "python",
   "name": "python3"
  },
  "language_info": {
   "codemirror_mode": {
    "name": "ipython",
    "version": 3
   },
   "file_extension": ".py",
   "mimetype": "text/x-python",
   "name": "python",
   "nbconvert_exporter": "python",
   "pygments_lexer": "ipython3",
   "version": "3.11.10"
  }
 },
 "nbformat": 4,
 "nbformat_minor": 5
}
