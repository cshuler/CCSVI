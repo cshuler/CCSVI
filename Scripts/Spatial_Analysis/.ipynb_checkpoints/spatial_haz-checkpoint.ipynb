{
 "cells": [
  {
   "cell_type": "code",
   "execution_count": 1,
   "id": "05d927d3-4769-4595-8aa8-0ad8ec50e4e8",
   "metadata": {},
   "outputs": [],
   "source": [
    "import os\n",
    "import pandas as pd\n",
    "import arcpy\n",
    "import arcpy.mp as mp\n",
    "import re\n",
    "import requests\n",
    "import numpy as np\n",
    "import geopandas\n",
    "from arcpy.sa import *\n",
    "arcpy.CheckOutExtension(\"Spatial\")\n",
    "import random\n",
    "import string"
   ]
  },
  {
   "cell_type": "code",
   "execution_count": null,
   "id": "50c9c1ed-1d7f-4d0a-a1a2-efed930cb343",
   "metadata": {},
   "outputs": [],
   "source": []
  },
  {
   "cell_type": "markdown",
   "id": "2869b75d-ae1a-457e-94ac-f43bcd1f399a",
   "metadata": {},
   "source": [
    "#### Get the path of this notebook and use it to generate path for input shapefile:"
   ]
  },
  {
   "cell_type": "code",
   "execution_count": 2,
   "id": "68a1da9f-739b-43c9-b1f8-7951f64eee05",
   "metadata": {},
   "outputs": [
    {
     "name": "stdout",
     "output_type": "stream",
     "text": [
      "Location of this notebook: C:\\GITHUB\\CCSVI\\Scripts\\Spatial_Analysis\n",
      "Location of CBG SHP: C:\\GITHUB\\CCSVI\\Scripts\\Spatial_Analysis\\input\\cbg_kontur.shp\n",
      "Location for output: C:\\GITHUB\\CCSVI\\Scripts\\Spatial_Analysis\\output\n"
     ]
    }
   ],
   "source": [
    "current_dir = os.getcwd()\n",
    "shapefile_cbg = r\"input\\cbg_kontur.shp\"\n",
    "shapefile_cbg_path = os.path.join(current_dir, shapefile_cbg)\n",
    "output_folder_path = os.path.join(current_dir, \"output\")\n",
    "print(f\"Location of this notebook: {current_dir}\")\n",
    "print(f\"Location of CBG SHP: {shapefile_cbg_path}\")\n",
    "print(f\"Location for output: {output_folder_path}\")"
   ]
  },
  {
   "cell_type": "markdown",
   "id": "407a6fea-a83d-4030-953a-28b272cfbae9",
   "metadata": {},
   "source": [
    "#### Set up ArcPy Workspace:"
   ]
  },
  {
   "cell_type": "code",
   "execution_count": 3,
   "id": "b3ae849a-ba58-44bc-9f87-f1251ffde6cc",
   "metadata": {},
   "outputs": [],
   "source": [
    "arcpy.env.overwriteOutput = True\n",
    "workspace = os.path.dirname(shapefile_cbg_path)\n",
    "arcpy.env.workspace = workspace"
   ]
  },
  {
   "cell_type": "markdown",
   "id": "7a434ed8-bee9-4df8-90b7-322bcf201c96",
   "metadata": {},
   "source": [
    "#### Load shapefile into a layer and check spatial reference etc:"
   ]
  },
  {
   "cell_type": "code",
   "execution_count": 4,
   "id": "72d5c9ae-d80f-4fef-8627-623d0c8f0b54",
   "metadata": {},
   "outputs": [
    {
     "name": "stdout",
     "output_type": "stream",
     "text": [
      "Layer cbg_layer info:\n",
      "\n",
      "Shape type: Polygon\n",
      "Spatial reference: WGS_1984_Web_Mercator_Auxiliary_Sphere\n",
      "Number of features: 1057\n",
      "\n",
      "Field List: ['FID', 'Shape', 'GEOID', 'GEO_ID', 'GEOIDFQ', 'STATEFP', 'COUNTYFP', 'TRACTCE', 'BLKGRPCE', 'NAMELSAD', 'P1_001N', 'trim_acres', 'pop_per_ac', 'pop_sqkm', 'Shape_Leng', 'Shape_Area', 'whole_bg_a', 'whole_bg_s', 'trim_bg_ac', 'trim_bg_sq', 'rainavgin']\n"
     ]
    }
   ],
   "source": [
    "cbg_layer = shapefile_cbg_path\n",
    "desc = arcpy.Describe(cbg_layer)\n",
    "fields = [f.name for f in arcpy.ListFields(cbg_layer)]\n",
    "count = arcpy.management.GetCount(cbg_layer)\n",
    "print(\"Layer cbg_layer info:\\n\")\n",
    "print(\"Shape type:\", desc.shapeType)\n",
    "print(\"Spatial reference:\", desc.spatialReference.name)\n",
    "print(f\"Number of features: {count[0]}\\n\")\n",
    "print(f\"Field List: {fields}\")\n"
   ]
  },
  {
   "cell_type": "markdown",
   "id": "3549f9ff-1553-4307-9186-a4dae89597c3",
   "metadata": {},
   "source": [
    "#### Define location/name of raster for analysis and fieldname to put resulting value into:"
   ]
  },
  {
   "cell_type": "code",
   "execution_count": 5,
   "id": "0809e95e-9a6b-4390-bf4c-ccd014b817b7",
   "metadata": {},
   "outputs": [],
   "source": [
    "#raster_path = os.path.join(workspace, r\"environmental\\staterf_inann.tif\")\n",
    "raster_path = os.path.join(workspace, r\"environmental\\igtn_prob_test.tif\")\n",
    "stat_type = \"MAXIMUM\"  # other options: \"MEAN\", \"MAX\", \"MIN\", \"SUM\", etc.\n",
    "\n",
    "# Create field name using raster base name and stat type\n",
    "raster_name = os.path.splitext(os.path.basename(raster_path))[0]\n",
    "output_field = f\"{raster_name}_{stat_type.lower()}\"\n"
   ]
  },
  {
   "cell_type": "code",
   "execution_count": null,
   "id": "772f961d-8eb1-4fc3-b36c-d388faeeca81",
   "metadata": {
    "scrolled": true
   },
   "outputs": [],
   "source": []
  },
  {
   "cell_type": "markdown",
   "id": "002a5774-07d1-4ff4-a76c-9652a2226afc",
   "metadata": {},
   "source": [
    "#### Do Zonal Statistics and put output into DBF named similarly to the raster in an OUTPUT folder:"
   ]
  },
  {
   "cell_type": "code",
   "execution_count": 6,
   "id": "da487fac-bfed-45f4-b521-bef7de5e84ff",
   "metadata": {},
   "outputs": [],
   "source": [
    "output_folder = os.path.join(current_dir, \"output\")\n",
    "os.makedirs(output_folder, exist_ok=True)"
   ]
  },
  {
   "cell_type": "code",
   "execution_count": 7,
   "id": "25a04d19-5d9b-4b4d-a89f-895a9f94064d",
   "metadata": {},
   "outputs": [
    {
     "data": {
      "text/html": [
       "<div class='gpresult'><h2 class='msg-title'>Messages</h2><div id='messages'>Start Time: Tuesday, May 13, 2025 1:12:53 PM<br>Value raster being used as snap raster; this is new default behavior.<br>WARNING 010566: Some zones may not have been rasterized.<br>Succeeded at Tuesday, May 13, 2025 1:12:54 PM (Elapsed Time: 1.12 seconds)<br></div><div id = 'default' /></div></div>"
      ],
      "text/plain": [
       "<Result 'C:\\\\GITHUB\\\\CCSVI\\\\Scripts\\\\Spatial_Analysis\\\\output\\\\igtn_prob_test_maximum.dbf'>"
      ]
     },
     "execution_count": 7,
     "metadata": {},
     "output_type": "execute_result"
    }
   ],
   "source": [
    "# Zonal stats setup\n",
    "zone_field_ident = \"GEOIDFQ\"\n",
    "out_table_path = os.path.join(output_folder, f\"{raster_name}_{stat_type.lower()}.dbf\")\n",
    "\n",
    "arcpy.sa.ZonalStatisticsAsTable(\n",
    "    in_zone_data=cbg_layer,\n",
    "    zone_field=zone_field_ident,\n",
    "    in_value_raster=raster_path,\n",
    "    out_table=out_table_path,\n",
    "    statistics_type=stat_type,\n",
    "    ignore_nodata=\"DATA\"\n",
    ")\n"
   ]
  },
  {
   "cell_type": "markdown",
   "id": "e0f35b1f-e6c5-4062-ad08-fce6f33087ca",
   "metadata": {},
   "source": [
    "#### Convert DBF to CSV:"
   ]
  },
  {
   "cell_type": "raw",
   "id": "2b58e94e-a404-4868-8e3e-971def369a13",
   "metadata": {},
   "source": [
    "csv_output = os.path.join(output_folder, f\"{raster_name}_{stat_type.lower()}.csv\")\n",
    "df = pd.read_csv(out_table_path)\n",
    "df[[zone_field, stat_type.upper()]].to_csv(csv_output, index=False)\n",
    "\n",
    "print(f\"Zonal statistics CSV saved to: {csv_output}\")"
   ]
  },
  {
   "cell_type": "code",
   "execution_count": null,
   "id": "8d39432b-f560-49d8-93fc-5404fb9c8bf1",
   "metadata": {},
   "outputs": [],
   "source": []
  }
 ],
 "metadata": {
  "kernelspec": {
   "display_name": "Python 3 (ipykernel)",
   "language": "python",
   "name": "python3"
  },
  "language_info": {
   "codemirror_mode": {
    "name": "ipython",
    "version": 3
   },
   "file_extension": ".py",
   "mimetype": "text/x-python",
   "name": "python",
   "nbconvert_exporter": "python",
   "pygments_lexer": "ipython3",
   "version": "3.11.10"
  }
 },
 "nbformat": 4,
 "nbformat_minor": 5
}
