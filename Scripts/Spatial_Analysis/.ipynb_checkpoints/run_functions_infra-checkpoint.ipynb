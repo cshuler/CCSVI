{
 "cells": [
  {
   "cell_type": "code",
   "execution_count": 1,
   "id": "f70ded63-4e1c-4d54-932c-40fa8d5cc588",
   "metadata": {},
   "outputs": [
    {
     "name": "stdout",
     "output_type": "stream",
     "text": [
      "Johann's spatial functions loaded successfully!\n"
     ]
    }
   ],
   "source": [
    "import os\n",
    "import re\n",
    "import random\n",
    "import string\n",
    "import requests\n",
    "\n",
    "import numpy as np\n",
    "import pandas as pd\n",
    "import geopandas as gpd\n",
    "\n",
    "import arcpy\n",
    "import arcpy.sa as sa\n",
    "import arcpy.mp as mp\n",
    "arcpy.CheckOutExtension(\"Spatial\")\n",
    "\n",
    "import time\n",
    "\n",
    "import jpl_spatial"
   ]
  },
  {
   "cell_type": "markdown",
   "id": "6bc41cab-bd93-4d95-9db9-f3f04857cd55",
   "metadata": {},
   "source": [
    "#### Get the path of this notebook and use it to generate path for input shapefile:"
   ]
  },
  {
   "cell_type": "code",
   "execution_count": 2,
   "id": "b867af14-64d6-47d7-8973-f9c770f99c24",
   "metadata": {},
   "outputs": [
    {
     "name": "stdout",
     "output_type": "stream",
     "text": [
      "Location of this notebook: C:\\GITHUB\\CCSVI\\Scripts\\Spatial_Analysis\n",
      "Location of CBG SHP: C:\\GITHUB\\CCSVI\\Scripts\\Spatial_Analysis\\input\\cbg_kontur.shp\n",
      "Location for output: C:\\GITHUB\\CCSVI\\Scripts\\Spatial_Analysis\\outputinfrastructure\n"
     ]
    }
   ],
   "source": [
    "current_dir = os.getcwd()\n",
    "shapefile_cbg = r\"input\\cbg_kontur.shp\"\n",
    "shapefile_cbg_path = os.path.join(current_dir, shapefile_cbg)\n",
    "output_folder = os.path.join(current_dir, \"outputinfrastructure\")\n",
    "\n",
    "print(f\"Location of this notebook: {current_dir}\")\n",
    "print(f\"Location of CBG SHP: {shapefile_cbg_path}\")\n",
    "print(f\"Location for output: {output_folder}\")"
   ]
  },
  {
   "cell_type": "markdown",
   "id": "3c1bfee9-acb3-45a5-a427-7998379f0cd2",
   "metadata": {},
   "source": [
    "#### Define output folder and temp folder and CREATE if don't exist. Then clean it in case it has files already:"
   ]
  },
  {
   "cell_type": "code",
   "execution_count": 3,
   "id": "50b70a90-6627-4455-8481-2954026f188a",
   "metadata": {},
   "outputs": [],
   "source": [
    "os.makedirs(output_folder, exist_ok=True)\n",
    "jpl_spatial.func_clean_folder(output_folder)\n",
    "temp_folder = os.path.join(output_folder, \"temp\")\n",
    "os.makedirs(temp_folder, exist_ok=True)\n",
    "jpl_spatial.func_clean_folder(temp_folder)"
   ]
  },
  {
   "cell_type": "markdown",
   "id": "5a39a7e8-5883-4ca3-99e2-eb52d1847116",
   "metadata": {},
   "source": [
    "#### The following lines run the zonal statistics function for each raster independently.\n",
    "#### The outputs are all generated as DBF files with names originating from the rasters.\n",
    "#### As many of these lines can be added as necessary, just change the inputs for the appropriate raster and statistic:"
   ]
  },
  {
   "cell_type": "code",
   "execution_count": 4,
   "id": "67b6e0f9-1083-49fe-ad64-c4748021817f",
   "metadata": {},
   "outputs": [
    {
     "data": {
      "text/plain": [
       "'C:\\\\GITHUB\\\\CCSVI\\\\Scripts\\\\Spatial_Analysis\\\\outputinfrastructure\\\\temp\\\\emergency_shelters_count.shp'"
      ]
     },
     "execution_count": 4,
     "metadata": {},
     "output_type": "execute_result"
    }
   ],
   "source": [
    "jpl_spatial.func_spatialcount(shapefile_cbg_path, \"GEOIDFQ\", r\"C:\\GITHUB\\CCSVI\\Scripts\\Spatial_Analysis\\input\\facilities\\emergency_shelters.shp\", output_folder, \"0.0 miles\")"
   ]
  },
  {
   "cell_type": "code",
   "execution_count": 5,
   "id": "78b88460-7bd7-4c31-a78f-117c4e720cce",
   "metadata": {},
   "outputs": [
    {
     "data": {
      "text/plain": [
       "'C:\\\\GITHUB\\\\CCSVI\\\\Scripts\\\\Spatial_Analysis\\\\outputinfrastructure\\\\temp\\\\wastewater_plants_count.shp'"
      ]
     },
     "execution_count": 5,
     "metadata": {},
     "output_type": "execute_result"
    }
   ],
   "source": [
    "jpl_spatial.func_spatialcount(shapefile_cbg_path, \"GEOIDFQ\", r\"C:\\GITHUB\\CCSVI\\Scripts\\Spatial_Analysis\\input\\facilities\\wastewater_plants.shp\", output_folder, \"0.0 miles\")"
   ]
  },
  {
   "cell_type": "code",
   "execution_count": 6,
   "id": "920a4b46-803b-49b6-b568-347ccc0f81d1",
   "metadata": {},
   "outputs": [
    {
     "data": {
      "text/plain": [
       "'C:\\\\GITHUB\\\\CCSVI\\\\Scripts\\\\Spatial_Analysis\\\\outputinfrastructure\\\\temp\\\\police_stations_count.shp'"
      ]
     },
     "execution_count": 6,
     "metadata": {},
     "output_type": "execute_result"
    }
   ],
   "source": [
    "jpl_spatial.func_spatialcount(shapefile_cbg_path, \"GEOIDFQ\", r\"C:\\GITHUB\\CCSVI\\Scripts\\Spatial_Analysis\\input\\facilities\\police_stations.shp\", output_folder, \"0.0 miles\")"
   ]
  },
  {
   "cell_type": "code",
   "execution_count": 7,
   "id": "bc03a53c-45ea-4db8-bcee-dc5f6e69f9a6",
   "metadata": {},
   "outputs": [
    {
     "data": {
      "text/plain": [
       "'C:\\\\GITHUB\\\\CCSVI\\\\Scripts\\\\Spatial_Analysis\\\\outputinfrastructure\\\\temp\\\\fire_stations_count.shp'"
      ]
     },
     "execution_count": 7,
     "metadata": {},
     "output_type": "execute_result"
    }
   ],
   "source": [
    "jpl_spatial.func_spatialcount(shapefile_cbg_path, \"GEOIDFQ\", r\"C:\\GITHUB\\CCSVI\\Scripts\\Spatial_Analysis\\input\\facilities\\fire_stations.shp\", output_folder, \"0.0 miles\")"
   ]
  },
  {
   "cell_type": "code",
   "execution_count": null,
   "id": "73f78fc0-1a64-4163-aba3-c9f4c688b6fe",
   "metadata": {},
   "outputs": [],
   "source": [
    "jpl_spatial.func_spatialcount(shapefile_cbg_path, \"GEOIDFQ\", r\"C:\\GITHUB\\CCSVI\\Scripts\\Spatial_Analysis\\input\\infrastructure\\onesite_sewage_disposal.shp\", output_folder, \"0.0 miles\")"
   ]
  },
  {
   "cell_type": "code",
   "execution_count": 8,
   "id": "a1adf52e-5ebd-4c66-856d-92fd8caa679b",
   "metadata": {},
   "outputs": [
    {
     "data": {
      "text/plain": [
       "'C:\\\\GITHUB\\\\CCSVI\\\\Scripts\\\\Spatial_Analysis\\\\outputinfrastructure\\\\combined_infrastructure_stats.csv'"
      ]
     },
     "execution_count": 8,
     "metadata": {},
     "output_type": "execute_result"
    }
   ],
   "source": [
    "jpl_spatial.func_combine_tables(temp_folder,output_folder, \"GEOIDFQ\", \"combined_infrastructure_stats.csv\")\n"
   ]
  }
 ],
 "metadata": {
  "kernelspec": {
   "display_name": "Python 3 (ipykernel)",
   "language": "python",
   "name": "python3"
  },
  "language_info": {
   "codemirror_mode": {
    "name": "ipython",
    "version": 3
   },
   "file_extension": ".py",
   "mimetype": "text/x-python",
   "name": "python",
   "nbconvert_exporter": "python",
   "pygments_lexer": "ipython3",
   "version": "3.11.10"
  }
 },
 "nbformat": 4,
 "nbformat_minor": 5
}
