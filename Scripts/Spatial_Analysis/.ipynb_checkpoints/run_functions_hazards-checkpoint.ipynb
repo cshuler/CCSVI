{
 "cells": [
  {
   "cell_type": "code",
   "execution_count": 1,
   "id": "f70ded63-4e1c-4d54-932c-40fa8d5cc588",
   "metadata": {},
   "outputs": [
    {
     "name": "stdout",
     "output_type": "stream",
     "text": [
      "Johann's spatial functions loaded successfully!\n"
     ]
    }
   ],
   "source": [
    "import os\n",
    "import re\n",
    "import random\n",
    "import string\n",
    "import requests\n",
    "\n",
    "import numpy as np\n",
    "import pandas as pd\n",
    "import geopandas as gpd\n",
    "\n",
    "import arcpy\n",
    "import arcpy.sa as sa\n",
    "import arcpy.mp as mp\n",
    "arcpy.CheckOutExtension(\"Spatial\")\n",
    "\n",
    "import time\n",
    "\n",
    "import jpl_spatial"
   ]
  },
  {
   "cell_type": "markdown",
   "id": "6bc41cab-bd93-4d95-9db9-f3f04857cd55",
   "metadata": {},
   "source": [
    "#### Get the path of this notebook and use it to generate path for input shapefile:"
   ]
  },
  {
   "cell_type": "code",
   "execution_count": 2,
   "id": "b867af14-64d6-47d7-8973-f9c770f99c24",
   "metadata": {},
   "outputs": [
    {
     "name": "stdout",
     "output_type": "stream",
     "text": [
      "Location of this notebook: C:\\GITHUB\\CCSVI\\Scripts\\Spatial_Analysis\n",
      "Location of CBG SHP: C:\\GITHUB\\CCSVI\\Scripts\\Spatial_Analysis\\input\\cbg_kontur.shp\n",
      "Location for output: C:\\GITHUB\\CCSVI\\Scripts\\Spatial_Analysis\\outputhazards\n"
     ]
    }
   ],
   "source": [
    "current_dir = os.getcwd()\n",
    "shapefile_cbg = r\"input\\cbg_kontur.shp\"\n",
    "shapefile_cbg_path = os.path.join(current_dir, shapefile_cbg)\n",
    "output_folder = os.path.join(current_dir, \"outputhazards\")\n",
    "\n",
    "print(f\"Location of this notebook: {current_dir}\")\n",
    "print(f\"Location of CBG SHP: {shapefile_cbg_path}\")\n",
    "print(f\"Location for output: {output_folder}\")"
   ]
  },
  {
   "cell_type": "markdown",
   "id": "3c1bfee9-acb3-45a5-a427-7998379f0cd2",
   "metadata": {},
   "source": [
    "#### Define output folder and temp folder and CREATE if don't exist. Then clean it in case it has files already:"
   ]
  },
  {
   "cell_type": "code",
   "execution_count": 3,
   "id": "50b70a90-6627-4455-8481-2954026f188a",
   "metadata": {},
   "outputs": [],
   "source": [
    "os.makedirs(output_folder, exist_ok=True)\n",
    "jpl_spatial.func_clean_folder(output_folder)\n",
    "temp_folder = os.path.join(output_folder, \"temp\")\n",
    "os.makedirs(temp_folder, exist_ok=True)\n",
    "jpl_spatial.func_clean_folder(temp_folder)"
   ]
  },
  {
   "cell_type": "markdown",
   "id": "5a39a7e8-5883-4ca3-99e2-eb52d1847116",
   "metadata": {},
   "source": [
    "#### The following lines run the zonal statistics function for each raster independently.\n",
    "#### The outputs are all generated as DBF files with names originating from the rasters.\n",
    "#### As many of these lines can be added as necessary, just change the inputs for the appropriate raster and statistic:"
   ]
  },
  {
   "cell_type": "code",
   "execution_count": 4,
   "id": "0d65e728-50a1-4edc-bde2-faf21d838370",
   "metadata": {},
   "outputs": [
    {
     "data": {
      "text/plain": [
       "'C:\\\\GITHUB\\\\CCSVI\\\\Scripts\\\\Spatial_Analysis\\\\outputhazards\\\\temp\\\\staterf_inann_mean.dbf'"
      ]
     },
     "execution_count": 4,
     "metadata": {},
     "output_type": "execute_result"
    }
   ],
   "source": [
    "jpl_spatial.func_zonal_stats(shapefile_cbg_path, \"GEOIDFQ\", r\"C:\\GITHUB\\CCSVI\\Scripts\\Spatial_Analysis\\input\\environmental\\staterf_inann.tif\", output_folder, \"MEAN\")"
   ]
  },
  {
   "cell_type": "code",
   "execution_count": 5,
   "id": "6ed324ab-ab96-423c-8d7f-6c33b72c9157",
   "metadata": {},
   "outputs": [
    {
     "data": {
      "text/plain": [
       "'C:\\\\GITHUB\\\\CCSVI\\\\Scripts\\\\Spatial_Analysis\\\\outputhazards\\\\temp\\\\igtn_prob_test_maximum.dbf'"
      ]
     },
     "execution_count": 5,
     "metadata": {},
     "output_type": "execute_result"
    }
   ],
   "source": [
    "jpl_spatial.func_zonal_stats(shapefile_cbg_path, \"GEOIDFQ\", r\"C:\\GITHUB\\CCSVI\\Scripts\\Spatial_Analysis\\input\\environmental\\igtn_prob_test.tif\", output_folder, \"MAXIMUM\")"
   ]
  },
  {
   "cell_type": "code",
   "execution_count": 6,
   "id": "0f859138-41af-4894-a842-fea81f61e936",
   "metadata": {},
   "outputs": [
    {
     "data": {
      "text/plain": [
       "'C:\\\\GITHUB\\\\CCSVI\\\\Scripts\\\\Spatial_Analysis\\\\outputhazards\\\\temp\\\\n10_landslide_susc_maximum.dbf'"
      ]
     },
     "execution_count": 6,
     "metadata": {},
     "output_type": "execute_result"
    }
   ],
   "source": [
    "jpl_spatial.func_zonal_stats(shapefile_cbg_path, \"GEOIDFQ\", r\"C:\\GITHUB\\CCSVI\\Scripts\\Spatial_Analysis\\input\\environmental\\n10_landslide_susc.tif\", output_folder, \"MAXIMUM\")"
   ]
  },
  {
   "cell_type": "code",
   "execution_count": 7,
   "id": "15bc9a3a-9d91-4ca5-898c-9d89af1ba29d",
   "metadata": {},
   "outputs": [
    {
     "data": {
      "text/plain": [
       "'C:\\\\GITHUB\\\\CCSVI\\\\Scripts\\\\Spatial_Analysis\\\\outputhazards\\\\temp\\\\cat4_mom_slosh_hightide_maximum.dbf'"
      ]
     },
     "execution_count": 7,
     "metadata": {},
     "output_type": "execute_result"
    }
   ],
   "source": [
    "jpl_spatial.func_zonal_stats(shapefile_cbg_path, \"GEOIDFQ\", r\"C:\\GITHUB\\CCSVI\\Scripts\\Spatial_Analysis\\input\\environmental\\cat4_mom_slosh_hightide.tif\", output_folder, \"MAXIMUM\")"
   ]
  },
  {
   "cell_type": "code",
   "execution_count": 8,
   "id": "abbd6430-c560-46e0-aa6e-cad11e930f98",
   "metadata": {},
   "outputs": [
    {
     "data": {
      "text/plain": [
       "'C:\\\\GITHUB\\\\CCSVI\\\\Scripts\\\\Spatial_Analysis\\\\outputhazards\\\\temp\\\\slrxa_3pt2ft_acres.shp'"
      ]
     },
     "execution_count": 8,
     "metadata": {},
     "output_type": "execute_result"
    }
   ],
   "source": [
    "jpl_spatial.func_vector_acres(shapefile_cbg_path, \"GEOIDFQ\", r\"C:\\GITHUB\\CCSVI\\Scripts\\Spatial_Analysis\\input\\environmental\\slrxa_3pt2ft.shp\", output_folder)"
   ]
  },
  {
   "cell_type": "code",
   "execution_count": 10,
   "id": "273d36d5-d716-477a-a13c-9bfc587e6db6",
   "metadata": {},
   "outputs": [
    {
     "data": {
      "text/plain": [
       "'C:\\\\GITHUB\\\\CCSVI\\\\Scripts\\\\Spatial_Analysis\\\\outputhazards\\\\temp\\\\FEMA_SFHA_intersect.dbf'"
      ]
     },
     "execution_count": 10,
     "metadata": {},
     "output_type": "execute_result"
    }
   ],
   "source": [
    "jpl_spatial.func_vector_match(shapefile_cbg_path, \"GEOIDFQ\", r\"C:\\GITHUB\\CCSVI\\Scripts\\Spatial_Analysis\\input\\environmental\\FEMA_SFHA.shp\", output_folder, \"INTERSECT\")"
   ]
  },
  {
   "cell_type": "code",
   "execution_count": 9,
   "id": "a1adf52e-5ebd-4c66-856d-92fd8caa679b",
   "metadata": {},
   "outputs": [
    {
     "data": {
      "text/plain": [
       "'C:\\\\GITHUB\\\\CCSVI\\\\Scripts\\\\Spatial_Analysis\\\\outputhazards\\\\combined_zonal_stats.csv'"
      ]
     },
     "execution_count": 9,
     "metadata": {},
     "output_type": "execute_result"
    }
   ],
   "source": [
    "jpl_spatial.func_combine_tables(temp_folder,output_folder, \"GEOIDFQ\", \"combined_hazard_stats.csv\")\n"
   ]
  },
  {
   "cell_type": "code",
   "execution_count": null,
   "id": "67b6e0f9-1083-49fe-ad64-c4748021817f",
   "metadata": {},
   "outputs": [],
   "source": []
  }
 ],
 "metadata": {
  "kernelspec": {
   "display_name": "Python 3 (ipykernel)",
   "language": "python",
   "name": "python3"
  },
  "language_info": {
   "codemirror_mode": {
    "name": "ipython",
    "version": 3
   },
   "file_extension": ".py",
   "mimetype": "text/x-python",
   "name": "python",
   "nbconvert_exporter": "python",
   "pygments_lexer": "ipython3",
   "version": "3.11.10"
  }
 },
 "nbformat": 4,
 "nbformat_minor": 5
}
