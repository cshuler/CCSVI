{
 "cells": [
  {
   "cell_type": "code",
   "execution_count": 1,
   "id": "05d927d3-4769-4595-8aa8-0ad8ec50e4e8",
   "metadata": {},
   "outputs": [
    {
     "data": {
      "text/plain": [
       "'CheckedOut'"
      ]
     },
     "execution_count": 1,
     "metadata": {},
     "output_type": "execute_result"
    }
   ],
   "source": [
    "import os\n",
    "import re\n",
    "import random\n",
    "import string\n",
    "import requests\n",
    "\n",
    "import numpy as np\n",
    "import pandas as pd\n",
    "import geopandas as gpd\n",
    "\n",
    "import arcpy\n",
    "import arcpy.sa as sa\n",
    "import arcpy.mp as mp\n",
    "arcpy.CheckOutExtension(\"Spatial\")"
   ]
  },
  {
   "cell_type": "markdown",
   "id": "52d5d5d5-9462-4a9c-83e3-8fdb1759e1c7",
   "metadata": {},
   "source": [
    "#### Define a function to run zonal statistics. The variables are:  \n",
    "##### zone_fc - feature class to act as the aggregator, for us that's trimmed CBG polygons  \n",
    "##### zone_field - the field that acts as a unique identifier, for us that will be GEOIDFQ  \n",
    "##### raster_path - the path to the raster file used for the analysis\n",
    "##### output_folder - the path to the output folder for the DBF file containing statistics\n",
    "##### stat_type - the type of statistics, MEAN, MAXIMUM, MINIMUM, etc  \n",
    "#####\n",
    "#### Coordinate system must match between polygon and rasters being analyzed!!"
   ]
  },
  {
   "cell_type": "code",
   "execution_count": 2,
   "id": "a10b8d9a-ab8b-4c71-95bc-7ee3fde72e58",
   "metadata": {},
   "outputs": [],
   "source": [
    "def func_zonal_stats(zone_fc, zone_field, raster_path, output_folder, stat_type):\n",
    "    import os\n",
    "    import arcpy\n",
    "    import arcpy.sa as sa\n",
    "    arcpy.CheckOutExtension(\"Spatial\")\n",
    "    arcpy.env.overwriteOutput = True\n",
    "\n",
    "    # Sanitize raster base name for use in DBF field/table names (max 8 chars is safest for DBF)\n",
    "    raster_base = os.path.splitext(os.path.basename(raster_path))[0]\n",
    "    raster_base_clean = raster_base.replace(\" \", \"_\")[:32]  # Max safe length for filename\n",
    "    stat_type_clean = stat_type.lower()\n",
    "\n",
    "    out_table_name = f\"{raster_base_clean}_{stat_type_clean}.dbf\"\n",
    "    out_table_path = os.path.join(output_folder, out_table_name)\n",
    "\n",
    "    # Run zonal statistics\n",
    "    sa.ZonalStatisticsAsTable(\n",
    "        in_zone_data=zone_fc,\n",
    "        zone_field=zone_field,\n",
    "        in_value_raster=raster_path,\n",
    "        out_table=out_table_path,\n",
    "        statistics_type=stat_type,\n",
    "        ignore_nodata=\"DATA\"\n",
    "    )\n",
    "    \n",
    "    return out_table_path  # return path to the table so you can print for confirmation"
   ]
  },
  {
   "cell_type": "code",
   "execution_count": 3,
   "id": "4ba67ea6-196a-4242-b508-c7c7a5d3570f",
   "metadata": {},
   "outputs": [],
   "source": [
    "def func_vector_match(zone_fc, zone_field, vector_path, output_folder, match_type):\n",
    "    import os\n",
    "    import arcpy\n",
    "    arcpy.env.overwriteOutput = True\n",
    "\n",
    "    # Sanitize base name\n",
    "    vector_base = os.path.splitext(os.path.basename(vector_path))[0]\n",
    "    vector_base_clean = vector_base.replace(\" \", \"_\")[:32]\n",
    "    match_type_clean = match_type.lower()\n",
    "\n",
    "    # Output table name\n",
    "    out_table_name = f\"{vector_base_clean}_{match_type_clean}.dbf\"\n",
    "    out_table_path = os.path.join(output_folder, out_table_name)\n",
    "\n",
    "    # Create feature layers\n",
    "    zone_layer = \"zone_layer\"\n",
    "    vector_layer = \"vector_layer\"\n",
    "    arcpy.MakeFeatureLayer_management(zone_fc, zone_layer)\n",
    "    arcpy.MakeFeatureLayer_management(vector_path, vector_layer)\n",
    "\n",
    "    # Perform spatial join\n",
    "    temp_join = \"in_memory/temp_join\"\n",
    "    arcpy.analysis.SpatialJoin(\n",
    "        target_features=zone_layer,\n",
    "        join_features=vector_layer,\n",
    "        out_feature_class=temp_join,\n",
    "        join_operation=\"JOIN_ONE_TO_ONE\",\n",
    "        join_type=\"KEEP_ALL\",\n",
    "        match_option=match_type.upper()  # INTERSECT, WITHIN, CONTAINS, etc.\n",
    "    )\n",
    "\n",
    "    # Add a binary 1/0 field indicating presence/absence of match\n",
    "    fieldname_short = f\"{match_type_clean}\"[:10]  # Ensure DBF-safe\n",
    "    arcpy.management.AddField(temp_join, fieldname_short, \"SHORT\")\n",
    "\n",
    "    # Determine if match occurred by checking for nulls in join fields\n",
    "    arcpy.management.CalculateField(\n",
    "        in_table=temp_join,\n",
    "        field=fieldname_short,\n",
    "        expression=\"0 if !Join_Count! is None or !Join_Count! == 0 else 1\",\n",
    "        expression_type=\"PYTHON3\"\n",
    "    )\n",
    "\n",
    "    # Export table\n",
    "    arcpy.conversion.TableToTable(temp_join, output_folder, out_table_name)\n",
    "\n",
    "    return out_table_path"
   ]
  },
  {
   "cell_type": "code",
   "execution_count": 4,
   "id": "c159afa2-0797-47c0-a2b8-5afd2605aca6",
   "metadata": {},
   "outputs": [],
   "source": [
    "def func_vector_percent_overlap(zone_fc, zone_field, vector_path, output_folder, match_type):\n",
    "    import os\n",
    "    import arcpy\n",
    "\n",
    "    arcpy.env.overwriteOutput = True\n",
    "    arcpy.CheckOutExtension(\"Spatial\")\n",
    "\n",
    "    # Clean and shorten names for DBF-safe output\n",
    "    vector_base = os.path.splitext(os.path.basename(vector_path))[0]\n",
    "    vector_base_clean = vector_base.replace(\" \", \"_\")[:32]\n",
    "    match_type_clean = match_type.upper()\n",
    "\n",
    "    # Prepare file names\n",
    "    out_table_name = f\"{vector_base_clean}_pct.dbf\"\n",
    "    out_table_path = os.path.join(output_folder, out_table_name)\n",
    "\n",
    "    # Intermediate outputs\n",
    "    intersect_fc = os.path.join(output_folder, f\"int_{vector_base_clean[:20]}\")\n",
    "    summary_table = os.path.join(output_folder, f\"sum_{vector_base_clean[:20]}.dbf\")\n",
    "\n",
    "    # Step 1: Intersect zones with input vector\n",
    "    arcpy.analysis.Intersect([zone_fc, vector_path], intersect_fc, \"ONLY_FID\")\n",
    "\n",
    "    # Step 2: Add area to intersected features\n",
    "    arcpy.management.AddField(intersect_fc, \"Intersect_Area\", \"DOUBLE\")\n",
    "    arcpy.management.CalculateGeometryAttributes(intersect_fc, [[\"Intersect_Area\", \"AREA\"]])\n",
    "\n",
    "    # Step 3: Add area to zones if not already present\n",
    "    zone_area_field = \"Zone_Area\"\n",
    "    zone_fields = [f.name for f in arcpy.ListFields(zone_fc)]\n",
    "    if zone_area_field not in zone_fields:\n",
    "        arcpy.management.AddField(zone_fc, zone_area_field, \"DOUBLE\")\n",
    "        arcpy.management.CalculateGeometryAttributes(zone_fc, [[zone_area_field, \"AREA\"]])\n",
    "\n",
    "    # Step 4: Summarize intersected areas by zone\n",
    "    arcpy.analysis.Statistics(\n",
    "        in_table=intersect_fc,\n",
    "        out_table=summary_table,\n",
    "        statistics_fields=[[\"Intersect_Area\", \"SUM\"]],\n",
    "        case_field=zone_field\n",
    "    )\n",
    "\n",
    "    # Step 5: Join summary to zone features\n",
    "    temp_join = os.path.join(output_folder, f\"temp_{vector_base_clean[:20]}.dbf\")\n",
    "    arcpy.management.JoinField(zone_fc, zone_field, summary_table, zone_field, [\"SUM_Intersect_Area\"])\n",
    "    arcpy.conversion.TableToTable(zone_fc, output_folder, os.path.basename(temp_join))\n",
    "\n",
    "    # Step 6: Add and calculate percent field\n",
    "    arcpy.management.AddField(temp_join, \"PCT\", \"FLOAT\")\n",
    "    arcpy.management.CalculateField(\n",
    "        temp_join,\n",
    "        \"PCT\",\n",
    "        expression=\"(!SUM_Intersect_Area! / !Zone_Area!) * 100 if !Zone_Area! else 0\",\n",
    "        expression_type=\"PYTHON3\"\n",
    "    )\n",
    "\n",
    "    # Step 7: Export final table\n",
    "    arcpy.conversion.TableToTable(temp_join, output_folder, out_table_name)\n",
    "\n",
    "    return out_table_path"
   ]
  },
  {
   "cell_type": "markdown",
   "id": "4aa35eac-85c1-421d-a69a-6c16c53e3f19",
   "metadata": {},
   "source": [
    "#### Define a function to combine the multiple DBF files into one CSV. The field name in the CSV is taken from the DBF name, which originally was taken from the raster:"
   ]
  },
  {
   "cell_type": "code",
   "execution_count": 5,
   "id": "3656494b-51d5-449f-acb9-0ebf0b9edb3f",
   "metadata": {},
   "outputs": [],
   "source": [
    "def func_combine_tables(output_folder_path):\n",
    "    key_field = \"GEOIDFQ\"\n",
    "    output_csv = \"combined_zonal_stats.csv\"\n",
    "    dbf_files = [f for f in os.listdir(output_folder_path) if f.lower().endswith(\".dbf\")]\n",
    "    merged_df = None\n",
    "\n",
    "    for dbf in dbf_files:\n",
    "        dbf_path = os.path.join(output_folder_path, dbf)\n",
    "        \n",
    "        # Get all non-geometry, non-OID fields\n",
    "        fields = [f.name for f in arcpy.ListFields(dbf_path) if f.type not in (\"Geometry\", \"OID\")]\n",
    "\n",
    "        if key_field not in fields or len(fields) < 2:\n",
    "            continue  # Skip if missing key or only one useful field\n",
    "\n",
    "        stat_field = fields[-1]  # Use rightmost field\n",
    "        table = arcpy.da.TableToNumPyArray(dbf_path, [key_field, stat_field])\n",
    "        df = pd.DataFrame(table)\n",
    "\n",
    "        # Rename stat field to the DBF base name\n",
    "        stat_name = os.path.splitext(dbf)[0]\n",
    "        df = df.rename(columns={stat_field: stat_name})\n",
    "\n",
    "        if merged_df is None:\n",
    "            merged_df = df\n",
    "        else:\n",
    "            merged_df = pd.merge(merged_df, df, on=key_field, how=\"outer\")\n",
    "\n",
    "    # Save combined CSV\n",
    "    if merged_df is not None:\n",
    "        output_csv_path = os.path.join(output_folder_path, output_csv)\n",
    "        merged_df.to_csv(output_csv_path, index=False)\n",
    "        return output_csv_path\n",
    "    else:\n",
    "        raise ValueError(\"No valid DBFs found or no data to merge.\")"
   ]
  },
  {
   "cell_type": "markdown",
   "id": "2869b75d-ae1a-457e-94ac-f43bcd1f399a",
   "metadata": {},
   "source": [
    "#### Get the path of this notebook and use it to generate path for input shapefile:"
   ]
  },
  {
   "cell_type": "code",
   "execution_count": 6,
   "id": "68a1da9f-739b-43c9-b1f8-7951f64eee05",
   "metadata": {},
   "outputs": [
    {
     "name": "stdout",
     "output_type": "stream",
     "text": [
      "Location of this notebook: C:\\GITHUB\\CCSVI\\Scripts\\Spatial_Analysis\n",
      "Location of CBG SHP: C:\\GITHUB\\CCSVI\\Scripts\\Spatial_Analysis\\input\\cbg_kontur.shp\n",
      "Location for output: C:\\GITHUB\\CCSVI\\Scripts\\Spatial_Analysis\\output\n"
     ]
    }
   ],
   "source": [
    "current_dir = os.getcwd()\n",
    "shapefile_cbg = r\"input\\cbg_kontur.shp\"\n",
    "shapefile_cbg_path = os.path.join(current_dir, shapefile_cbg)\n",
    "output_folder_path = os.path.join(current_dir, \"output\")\n",
    "\n",
    "\n",
    "print(f\"Location of this notebook: {current_dir}\")\n",
    "print(f\"Location of CBG SHP: {shapefile_cbg_path}\")\n",
    "print(f\"Location for output: {output_folder_path}\")"
   ]
  },
  {
   "cell_type": "markdown",
   "id": "002a5774-07d1-4ff4-a76c-9652a2226afc",
   "metadata": {},
   "source": [
    "#### Define output folder and create it if it doesn't exist"
   ]
  },
  {
   "cell_type": "code",
   "execution_count": 7,
   "id": "da487fac-bfed-45f4-b521-bef7de5e84ff",
   "metadata": {},
   "outputs": [],
   "source": [
    "output_folder = os.path.join(current_dir, \"output\")\n",
    "os.makedirs(output_folder, exist_ok=True)"
   ]
  },
  {
   "cell_type": "markdown",
   "id": "6ce2e7aa-0164-475b-8176-aa86155afba2",
   "metadata": {},
   "source": [
    "#### The following lines run the zonal statistics function for each raster independently.  \n",
    "#### The outputs are all generated as DBF files with names originating from the rasters.  \n",
    "#### As many of these lines can be added as necessary, just change the inputs for the appropriate raster and statistic:"
   ]
  },
  {
   "cell_type": "code",
   "execution_count": 8,
   "id": "75a94fe2-34a8-47f3-8a17-54d47f203872",
   "metadata": {},
   "outputs": [
    {
     "data": {
      "text/plain": [
       "'C:\\\\GITHUB\\\\CCSVI\\\\Scripts\\\\Spatial_Analysis\\\\output\\\\staterf_inann_mean.dbf'"
      ]
     },
     "execution_count": 8,
     "metadata": {},
     "output_type": "execute_result"
    }
   ],
   "source": [
    "func_zonal_stats(shapefile_cbg_path, \"GEOIDFQ\", r\"C:\\GITHUB\\CCSVI\\Scripts\\Spatial_Analysis\\input\\environmental\\staterf_inann.tif\", output_folder_path, \"MEAN\")\n"
   ]
  },
  {
   "cell_type": "code",
   "execution_count": 9,
   "id": "4a95c393-f5ff-41c7-9bdc-1b36c32816cd",
   "metadata": {},
   "outputs": [
    {
     "data": {
      "text/plain": [
       "'C:\\\\GITHUB\\\\CCSVI\\\\Scripts\\\\Spatial_Analysis\\\\output\\\\igtn_prob_test_maximum.dbf'"
      ]
     },
     "execution_count": 9,
     "metadata": {},
     "output_type": "execute_result"
    }
   ],
   "source": [
    "func_zonal_stats(shapefile_cbg_path, \"GEOIDFQ\", r\"C:\\GITHUB\\CCSVI\\Scripts\\Spatial_Analysis\\input\\environmental\\igtn_prob_test.tif\", output_folder_path, \"MAXIMUM\")"
   ]
  },
  {
   "cell_type": "code",
   "execution_count": 10,
   "id": "abbe8f1f-c6f9-413e-bc60-31b1158af366",
   "metadata": {},
   "outputs": [
    {
     "data": {
      "text/plain": [
       "'C:\\\\GITHUB\\\\CCSVI\\\\Scripts\\\\Spatial_Analysis\\\\output\\\\n10_landslide_susc_maximum.dbf'"
      ]
     },
     "execution_count": 10,
     "metadata": {},
     "output_type": "execute_result"
    }
   ],
   "source": [
    "func_zonal_stats(shapefile_cbg_path, \"GEOIDFQ\", r\"C:\\GITHUB\\CCSVI\\Scripts\\Spatial_Analysis\\input\\environmental\\n10_landslide_susc.tif\", output_folder_path, \"MAXIMUM\")"
   ]
  },
  {
   "cell_type": "code",
   "execution_count": 11,
   "id": "6c7a2705-6acf-4960-88b2-c5beba55cbb6",
   "metadata": {},
   "outputs": [
    {
     "data": {
      "text/plain": [
       "'C:\\\\GITHUB\\\\CCSVI\\\\Scripts\\\\Spatial_Analysis\\\\output\\\\cat4_mom_slosh_hightide_maximum.dbf'"
      ]
     },
     "execution_count": 11,
     "metadata": {},
     "output_type": "execute_result"
    }
   ],
   "source": [
    "func_zonal_stats(shapefile_cbg_path, \"GEOIDFQ\", r\"C:\\GITHUB\\CCSVI\\Scripts\\Spatial_Analysis\\input\\environmental\\cat4_mom_slosh_hightide.tif\", output_folder_path, \"MAXIMUM\")"
   ]
  },
  {
   "cell_type": "code",
   "execution_count": 12,
   "id": "2e777ba5-8ab6-4506-98ac-271266da01da",
   "metadata": {},
   "outputs": [],
   "source": [
    "func_vector_match(shapefile_cbg_path, \"GEOIDFQ\", r\"C:\\GITHUB\\CCSVI\\Scripts\\Spatial_Analysis\\input\\environmental\\slrxa_3pt2ft.shp\", output_folder_path, \"INTERSECT\")"
   ]
  },
  {
   "cell_type": "code",
   "execution_count": 13,
   "id": "f1762f1a-a5fb-44ac-be71-292280402078",
   "metadata": {},
   "outputs": [
    {
     "ename": "ExecuteError",
     "evalue": "Failed to execute. Parameters are not valid.\nERROR 000313: The length of Field Name must not be larger than 10\nFailed to execute (AddField).\n",
     "output_type": "error",
     "traceback": [
      "\u001b[1;31m---------------------------------------------------------------------------\u001b[0m",
      "\u001b[1;31mExecuteError\u001b[0m                              Traceback (most recent call last)",
      "Cell \u001b[1;32mIn[13], line 1\u001b[0m\n\u001b[1;32m----> 1\u001b[0m func_vector_percent_overlap(shapefile_cbg_path, \u001b[38;5;124m\"\u001b[39m\u001b[38;5;124mGEOIDFQ\u001b[39m\u001b[38;5;124m\"\u001b[39m, \u001b[38;5;124mr\u001b[39m\u001b[38;5;124m\"\u001b[39m\u001b[38;5;124mC:\u001b[39m\u001b[38;5;124m\\\u001b[39m\u001b[38;5;124mGITHUB\u001b[39m\u001b[38;5;124m\\\u001b[39m\u001b[38;5;124mCCSVI\u001b[39m\u001b[38;5;124m\\\u001b[39m\u001b[38;5;124mScripts\u001b[39m\u001b[38;5;124m\\\u001b[39m\u001b[38;5;124mSpatial_Analysis\u001b[39m\u001b[38;5;124m\\\u001b[39m\u001b[38;5;124minput\u001b[39m\u001b[38;5;124m\\\u001b[39m\u001b[38;5;124menvironmental\u001b[39m\u001b[38;5;124m\\\u001b[39m\u001b[38;5;124mslrxa_3pt2ft.shp\u001b[39m\u001b[38;5;124m\"\u001b[39m, output_folder_path, \u001b[38;5;124m\"\u001b[39m\u001b[38;5;124mPERCENT\u001b[39m\u001b[38;5;124m\"\u001b[39m)\n",
      "Cell \u001b[1;32mIn[4], line 25\u001b[0m, in \u001b[0;36mfunc_vector_percent_overlap\u001b[1;34m(zone_fc, zone_field, vector_path, output_folder, match_type)\u001b[0m\n\u001b[0;32m     22\u001b[0m arcpy\u001b[38;5;241m.\u001b[39manalysis\u001b[38;5;241m.\u001b[39mIntersect([zone_fc, vector_path], intersect_fc, \u001b[38;5;124m\"\u001b[39m\u001b[38;5;124mONLY_FID\u001b[39m\u001b[38;5;124m\"\u001b[39m)\n\u001b[0;32m     24\u001b[0m \u001b[38;5;66;03m# Step 2: Add area to intersected features\u001b[39;00m\n\u001b[1;32m---> 25\u001b[0m arcpy\u001b[38;5;241m.\u001b[39mmanagement\u001b[38;5;241m.\u001b[39mAddField(intersect_fc, \u001b[38;5;124m\"\u001b[39m\u001b[38;5;124mIntersect_Area\u001b[39m\u001b[38;5;124m\"\u001b[39m, \u001b[38;5;124m\"\u001b[39m\u001b[38;5;124mDOUBLE\u001b[39m\u001b[38;5;124m\"\u001b[39m)\n\u001b[0;32m     26\u001b[0m arcpy\u001b[38;5;241m.\u001b[39mmanagement\u001b[38;5;241m.\u001b[39mCalculateGeometryAttributes(intersect_fc, [[\u001b[38;5;124m\"\u001b[39m\u001b[38;5;124mIntersect_Area\u001b[39m\u001b[38;5;124m\"\u001b[39m, \u001b[38;5;124m\"\u001b[39m\u001b[38;5;124mAREA\u001b[39m\u001b[38;5;124m\"\u001b[39m]])\n\u001b[0;32m     28\u001b[0m \u001b[38;5;66;03m# Step 3: Add area to zones if not already present\u001b[39;00m\n",
      "File \u001b[1;32mC:\\Program Files\\ArcGIS\\Pro\\Resources\\ArcPy\\arcpy\\management.py:7845\u001b[0m, in \u001b[0;36mAddField\u001b[1;34m(in_table, field_name, field_type, field_precision, field_scale, field_length, field_alias, field_is_nullable, field_is_required, field_domain)\u001b[0m\n\u001b[0;32m   7843\u001b[0m     \u001b[38;5;28;01mreturn\u001b[39;00m retval\n\u001b[0;32m   7844\u001b[0m \u001b[38;5;28;01mexcept\u001b[39;00m \u001b[38;5;167;01mException\u001b[39;00m \u001b[38;5;28;01mas\u001b[39;00m e:\n\u001b[1;32m-> 7845\u001b[0m     \u001b[38;5;28;01mraise\u001b[39;00m e\n",
      "File \u001b[1;32mC:\\Program Files\\ArcGIS\\Pro\\Resources\\ArcPy\\arcpy\\management.py:7825\u001b[0m, in \u001b[0;36mAddField\u001b[1;34m(in_table, field_name, field_type, field_precision, field_scale, field_length, field_alias, field_is_nullable, field_is_required, field_domain)\u001b[0m\n\u001b[0;32m   7821\u001b[0m \u001b[38;5;28;01mfrom\u001b[39;00m \u001b[38;5;21;01marcpy\u001b[39;00m\u001b[38;5;21;01m.\u001b[39;00m\u001b[38;5;21;01marcobjects\u001b[39;00m\u001b[38;5;21;01m.\u001b[39;00m\u001b[38;5;21;01marcobjectconversion\u001b[39;00m \u001b[38;5;28;01mimport\u001b[39;00m convertArcObjectToPythonObject\n\u001b[0;32m   7823\u001b[0m \u001b[38;5;28;01mtry\u001b[39;00m:\n\u001b[0;32m   7824\u001b[0m     retval \u001b[38;5;241m=\u001b[39m convertArcObjectToPythonObject(\n\u001b[1;32m-> 7825\u001b[0m         gp\u001b[38;5;241m.\u001b[39mAddField_management(\n\u001b[0;32m   7826\u001b[0m             \u001b[38;5;241m*\u001b[39mgp_fixargs(\n\u001b[0;32m   7827\u001b[0m                 (\n\u001b[0;32m   7828\u001b[0m                     in_table,\n\u001b[0;32m   7829\u001b[0m                     field_name,\n\u001b[0;32m   7830\u001b[0m                     field_type,\n\u001b[0;32m   7831\u001b[0m                     field_precision,\n\u001b[0;32m   7832\u001b[0m                     field_scale,\n\u001b[0;32m   7833\u001b[0m                     field_length,\n\u001b[0;32m   7834\u001b[0m                     field_alias,\n\u001b[0;32m   7835\u001b[0m                     field_is_nullable,\n\u001b[0;32m   7836\u001b[0m                     field_is_required,\n\u001b[0;32m   7837\u001b[0m                     field_domain,\n\u001b[0;32m   7838\u001b[0m                 ),\n\u001b[0;32m   7839\u001b[0m                 \u001b[38;5;28;01mTrue\u001b[39;00m,\n\u001b[0;32m   7840\u001b[0m             )\n\u001b[0;32m   7841\u001b[0m         )\n\u001b[0;32m   7842\u001b[0m     )\n\u001b[0;32m   7843\u001b[0m     \u001b[38;5;28;01mreturn\u001b[39;00m retval\n\u001b[0;32m   7844\u001b[0m \u001b[38;5;28;01mexcept\u001b[39;00m \u001b[38;5;167;01mException\u001b[39;00m \u001b[38;5;28;01mas\u001b[39;00m e:\n",
      "File \u001b[1;32mC:\\Program Files\\ArcGIS\\Pro\\Resources\\ArcPy\\arcpy\\geoprocessing\\_base.py:532\u001b[0m, in \u001b[0;36mGeoprocessor.__getattr__.<locals>.<lambda>\u001b[1;34m(*args)\u001b[0m\n\u001b[0;32m    530\u001b[0m val \u001b[38;5;241m=\u001b[39m \u001b[38;5;28mgetattr\u001b[39m(\u001b[38;5;28mself\u001b[39m\u001b[38;5;241m.\u001b[39m_gp, attr)\n\u001b[0;32m    531\u001b[0m \u001b[38;5;28;01mif\u001b[39;00m \u001b[38;5;28mcallable\u001b[39m(val):\n\u001b[1;32m--> 532\u001b[0m     \u001b[38;5;28;01mreturn\u001b[39;00m \u001b[38;5;28;01mlambda\u001b[39;00m \u001b[38;5;241m*\u001b[39margs: val(\u001b[38;5;241m*\u001b[39mgp_fixargs(args, \u001b[38;5;28;01mTrue\u001b[39;00m))\n\u001b[0;32m    533\u001b[0m \u001b[38;5;28;01melse\u001b[39;00m:\n\u001b[0;32m    534\u001b[0m     \u001b[38;5;28;01mreturn\u001b[39;00m convertArcObjectToPythonObject(val)\n",
      "\u001b[1;31mExecuteError\u001b[0m: Failed to execute. Parameters are not valid.\nERROR 000313: The length of Field Name must not be larger than 10\nFailed to execute (AddField).\n"
     ]
    }
   ],
   "source": [
    "#func_vector_percent_overlap(shapefile_cbg_path, \"GEOIDFQ\", r\"C:\\GITHUB\\CCSVI\\Scripts\\Spatial_Analysis\\input\\environmental\\slrxa_3pt2ft.shp\", output_folder_path, \"PERCENT\")"
   ]
  },
  {
   "cell_type": "markdown",
   "id": "22e050d8-0645-45d7-8988-6bc1ec0ff112",
   "metadata": {},
   "source": [
    "#### This takes the previously generated DBF files and merges them all to one CSV file with fieldnames from the DBFs:"
   ]
  },
  {
   "cell_type": "code",
   "execution_count": null,
   "id": "b136eb52-c33f-4d95-97e3-91e51d6c93b3",
   "metadata": {},
   "outputs": [],
   "source": [
    "func_combine_tables(output_folder_path)"
   ]
  }
 ],
 "metadata": {
  "kernelspec": {
   "display_name": "Python 3 (ipykernel)",
   "language": "python",
   "name": "python3"
  },
  "language_info": {
   "codemirror_mode": {
    "name": "ipython",
    "version": 3
   },
   "file_extension": ".py",
   "mimetype": "text/x-python",
   "name": "python",
   "nbconvert_exporter": "python",
   "pygments_lexer": "ipython3",
   "version": "3.11.10"
  }
 },
 "nbformat": 4,
 "nbformat_minor": 5
}
