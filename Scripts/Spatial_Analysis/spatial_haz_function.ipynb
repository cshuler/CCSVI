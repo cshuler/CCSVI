{
 "cells": [
  {
   "cell_type": "code",
   "execution_count": 1,
   "id": "05d927d3-4769-4595-8aa8-0ad8ec50e4e8",
   "metadata": {},
   "outputs": [
    {
     "data": {
      "text/plain": [
       "'CheckedOut'"
      ]
     },
     "execution_count": 1,
     "metadata": {},
     "output_type": "execute_result"
    }
   ],
   "source": [
    "import os\n",
    "import re\n",
    "import random\n",
    "import string\n",
    "import requests\n",
    "\n",
    "import numpy as np\n",
    "import pandas as pd\n",
    "import geopandas as gpd\n",
    "\n",
    "import arcpy\n",
    "import arcpy.sa as sa\n",
    "import arcpy.mp as mp\n",
    "arcpy.CheckOutExtension(\"Spatial\")"
   ]
  },
  {
   "cell_type": "code",
   "execution_count": 2,
   "id": "a10b8d9a-ab8b-4c71-95bc-7ee3fde72e58",
   "metadata": {},
   "outputs": [],
   "source": [
    "def func_zonal_stats(zone_fc, zone_field, raster_path, output_folder, stat_type):\n",
    "    import os\n",
    "    import arcpy\n",
    "    import arcpy.sa as sa\n",
    "    arcpy.CheckOutExtension(\"Spatial\")\n",
    "    arcpy.env.overwriteOutput = True\n",
    "\n",
    "    # Sanitize raster base name for use in DBF field/table names (max 8 chars is safest for DBF)\n",
    "    raster_base = os.path.splitext(os.path.basename(raster_path))[0]\n",
    "    raster_base_clean = raster_base.replace(\" \", \"_\")[:32]  # Max safe length for filename\n",
    "    stat_type_clean = stat_type.lower()\n",
    "\n",
    "    out_table_name = f\"{raster_base_clean}_{stat_type_clean}.dbf\"\n",
    "    out_table_path = os.path.join(output_folder, out_table_name)\n",
    "\n",
    "    # Run zonal statistics\n",
    "    sa.ZonalStatisticsAsTable(\n",
    "        in_zone_data=zone_fc,\n",
    "        zone_field=zone_field,\n",
    "        in_value_raster=raster_path,\n",
    "        out_table=out_table_path,\n",
    "        statistics_type=stat_type,\n",
    "        ignore_nodata=\"DATA\"\n",
    "    )\n",
    "    \n",
    "    return out_table_path  # Optional: return path to the table for later use"
   ]
  },
  {
   "cell_type": "code",
   "execution_count": 3,
   "id": "3656494b-51d5-449f-acb9-0ebf0b9edb3f",
   "metadata": {},
   "outputs": [],
   "source": [
    "def func_combine_tables(output_folder_path):\n",
    "    key_field = \"GEOIDFQ\"\n",
    "    output_csv = \"combined_zonal_stats.csv\"\n",
    "    dbf_files = [f for f in os.listdir(output_folder_path) if f.lower().endswith(\".dbf\")]\n",
    "    merged_df = None\n",
    "\n",
    "    for dbf in dbf_files:\n",
    "        dbf_path = os.path.join(output_folder_path, dbf)\n",
    "        \n",
    "        # Get all non-geometry, non-OID fields\n",
    "        fields = [f.name for f in arcpy.ListFields(dbf_path) if f.type not in (\"Geometry\", \"OID\")]\n",
    "\n",
    "        if key_field not in fields or len(fields) < 2:\n",
    "            continue  # Skip if missing key or only one useful field\n",
    "\n",
    "        stat_field = fields[-1]  # Use rightmost field\n",
    "        table = arcpy.da.TableToNumPyArray(dbf_path, [key_field, stat_field])\n",
    "        df = pd.DataFrame(table)\n",
    "\n",
    "        # Rename stat field to the DBF base name\n",
    "        stat_name = os.path.splitext(dbf)[0]\n",
    "        df = df.rename(columns={stat_field: stat_name})\n",
    "\n",
    "        if merged_df is None:\n",
    "            merged_df = df\n",
    "        else:\n",
    "            merged_df = pd.merge(merged_df, df, on=key_field, how=\"outer\")\n",
    "\n",
    "    # Save combined CSV\n",
    "    if merged_df is not None:\n",
    "        output_csv_path = os.path.join(output_folder_path, output_csv)\n",
    "        merged_df.to_csv(output_csv_path, index=False)\n",
    "        return output_csv_path\n",
    "    else:\n",
    "        raise ValueError(\"No valid DBFs found or no data to merge.\")"
   ]
  },
  {
   "cell_type": "markdown",
   "id": "2869b75d-ae1a-457e-94ac-f43bcd1f399a",
   "metadata": {},
   "source": [
    "#### Get the path of this notebook and use it to generate path for input shapefile:"
   ]
  },
  {
   "cell_type": "code",
   "execution_count": 4,
   "id": "68a1da9f-739b-43c9-b1f8-7951f64eee05",
   "metadata": {},
   "outputs": [
    {
     "name": "stdout",
     "output_type": "stream",
     "text": [
      "Location of this notebook: C:\\GITHUB\\CCSVI\\Scripts\\Spatial_Analysis\n",
      "Location of CBG SHP: C:\\GITHUB\\CCSVI\\Scripts\\Spatial_Analysis\\input\\cbg_kontur.shp\n",
      "Location for output: C:\\GITHUB\\CCSVI\\Scripts\\Spatial_Analysis\\output\n"
     ]
    }
   ],
   "source": [
    "current_dir = os.getcwd()\n",
    "shapefile_cbg = r\"input\\cbg_kontur.shp\"\n",
    "shapefile_cbg_path = os.path.join(current_dir, shapefile_cbg)\n",
    "output_folder_path = os.path.join(current_dir, \"output\")\n",
    "\n",
    "\n",
    "print(f\"Location of this notebook: {current_dir}\")\n",
    "print(f\"Location of CBG SHP: {shapefile_cbg_path}\")\n",
    "print(f\"Location for output: {output_folder_path}\")"
   ]
  },
  {
   "cell_type": "markdown",
   "id": "407a6fea-a83d-4030-953a-28b272cfbae9",
   "metadata": {},
   "source": [
    "#### Set up ArcPy Workspace:"
   ]
  },
  {
   "cell_type": "code",
   "execution_count": 5,
   "id": "b3ae849a-ba58-44bc-9f87-f1251ffde6cc",
   "metadata": {},
   "outputs": [],
   "source": [
    "#arcpy.env.overwriteOutput = True\n",
    "#workspace = os.path.dirname(shapefile_cbg_path)\n",
    "#arcpy.env.workspace = workspace"
   ]
  },
  {
   "cell_type": "markdown",
   "id": "3549f9ff-1553-4307-9186-a4dae89597c3",
   "metadata": {},
   "source": [
    "#### Define location/name of raster for analysis and fieldname to put resulting value into:"
   ]
  },
  {
   "cell_type": "code",
   "execution_count": null,
   "id": "772f961d-8eb1-4fc3-b36c-d388faeeca81",
   "metadata": {
    "scrolled": true
   },
   "outputs": [],
   "source": []
  },
  {
   "cell_type": "markdown",
   "id": "002a5774-07d1-4ff4-a76c-9652a2226afc",
   "metadata": {},
   "source": [
    "#### Do Zonal Statistics and put output into DBF named similarly to the raster in an OUTPUT folder:"
   ]
  },
  {
   "cell_type": "code",
   "execution_count": 6,
   "id": "da487fac-bfed-45f4-b521-bef7de5e84ff",
   "metadata": {},
   "outputs": [],
   "source": [
    "output_folder = os.path.join(current_dir, \"output\")\n",
    "os.makedirs(output_folder, exist_ok=True)"
   ]
  },
  {
   "cell_type": "code",
   "execution_count": 7,
   "id": "8d39432b-f560-49d8-93fc-5404fb9c8bf1",
   "metadata": {},
   "outputs": [],
   "source": [
    "#print(raster_path)"
   ]
  },
  {
   "cell_type": "code",
   "execution_count": 8,
   "id": "0a26db9e-5fed-436c-90e1-c738adad8ff4",
   "metadata": {},
   "outputs": [],
   "source": [
    "#raster = arcpy.Raster(raster_path)\n",
    "#print(raster.meanCellWidth, raster.meanCellHeight)\n",
    "#print(arcpy.Describe(raster_path).spatialReference.name)\n",
    "#print(arcpy.Describe(shapefile_cbg_path).spatialReference.name)"
   ]
  },
  {
   "cell_type": "code",
   "execution_count": 9,
   "id": "75a94fe2-34a8-47f3-8a17-54d47f203872",
   "metadata": {},
   "outputs": [
    {
     "data": {
      "text/plain": [
       "'C:\\\\GITHUB\\\\CCSVI\\\\Scripts\\\\Spatial_Analysis\\\\output\\\\staterf_inann_mean.dbf'"
      ]
     },
     "execution_count": 9,
     "metadata": {},
     "output_type": "execute_result"
    }
   ],
   "source": [
    "func_zonal_stats(shapefile_cbg_path, \"GEOIDFQ\", r\"C:\\GITHUB\\CCSVI\\Scripts\\Spatial_Analysis\\input\\environmental\\staterf_inann.tif\", output_folder_path, \"MEAN\")\n"
   ]
  },
  {
   "cell_type": "code",
   "execution_count": 10,
   "id": "4a95c393-f5ff-41c7-9bdc-1b36c32816cd",
   "metadata": {},
   "outputs": [
    {
     "data": {
      "text/plain": [
       "'C:\\\\GITHUB\\\\CCSVI\\\\Scripts\\\\Spatial_Analysis\\\\output\\\\igtn_prob_test_maximum.dbf'"
      ]
     },
     "execution_count": 10,
     "metadata": {},
     "output_type": "execute_result"
    }
   ],
   "source": [
    "func_zonal_stats(shapefile_cbg_path, \"GEOIDFQ\", r\"C:\\GITHUB\\CCSVI\\Scripts\\Spatial_Analysis\\input\\environmental\\igtn_prob_test.tif\", output_folder_path, \"MAXIMUM\")"
   ]
  },
  {
   "cell_type": "code",
   "execution_count": 11,
   "id": "b136eb52-c33f-4d95-97e3-91e51d6c93b3",
   "metadata": {},
   "outputs": [
    {
     "data": {
      "text/plain": [
       "'C:\\\\GITHUB\\\\CCSVI\\\\Scripts\\\\Spatial_Analysis\\\\output\\\\combined_zonal_stats.csv'"
      ]
     },
     "execution_count": 11,
     "metadata": {},
     "output_type": "execute_result"
    }
   ],
   "source": [
    "func_combine_tables(output_folder_path)"
   ]
  }
 ],
 "metadata": {
  "kernelspec": {
   "display_name": "Python 3 (ipykernel)",
   "language": "python",
   "name": "python3"
  },
  "language_info": {
   "codemirror_mode": {
    "name": "ipython",
    "version": 3
   },
   "file_extension": ".py",
   "mimetype": "text/x-python",
   "name": "python",
   "nbconvert_exporter": "python",
   "pygments_lexer": "ipython3",
   "version": "3.11.10"
  }
 },
 "nbformat": 4,
 "nbformat_minor": 5
}
