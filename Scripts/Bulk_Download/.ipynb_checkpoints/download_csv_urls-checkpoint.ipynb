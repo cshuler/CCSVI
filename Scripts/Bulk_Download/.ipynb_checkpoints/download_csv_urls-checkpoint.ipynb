{
 "cells": [
  {
   "cell_type": "code",
   "execution_count": null,
   "id": "6b8773dd-90c8-4b7d-994e-fcd2837709b3",
   "metadata": {},
   "outputs": [],
   "source": [
    "# LiDAR data this script was originally created to download:\n",
    "# https://noaa-nos-coastal-lidar-pds.s3.amazonaws.com/dem/HI_Kahoo_Lanai_Maui_Molo_Oahu_DEM_2022_10335/index.html\n",
    "# https://noaa-nos-coastal-lidar-pds.s3.amazonaws.com/dem/HI_BigIsland_DEM_2023_10336/index.html"
   ]
  },
  {
   "cell_type": "code",
   "execution_count": 1,
   "id": "1ab5b615-4eb2-4659-9699-0b5c088dd0f0",
   "metadata": {},
   "outputs": [],
   "source": [
    "import os\n",
    "import pandas as pd\n",
    "import requests\n",
    "from pathlib import Path\n",
    "import time\n",
    "from datetime import datetime"
   ]
  },
  {
   "cell_type": "code",
   "execution_count": 2,
   "id": "f7d23b47-bd8e-4614-ac52-cfdc14dd1a08",
   "metadata": {},
   "outputs": [],
   "source": [
    "\n",
    "# Timestamp string in format: YYYYMMDD_HHMMSS\n",
    "timestamp = datetime.now().strftime(\"%Y%m%d_%H%M%S\")\n",
    "\n",
    "# Define paths\n",
    "notebook_dir = Path().resolve() #current path of notebook\n",
    "\n",
    "csv_path = notebook_dir / \"full.csv\" #input CSV file. Top row should contain \"URL\" and each line is one full path to a downloadable file\n",
    "\n",
    "download_dir = notebook_dir / \"dl\" #define path for dl folder\n",
    "download_dir.mkdir(exist_ok=True) #create dl folder\n",
    "\n",
    "# Create log and retry filenames with timestamp\n",
    "log_file = notebook_dir / f\"download_log_{timestamp}.txt\"\n",
    "output_csv = notebook_dir / f\"retry_{timestamp}.csv\""
   ]
  },
  {
   "cell_type": "code",
   "execution_count": 3,
   "id": "27f3428f-5a09-46b0-8bc1-3843bde4593a",
   "metadata": {},
   "outputs": [
    {
     "name": "stdout",
     "output_type": "stream",
     "text": [
      "✅ Exported 33528 missing files to: retry_20250607_232309.csv\n"
     ]
    }
   ],
   "source": [
    "# Load the list of all download URLs\n",
    "df = pd.read_csv(csv_path)\n",
    "if 'URL' not in df.columns:\n",
    "    raise ValueError(\"CSV must contain a column titled 'URL'.\")\n",
    "\n",
    "# Extract expected filenames from URLs\n",
    "df['filename'] = df['URL'].apply(lambda u: u.split(\"/\")[-1])\n",
    "\n",
    "# Get set of filenames already downloaded\n",
    "downloaded_files = set(f.name for f in download_dir.iterdir() if f.is_file())\n",
    "\n",
    "# Filter out entries where the file already exists\n",
    "missing_df = df[~df['filename'].isin(downloaded_files)]\n",
    "\n",
    "# Export to retry.csv\n",
    "missing_df.to_csv(output_csv, index=False)\n",
    "\n",
    "print(f\"✅ Exported {len(missing_df)} missing files to: {output_csv.name}\")\n"
   ]
  },
  {
   "cell_type": "code",
   "execution_count": 4,
   "id": "5ad5bc38-ff22-42a3-8c10-701e3a9adde2",
   "metadata": {},
   "outputs": [
    {
     "name": "stdout",
     "output_type": "stream",
     "text": [
      "Downloading tileindex_HI_Kahoo_Lanai_Maui_Molo_Oahu_DEM_2022.zip...\n",
      "20250607_232310 Success: tileindex_HI_Kahoo_Lanai_Maui_Molo_Oahu_DEM_2022.zip\n",
      "Downloading hi2022_kah_lanai_maui_molo_oahu_dem_m10335_met.xml...\n",
      "20250607_232313 Success: hi2022_kah_lanai_maui_molo_oahu_dem_m10335_met.xml\n",
      "Downloading hi2022_kah_lanai_maui_molo_oahu_dem_m10335_met_forHumans.html...\n",
      "20250607_232316 Success: hi2022_kah_lanai_maui_molo_oahu_dem_m10335_met_forHumans.html\n",
      "Downloading index.html...\n",
      "20250607_232319 Success: index.html\n",
      "Downloading 4QFJ750340.tif...\n",
      "20250607_232323 Success: 4QFJ750340.tif\n",
      "Downloading 4QFJ755335.tif...\n",
      "20250607_232326 Success: 4QFJ755335.tif\n",
      "Downloading 4QFJ755340.tif...\n",
      "20250607_232331 Success: 4QFJ755340.tif\n",
      "Downloading 4QFJ755345.tif...\n",
      "20250607_232337 Success: 4QFJ755345.tif\n",
      "Downloading 4QFJ755350.tif...\n",
      "20250607_232340 Success: 4QFJ755350.tif\n",
      "Downloading 4QFJ760330.tif...\n",
      "20250607_232343 Success: 4QFJ760330.tif\n",
      "Downloading 4QFJ760335.tif...\n",
      "20250607_232346 Success: 4QFJ760335.tif\n",
      "Downloading 4QFJ760340.tif...\n",
      "20250607_232350 Success: 4QFJ760340.tif\n",
      "Downloading 4QFJ760345.tif...\n",
      "20250607_232356 Success: 4QFJ760345.tif\n",
      "Downloading 4QFJ760350.tif...\n"
     ]
    },
    {
     "ename": "KeyboardInterrupt",
     "evalue": "",
     "output_type": "error",
     "traceback": [
      "\u001b[1;31m---------------------------------------------------------------------------\u001b[0m",
      "\u001b[1;31mKeyboardInterrupt\u001b[0m                         Traceback (most recent call last)",
      "Cell \u001b[1;32mIn[4], line 37\u001b[0m\n\u001b[0;32m     33\u001b[0m \u001b[38;5;28;01mexcept\u001b[39;00m \u001b[38;5;167;01mException\u001b[39;00m \u001b[38;5;28;01mas\u001b[39;00m e:\n\u001b[0;32m     34\u001b[0m     message \u001b[38;5;241m=\u001b[39m \u001b[38;5;124mf\u001b[39m\u001b[38;5;124m\"\u001b[39m\u001b[38;5;132;01m{\u001b[39;00mlooptimestamp\u001b[38;5;132;01m}\u001b[39;00m\u001b[38;5;124m Failed: \u001b[39m\u001b[38;5;132;01m{\u001b[39;00mfilename\u001b[38;5;132;01m}\u001b[39;00m\u001b[38;5;124m | \u001b[39m\u001b[38;5;132;01m{\u001b[39;00me\u001b[38;5;132;01m}\u001b[39;00m\u001b[38;5;124m\"\u001b[39m\n\u001b[1;32m---> 37\u001b[0m time\u001b[38;5;241m.\u001b[39msleep(\u001b[38;5;241m2\u001b[39m)\n\u001b[0;32m     39\u001b[0m \u001b[38;5;28mprint\u001b[39m(message)\n\u001b[0;32m     40\u001b[0m log\u001b[38;5;241m.\u001b[39mwrite(message \u001b[38;5;241m+\u001b[39m \u001b[38;5;124m'\u001b[39m\u001b[38;5;130;01m\\n\u001b[39;00m\u001b[38;5;124m'\u001b[39m)\n",
      "\u001b[1;31mKeyboardInterrupt\u001b[0m: "
     ]
    }
   ],
   "source": [
    "# Load CSV with URLs\n",
    "#df = pd.read_csv(csv_path)\n",
    "df = pd.read_csv(output_csv)\n",
    "\n",
    "if 'URL' not in df.columns:\n",
    "    raise ValueError(\"CSV must contain a column titled 'URL'.\")\n",
    "\n",
    "# Open log file for appending\n",
    "with open(log_file, 'a') as log:\n",
    "    for url in df['URL']:\n",
    "        looptimestamp = datetime.now().strftime(\"%Y%m%d_%H%M%S\")\n",
    "        filename = url.split(\"/\")[-1]\n",
    "        dest_path = download_dir / filename\n",
    "\n",
    "        # Skip if file already exists\n",
    "        if dest_path.exists():\n",
    "            message = f\"Already exists: {filename}\"\n",
    "            print(message)\n",
    "            log.write(message + '\\n')\n",
    "            continue\n",
    "\n",
    "        message = f\"Downloading {filename}...\"\n",
    "        print(message)\n",
    "        log.write(message + '\\n')\n",
    "\n",
    "        try:\n",
    "            response = requests.get(url, stream=True)\n",
    "            response.raise_for_status()\n",
    "            with open(dest_path, 'wb') as f:\n",
    "                for chunk in response.iter_content(chunk_size=8192):\n",
    "                    f.write(chunk)\n",
    "            message = f\"{looptimestamp} Success: {filename}\"\n",
    "        except Exception as e:\n",
    "            message = f\"{looptimestamp} Failed: {filename} | {e}\"\n",
    "        \n",
    "        \n",
    "        time.sleep(2)\n",
    "        \n",
    "        print(message)\n",
    "        log.write(message + '\\n')"
   ]
  },
  {
   "cell_type": "code",
   "execution_count": 5,
   "id": "18ea728c-db0a-4646-aaf7-df8975156504",
   "metadata": {},
   "outputs": [
    {
     "name": "stdout",
     "output_type": "stream",
     "text": [
      "Done with current list! Run this script again to retry downloads that don't already exist in the folder.\n"
     ]
    }
   ],
   "source": [
    "print(\"Done with current list! Run this script again to retry downloads that don't already exist in the folder.\")"
   ]
  },
  {
   "cell_type": "code",
   "execution_count": null,
   "id": "97e422b0-b0c5-44ba-97e5-5fb29fa2a32f",
   "metadata": {},
   "outputs": [],
   "source": []
  }
 ],
 "metadata": {
  "kernelspec": {
   "display_name": "Python 3 (ipykernel)",
   "language": "python",
   "name": "python3"
  },
  "language_info": {
   "codemirror_mode": {
    "name": "ipython",
    "version": 3
   },
   "file_extension": ".py",
   "mimetype": "text/x-python",
   "name": "python",
   "nbconvert_exporter": "python",
   "pygments_lexer": "ipython3",
   "version": "3.11.10"
  }
 },
 "nbformat": 4,
 "nbformat_minor": 5
}
