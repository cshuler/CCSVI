{
 "cells": [
  {
   "cell_type": "code",
   "execution_count": null,
   "id": "e4409e94-4b77-4ceb-a345-cebaedadd09a",
   "metadata": {},
   "outputs": [],
   "source": [
    "import os\n",
    "import pandas as pd\n",
    "import re\n",
    "import requests"
   ]
  },
  {
   "cell_type": "markdown",
   "id": "0d27898b-9435-4995-94b6-67f3aadf913b",
   "metadata": {},
   "source": [
    "#### Define function to create clean table names from \"dirty\" text. This removes special characters etc:"
   ]
  },
  {
   "cell_type": "code",
   "execution_count": null,
   "id": "fcd440e6-96aa-4aaf-a4d6-8a9add6dcbe5",
   "metadata": {},
   "outputs": [],
   "source": [
    "def func_clean_table_name(filename):\n",
    "    # Replace forbidden characters with underscores\n",
    "    cleaned_name = re.sub(r'[^a-zA-Z0-9_]', '_', os.path.splitext(filename)[0])\n",
    "    # Ensure the name doesn't start with a number\n",
    "    if cleaned_name[0].isdigit():\n",
    "        cleaned_name = f\"_{cleaned_name}\"\n",
    "    return cleaned_name"
   ]
  },
  {
   "cell_type": "markdown",
   "id": "233afcf2-3e92-491e-91a2-349258049b13",
   "metadata": {},
   "source": [
    "#### Create variables for each part of the Census API URL. This makes it easy to alter the values later:"
   ]
  },
  {
   "cell_type": "code",
   "execution_count": null,
   "id": "739b74b3-7daf-4761-9e05-7a70d7304deb",
   "metadata": {},
   "outputs": [],
   "source": [
    "# Default values\n",
    "census_base_url = \"https://api.census.gov/\"\n",
    "census_dataset_url = \"data/2022/acs/acs5\"\n",
    "decennial_dataset_url = \"data/2020/dec/pl\"\n",
    "census_variables1 = \"GEO_ID,NAME,B01001_001E,B25034_006E,B25034_007E,B25034_008E,B25034_009E,B25034_010E,B25034_011E,B25046_001E,B27010_017E,B27010_033E,B27010_050E,B27010_066E,B28002_013E,C16002_004E,C16002_007E,C16002_010E,C16002_013E,B09019_005E,B09019_008E,B19101_001E,C17002_002E,C17002_003E,C17002_004E,C17002_005E,C17002_006E,C17002_007E,B20005_002E,B01001_003E,B01001_004E,B01001_005E,B01001_006E,B01001_020E,B01001_021E\"\n",
    "census_variables2 = \"GEO_ID,B05013_017E,B05013_018E,B05013_019E,B01001_017E,B01001_018E,B01001_019E,B01001_016E,B01001_044E,B01001_045E,B01001_046E,B01001_047E,B01001_048E,B01001_049E,B02001_002E,B02001_003E,B02001_004E,B02001_005E,B02001_006E,B02001_007E,B02001_008E,B25008_003E\"\n",
    "decennial_variables3 = \"GEO_ID,P5_002N,P5_003N,P5_004N,P5_005N,P5_008N,P5_009N,P5_010N\"\n",
    "# Geography is very important to structure correctly. Sometimes if it's incorrect, the data pull still works but\n",
    "# will generate an error for higher counts of variables (like we're pulling here)\n",
    "in_geography = r\"&for=block%20group:*&in=state:15%20county:*%20tract:*\""
   ]
  },
  {
   "cell_type": "code",
   "execution_count": null,
   "id": "489041c8-6a42-4e10-b9a0-dd91ea839b3d",
   "metadata": {},
   "outputs": [],
   "source": [
    "census_combined_url = f\"{census_base_url}{census_dataset_url}\"\n",
    "decennial_combined_url = f\"{census_base_url}{decennial_dataset_url}\"\n",
    "\n",
    "cbg_url1 = f\"{census_combined_url}?get={census_variables1}{in_geography}\"\n",
    "cbg_url2 = f\"{census_combined_url}?get={census_variables2}{in_geography}\"\n",
    "cbg_url3 = f\"{decennial_combined_url}?get={decennial_variables3}{in_geography}\""
   ]
  },
  {
   "cell_type": "markdown",
   "id": "eeef9433-ee05-458a-9adc-1e90d9d8e863",
   "metadata": {},
   "source": [
    "#### Create variables for the Census variable lookup API URLs.  \n",
    "#### Variable lookup links:  \n",
    "##### https://api.census.gov/data/2020/dec/pl/variables.html  \n",
    "##### https://api.census.gov/data/2022/acs/acs5/variables.html  \n",
    "##### https://api.census.gov/data/2022/acs/acs5/subject/variables.html    \n",
    "#### Right now we just need the first 3 but may need others if some variables are added:"
   ]
  },
  {
   "cell_type": "code",
   "execution_count": null,
   "id": "32786ef9-dd27-4600-9e7f-ea1eeff2d948",
   "metadata": {},
   "outputs": [],
   "source": [
    "census_fields_url1 = f\"{census_combined_url}/variables.json\" #detailed variable lookup\n",
    "census_fields_url2 = f\"{census_combined_url}/subject/variables.json\" #subject variable lookup with stats\n",
    "census_fields_url3 = f\"{decennial_combined_url}/variables.json\"\n",
    "#census_fields_url7 = f\"{census_combined_url}/profile/variables.json\" #data profiles lookup for demographic/econ data\n",
    "#census_fields_url8 = f\"{census_combined_url}/cprofile/variables.json\" #comparison profiles lookup for 5yr to 5yr comps\n",
    "#census_fields_url9 = f\"{census_combined_url}/spt/variables.json\" #supplemental estimates lookup\n",
    "\n",
    "print(\"Click link to test URL for first set of variables: \" + cbg_url1 + \"\\r\")\n",
    "print(\"Click link to test URL for second set of variables: \" + cbg_url2 + \"\\r\")\n",
    "print(\"Click link to test URL for third set of variables (Decennial Census 2020): \" + cbg_url3 + \"\\r\")\n",
    "print(\"Click link to test URL for the field/variable list with descriptions: \" + census_fields_url1 + \"\\r\")\n",
    "print(\"Click link to test URL for the field/variable list with descriptions: \" + census_fields_url2 + \"\\r\")\n",
    "print(\"Click link to test URL for the field/variable list with descriptions: \" + census_fields_url3 + \"\\r\")"
   ]
  },
  {
   "cell_type": "markdown",
   "id": "98785eba-a52b-4e94-bebf-dab04fa4d55e",
   "metadata": {},
   "source": [
    "#### Pull multiple variable listings from Census API and store each in a dataframe:"
   ]
  },
  {
   "cell_type": "code",
   "execution_count": null,
   "id": "b1bc24d9-fe24-4ec1-be56-7d08194f6368",
   "metadata": {},
   "outputs": [],
   "source": [
    "fields_dict1 = requests.get(census_fields_url1).json()\n",
    "fields_df1 = pd.DataFrame.from_dict(fields_dict1[\"variables\"], orient=\"index\").reset_index()\n",
    "fields_df1.head()"
   ]
  },
  {
   "cell_type": "code",
   "execution_count": null,
   "id": "f48306f5-9cdb-4b7b-bc7f-130fbbbc4876",
   "metadata": {},
   "outputs": [],
   "source": [
    "fields_dict2 = requests.get(census_fields_url2).json()\n",
    "fields_df2 = pd.DataFrame.from_dict(fields_dict2[\"variables\"], orient=\"index\").reset_index()\n",
    "fields_df2.head()"
   ]
  },
  {
   "cell_type": "code",
   "execution_count": null,
   "id": "23c32263-9824-4b60-8df1-75cf96580bc1",
   "metadata": {},
   "outputs": [],
   "source": [
    "fields_dict3 = requests.get(census_fields_url3).json()\n",
    "fields_df3 = pd.DataFrame.from_dict(fields_dict3[\"variables\"], orient=\"index\").reset_index()\n",
    "fields_df3.head()"
   ]
  },
  {
   "cell_type": "code",
   "execution_count": null,
   "id": "80490daf-a5f2-48e8-a48e-2c5eebc9d2a3",
   "metadata": {},
   "outputs": [],
   "source": [
    "fields_df = pd.concat([fields_df1, fields_df2, fields_df3], ignore_index=True)\n",
    "print(\"Fields aka variables data have been concatenated\")"
   ]
  },
  {
   "cell_type": "markdown",
   "id": "1aca64ac-d5c6-4b13-b7c5-f23f86312dc2",
   "metadata": {},
   "source": [
    "#### Pull CBG level data from Census API and store in dataframe (first set of variables):"
   ]
  },
  {
   "cell_type": "code",
   "execution_count": null,
   "id": "c96a235b-10c6-489d-8c23-f70e128d8ba6",
   "metadata": {},
   "outputs": [],
   "source": [
    "cbg_response = requests.get(cbg_url1)\n",
    "cbg_data = cbg_response.json()\n",
    "cbg_df = pd.DataFrame(cbg_data[1:], columns=cbg_data[0])\n",
    "cbg_df.head()"
   ]
  },
  {
   "cell_type": "code",
   "execution_count": null,
   "id": "55f1e4df-5f28-43d6-a031-95a367b43630",
   "metadata": {},
   "outputs": [],
   "source": [
    "print(cbg_response.status_code)\n",
    "#print(cbg_response.text)"
   ]
  },
  {
   "cell_type": "markdown",
   "id": "fb8500ee-919d-457d-b9be-9e6adab52f8f",
   "metadata": {},
   "source": [
    "#### Pull CBG level data from Census API and store in dataframe (second set of variables):"
   ]
  },
  {
   "cell_type": "code",
   "execution_count": null,
   "id": "45290f12-b84d-430f-b3b7-72287c44fec8",
   "metadata": {},
   "outputs": [],
   "source": [
    "cbg_response2 = requests.get(cbg_url2)\n",
    "cbg_data2 = cbg_response2.json()\n",
    "cbg_df2 = pd.DataFrame(cbg_data2[1:], columns=cbg_data2[0])\n",
    "cbg_df2.head()"
   ]
  },
  {
   "cell_type": "code",
   "execution_count": null,
   "id": "b612c125-d903-4034-ac4b-735d4cf920e8",
   "metadata": {},
   "outputs": [],
   "source": [
    "cbg_response3 = requests.get(cbg_url3)\n",
    "#print(cbg_response3.status_code)\n",
    "\n",
    "cbg_data3 = cbg_response3.json()\n",
    "cbg_df3 = pd.DataFrame(cbg_data3[1:], columns=cbg_data3[0])\n",
    "cbg_df3.head()"
   ]
  },
  {
   "cell_type": "markdown",
   "id": "2e01f4a0-5aca-45fe-b508-ac7295ea5f7f",
   "metadata": {},
   "source": [
    "#### Find duplicate fields in the second DF and remove all except GEO_ID which is needed to join\n",
    "#### Merge tables on GEO_ID and add suffix to duplicated field (should just be GEO_ID):"
   ]
  },
  {
   "cell_type": "code",
   "execution_count": null,
   "id": "9ddc8a88-53a4-4de9-a8ff-c32bfd4472c9",
   "metadata": {},
   "outputs": [],
   "source": [
    "duplicate_columns = [col for col in cbg_df2.columns if col in cbg_df.columns and col != 'GEO_ID']\n",
    "\n",
    "# Drop them from cbg_df2\n",
    "cbg_df2 = cbg_df2.drop(columns=duplicate_columns)\n",
    "\n",
    "# Now safe to join but still add a suffix if a field is duplicated\n",
    "cbg_df = cbg_df.join(cbg_df2, how='left', lsuffix='', rsuffix='_2')\n",
    "\n",
    "cbg_df.head()"
   ]
  },
  {
   "cell_type": "markdown",
   "id": "a5272df7-28c1-46d6-aa41-cc9915605681",
   "metadata": {},
   "source": [
    "#### Find duplicate fields in third dataframe and remove all except GEO_ID which is needed to join\n",
    "#### Merge tables on GEO_ID and add suffix to duplicated field (should just be GEO_ID):"
   ]
  },
  {
   "cell_type": "code",
   "execution_count": null,
   "id": "f18a0a43-bdd3-4d73-b0d9-d6a321632bb7",
   "metadata": {},
   "outputs": [],
   "source": [
    "duplicate_columns = [col for col in cbg_df3.columns if col in cbg_df.columns and col != 'GEO_ID']\n",
    "\n",
    "# Drop them from cbg_df2\n",
    "cbg_df3 = cbg_df3.drop(columns=duplicate_columns)\n",
    "\n",
    "# Now safe to join but still add a suffix if a field is duplicated\n",
    "cbg_df = cbg_df.join(cbg_df3, how='left', lsuffix='', rsuffix='_2')\n",
    "\n",
    "cbg_df.head()"
   ]
  },
  {
   "cell_type": "markdown",
   "id": "17574be1-0195-4d6a-9c12-2f81f27fdcde",
   "metadata": {},
   "source": [
    "#### Create path for output folder and store it as a variable:"
   ]
  },
  {
   "cell_type": "code",
   "execution_count": null,
   "id": "92a9d31b-37b5-4ce3-9652-af407586bacf",
   "metadata": {},
   "outputs": [],
   "source": [
    "output_folder_path = os.path.join(os.getcwd(), \"output\")\n",
    "print (\"Output folder: \" + output_folder_path)"
   ]
  },
  {
   "cell_type": "markdown",
   "id": "60482e31-a60f-49eb-9c08-e51a39b37abe",
   "metadata": {},
   "source": [
    "#### Generate table names from the URL segments so that it's clear what year/data is included in the output table:"
   ]
  },
  {
   "cell_type": "code",
   "execution_count": null,
   "id": "66935f3f-7f57-47a7-a28e-2274605045ab",
   "metadata": {},
   "outputs": [],
   "source": [
    "#general_table_name = func_clean_table_name(f\"{census_dataset_url}\")\n",
    "#fields_table_name = f\"{general_table_name}_Variables\"\n",
    "#cbg_table_name = f\"{general_table_name}_CBG\"\n",
    "\n",
    "fields_table_name = f\"census_variables\"\n",
    "cbg_table_name = f\"census_cbg_data\"\n"
   ]
  },
  {
   "cell_type": "markdown",
   "id": "feba6585-15d4-480c-860b-53977ea9a6e1",
   "metadata": {},
   "source": [
    "#### Generate output folder and use path to store CBG data pull as a CSV file"
   ]
  },
  {
   "cell_type": "code",
   "execution_count": null,
   "id": "8090716e-aa26-4988-9691-e184496c6fb6",
   "metadata": {},
   "outputs": [],
   "source": [
    "os.makedirs(output_folder_path, exist_ok=True)\n",
    "cbg_csv_path = os.path.join(output_folder_path, f\"{cbg_table_name}.csv\")\n",
    "cbg_df.to_csv(cbg_csv_path, index=False, encoding=\"utf-8\")\n",
    "print(f\"CSV file created successfully: {cbg_csv_path}\")"
   ]
  },
  {
   "cell_type": "markdown",
   "id": "6eaea8cc-5a6e-4416-b86e-39bae7fd5f25",
   "metadata": {},
   "source": [
    "#### Generate path to store Census variable list as a CSV file:"
   ]
  },
  {
   "cell_type": "code",
   "execution_count": null,
   "id": "7561c5f1-2fe2-443e-9244-331fcd669f0b",
   "metadata": {},
   "outputs": [],
   "source": [
    "fields_csv_path = os.path.join(output_folder_path, f\"{fields_table_name}.csv\")\n",
    "fields_df.to_csv(fields_csv_path, index=False, encoding=\"utf-8\")\n",
    "print(f\"CSV file created successfully: {fields_csv_path}\")"
   ]
  },
  {
   "cell_type": "code",
   "execution_count": null,
   "id": "db6a831d-78a9-4d03-ad59-fe4604db66f0",
   "metadata": {},
   "outputs": [],
   "source": [
    "print(\"Script complete! Output files are located at: \" + output_folder_path)"
   ]
  },
  {
   "cell_type": "code",
   "execution_count": null,
   "id": "99970d71-f607-4ba4-8755-1909bf80784a",
   "metadata": {},
   "outputs": [],
   "source": []
  }
 ],
 "metadata": {
  "kernelspec": {
   "display_name": "Python 3 (ipykernel)",
   "language": "python",
   "name": "python3"
  },
  "language_info": {
   "codemirror_mode": {
    "name": "ipython",
    "version": 3
   },
   "file_extension": ".py",
   "mimetype": "text/x-python",
   "name": "python",
   "nbconvert_exporter": "python",
   "pygments_lexer": "ipython3",
   "version": "3.11.10"
  }
 },
 "nbformat": 4,
 "nbformat_minor": 5
}
