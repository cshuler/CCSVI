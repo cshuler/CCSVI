{
 "cells": [
  {
   "cell_type": "code",
   "execution_count": null,
   "id": "ecfac711-7e26-4bef-9014-bc3f18312561",
   "metadata": {},
   "outputs": [],
   "source": [
    "import requests\n",
    "import pandas as pd"
   ]
  },
  {
   "cell_type": "code",
   "execution_count": null,
   "id": "605cea15-53a0-4788-b39f-1ff53a80e208",
   "metadata": {},
   "outputs": [],
   "source": [
    "url = \"https://api.census.gov/data/2020/dec/pl\"\n",
    "\n",
    "params = {\n",
    "    \"get\": \"P1_001N,NAME\",\n",
    "    \"for\": \"block group:*\",\n",
    "    \"in\": \"state:15 county:*\",\n",
    "}\n",
    "\n",
    "print(url)"
   ]
  },
  {
   "cell_type": "code",
   "execution_count": null,
   "id": "1a72fe74-4393-496c-ae5c-b9cbfc06aa94",
   "metadata": {},
   "outputs": [],
   "source": [
    "response = requests.get(url, params=params)\n",
    "data = response.json()\n",
    "\n",
    "columns = data[0]\n",
    "rows = data[1:]\n",
    "\n",
    "df = pd.DataFrame(rows, columns=columns)\n",
    "\n",
    "df.head()"
   ]
  }
 ],
 "metadata": {
  "kernelspec": {
   "display_name": "Python 3 (ipykernel)",
   "language": "python",
   "name": "python3"
  },
  "language_info": {
   "codemirror_mode": {
    "name": "ipython",
    "version": 3
   },
   "file_extension": ".py",
   "mimetype": "text/x-python",
   "name": "python",
   "nbconvert_exporter": "python",
   "pygments_lexer": "ipython3",
   "version": "3.11.10"
  }
 },
 "nbformat": 4,
 "nbformat_minor": 5
}
