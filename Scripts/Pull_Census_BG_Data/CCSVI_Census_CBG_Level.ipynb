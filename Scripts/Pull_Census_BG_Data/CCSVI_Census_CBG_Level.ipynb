{
 "cells": [
  {
   "cell_type": "markdown",
   "id": "dfb4b252-b294-4460-8894-e366f88210d5",
   "metadata": {},
   "source": [
    "## CCSVI Census API Data Pull at Block Group Level"
   ]
  },
  {
   "cell_type": "markdown",
   "id": "608a1944-e6b0-4119-831d-fbd7027664d6",
   "metadata": {},
   "source": [
    "### Overview"
   ]
  },
  {
   "cell_type": "markdown",
   "id": "9ac741e6-4368-4cc9-8780-57f52f20098c",
   "metadata": {},
   "source": [
    "The CCSVI project aggregates data and analysis to assess vulnerability.  \n",
    "The relevant Census data are from American Community Survey 5 year statistics dataset and will  \n",
    "be used to analyze vulnerability related to demographic, socioeconomic, and related factors.  \n",
    "The Census API allows data to be \"pulled\" by constructing a URL consisting of the desired dataset,  \n",
    "relevant variables, and geographies. We are focused on Census Block Groups for Hawai'i."
   ]
  },
  {
   "cell_type": "markdown",
   "id": "fbaf9010-11f0-4836-9f6d-cc69dac27974",
   "metadata": {},
   "source": [
    "### Notes"
   ]
  },
  {
   "cell_type": "markdown",
   "id": "3b054021-1e50-477a-883e-562b598bd209",
   "metadata": {},
   "source": [
    "Variables available for a *Census Data Series* (such as 2023 ACS 5 year) can be viewed by querying the API itself  \n",
    "with this URL: [https://api.census.gov/data/2023/acs/acs5/variables.html](https://api.census.gov/data/2023/acs/acs5/variables.html)  \n",
    "\n",
    "Note that this is for **2023**, but the year chosen can be set by altering the URL. That is also true  \n",
    "of the main data pull in this script.  \n",
    "\n",
    "Subject tables have fewer variables (fields) and include percentage calculations, averages, etc.  \n",
    "Subject tables are available for geographic levels above the block group (tract, county, state).  \n",
    "These can be viewed and queried with a URL like this:  \n",
    "[https://api.census.gov/data/2023/acs/acs5/subject/variables.html](https://api.census.gov/data/2023/acs/acs5/subject/variables.html)  "
   ]
  },
  {
   "cell_type": "markdown",
   "id": "6ccbc31c-6f11-49ab-b4d7-2e43d054a8ec",
   "metadata": {},
   "source": [
    "The data URL is similar but includes a list of variables and geographic areas to pull.  \n",
    "  \n",
    "Example data URL: <span style=\"color:blue\">https://api.census.gov/data/</span><span style=\"color:red\">2023</span><span style=\"color:green\">/acs/acs5</span><span style=\"color:orange\">?get=GEO_ID,B01001_001E,B28011_001E,C16001_001E</span><span style=\"color:teal\">&for=block%20group:*&in=state:15&in=county:*&in=tract:*</span>  \n",
    "\n",
    "Base component: <span style=\"color:blue\">https://api.census.gov/data/</span>  \n",
    "Year component: <span style=\"color:red\">2023</span>  \n",
    "Data series component: <span style=\"color:green\">/acs/acs5</span>  \n",
    "Get variables component: <span style=\"color:orange\">?get=GEO_ID,B01001_001E,B28011_001E,C16001_001E</span>  \n",
    "For geography component: <span style=\"color:teal\">&for=block%20group:*&in=state:15&in=county:*&in=tract:*</span>  \n",
    "\n",
    "The \"for\" value defines the geographic level, in this case block%20group (spaces aren't allowed in a URL).  \n",
    "The \"in\" values define geographic restructions. States are defined by FIPS code (15 for HI).  \n",
    "\n",
    "Information about FIPS codes: https://www.census.gov/library/reference/code-lists/ansi.html  "
   ]
  },
  {
   "cell_type": "markdown",
   "id": "2658b70d-9f5f-4eb7-8af5-0835d00b14f6",
   "metadata": {},
   "source": [
    "### Functionality"
   ]
  },
  {
   "cell_type": "markdown",
   "id": "d9db24b7-d070-4f4e-a143-3fcd26b1c584",
   "metadata": {},
   "source": [
    "This script pulls data from the Census Data API. The basic steps are:  \n",
    "1. Set up API URL as a set of variables in the script (not to be confused with Census variables)\n",
    "2. Present URL components to the user and allow them to change them as needed\n",
    "3. Combine components into complete API URL to pull both <span style=\"color:cyan\">data</span> and <span style=\"color:magenta\">variable descriptions</span> \n",
    "4. Pull Census <span style=\"color:cyan\">data</span> and <span style=\"color:magenta\">variable descriptions</span>, and store as CSV files\n",
    "5. Generate Mobile Geodatabase (based on SQLite) and import CSVs as tables\n",
    "6. Use <span style=\"color:magenta\">variable descriptions</span> table to assign field aliases to <span style=\"color:cyan\">data</span> table in Mobile Geodatabase"
   ]
  },
  {
   "cell_type": "markdown",
   "id": "51f963fc-8aeb-428c-b5fc-1b24b0418ccf",
   "metadata": {},
   "source": [
    "### Why Mobile Geodatabase?"
   ]
  },
  {
   "cell_type": "markdown",
   "id": "5086f2c6-54c5-46ec-a162-3c3ef3bc78dc",
   "metadata": {},
   "source": [
    "This format was created by ESRI as a more usable format than the File Geodatabase which was basically a folder  \n",
    "full of numerous proprietary files. The Mobile GDB is a single file and compatible with SQLite, so it is more  \n",
    "versatile. I have chosen to use this format because it allows assigning field aliases to make Census variables  \n",
    "readable by humans.  \n",
    "\n",
    "One downside is feature classes in a MGDB can't be displayed with Python unless data is first converted  \n",
    "to another format."
   ]
  },
  {
   "cell_type": "markdown",
   "id": "7b374143-19d3-498a-8622-86d268f55650",
   "metadata": {},
   "source": [
    "**Import libraries for the functions necessary to pull data, process data, and create GUI:**"
   ]
  },
  {
   "cell_type": "code",
   "execution_count": 1,
   "id": "e520ab84-5654-4911-9976-4d7c989ba053",
   "metadata": {},
   "outputs": [],
   "source": [
    "import os\n",
    "import pandas as pd\n",
    "\n",
    "import arcpy\n",
    "import arcpy.mp as mp\n",
    "\n",
    "from datetime import datetime\n",
    "import re\n",
    "import requests\n",
    "import numpy as np\n",
    "\n",
    "import geopandas\n",
    "\n",
    "import tkinter as tk\n",
    "from tkinter import scrolledtext\n",
    "import matplotlib.pyplot as plt\n",
    "\n"
   ]
  },
  {
   "cell_type": "markdown",
   "id": "98582806-1503-4724-93c8-e00d293035de",
   "metadata": {},
   "source": [
    "**Define a function to take a folder path or URL and create a clean filename without special characters.**  \n",
    "**This function works by looking for characters that are not a-z, A-Z, 0-9 and replacing them with underscores _:**"
   ]
  },
  {
   "cell_type": "code",
   "execution_count": 2,
   "id": "d36d178f-fb7c-44b4-8329-348416bfad45",
   "metadata": {},
   "outputs": [],
   "source": [
    "# Function to clean table names\n",
    "def func_clean_table_name(filename):\n",
    "    # Replace forbidden characters with underscores\n",
    "    cleaned_name = re.sub(r'[^a-zA-Z0-9_]', '_', os.path.splitext(filename)[0])\n",
    "    # Ensure the name doesn't start with a number\n",
    "    if cleaned_name[0].isdigit():\n",
    "        cleaned_name = f\"_{cleaned_name}\"\n",
    "    return cleaned_name"
   ]
  },
  {
   "cell_type": "markdown",
   "id": "6d166398-3067-4fe0-8624-377ad8366718",
   "metadata": {},
   "source": [
    "**Define a function to get input from the user to define the URL for the Census API pull:**"
   ]
  },
  {
   "cell_type": "code",
   "execution_count": 3,
   "id": "9f415c83-34a1-4541-a373-8077faad4b90",
   "metadata": {},
   "outputs": [],
   "source": [
    "def get_input():\n",
    "    global census_base_url, census_dataset_url, in_geography, census_variables, shapefile_cbg\n",
    "    global text_box0, text_box1, text_box2, text_box3, text_box4  # Add these\n",
    "    census_base_url = text_box0.get(\"1.0\", \"end-1c\").strip()\n",
    "    census_dataset_url = text_box1.get(\"1.0\", \"end-1c\").strip()\n",
    "    in_geography = text_box2.get(\"1.0\", \"end-1c\").strip()\n",
    "    census_variables = text_box3.get(\"1.0\", \"end-1c\").strip()\n",
    "    shapefile_cbg = text_box4.get(\"1.0\", \"end-1c\").strip()\n",
    "    root.destroy()\n"
   ]
  },
  {
   "cell_type": "markdown",
   "id": "0d0f7708-2f63-47ac-9cc6-11fc0097d5fb",
   "metadata": {},
   "source": [
    "**Create a variable with the current directory holding this Jupyter Notebook, to allow locating input and output subfolders:**"
   ]
  },
  {
   "cell_type": "code",
   "execution_count": 4,
   "id": "dbe98266-3659-4ae4-9291-880d56d31894",
   "metadata": {},
   "outputs": [
    {
     "name": "stdout",
     "output_type": "stream",
     "text": [
      "C:\\GITHUB\\CCSVI\\Scripts\\Pull_Census_BG_Data\n"
     ]
    }
   ],
   "source": [
    "# Define current directory that this Notebook is run from\n",
    "current_dir = os.getcwd()\n",
    "print(current_dir)"
   ]
  },
  {
   "cell_type": "markdown",
   "id": "c05ff4e0-d44d-4acb-bcf4-5c16e61b1529",
   "metadata": {},
   "source": [
    "**Create variables and assign default values for census URL components:**"
   ]
  },
  {
   "cell_type": "code",
   "execution_count": 5,
   "id": "ec16d989-8f89-4552-99d0-5f120a08516a",
   "metadata": {},
   "outputs": [],
   "source": [
    "# Default values\n",
    "census_base_url = \"https://api.census.gov/\"\n",
    "census_dataset_url = \"data/2023/acs/acs5\"\n",
    "census_variables = \"GEO_ID,NAME,B01001_001E,B25003_001E,B01003_001E,C16001_001E,C16002_013E,C16002_014E,B28011_001E,B28011_008E,B25046_001E,B27010_001E,B27010_002E,B27010_017E,B27010_018E,B27010_033E,B27010_034E,B27010_050E,B27010_051E,B27010_066E,B17001_001E,B17001_002E\"\n",
    "in_geography = r\"&for=block%20group:*&in=state:15&in=county:*&in=tract:*\""
   ]
  },
  {
   "cell_type": "markdown",
   "id": "2e002bb5-7ec7-4683-9032-24f6a4013ffd",
   "metadata": {},
   "source": [
    "**Create variable and assign default value for Census Block Group shapefile name and location relative to this Notebook:**"
   ]
  },
  {
   "cell_type": "code",
   "execution_count": 6,
   "id": "5c6f8918-0e55-4249-bd72-fbbdf7f33c36",
   "metadata": {},
   "outputs": [],
   "source": [
    "shapefile_cbg = r\"input\\tl_2024_15_bg.shp\"\n"
   ]
  },
  {
   "attachments": {
    "7f611586-9036-40e0-b63f-e751ab259160.png": {
     "image/png": "[encoded data removed]"
    }
   },
   "cell_type": "markdown",
   "id": "b293b465-cfb1-40b9-8c38-b48ae89f10b5",
   "metadata": {},
   "source": [
    "**Generate GUI so that user can review default values and change if necessary:**  \n",
    "![input_ui.png](attachment:7f611586-9036-40e0-b63f-e751ab259160.png)"
   ]
  },
  {
   "cell_type": "code",
   "execution_count": 7,
   "id": "246747d8-e956-4c38-a0dc-ee7c2c3cbb3b",
   "metadata": {},
   "outputs": [],
   "source": [
    "# Create the main window\n",
    "root = tk.Tk()\n",
    "root.title(\"Verify Cennsus API Parameters and Paths\")\n",
    "\n",
    "root.lift()\n",
    "root.attributes('-topmost', True)\n",
    "root.after_idle(root.attributes, '-topmost', False)\n",
    "\n",
    "# Census Base URL\n",
    "tk.Label(root, text=\"Census Base URL:\").pack(pady=(10, 0))\n",
    "text_box0 = scrolledtext.ScrolledText(root, width=80, height=2, wrap=tk.WORD)\n",
    "text_box0.insert(tk.INSERT, census_base_url)\n",
    "text_box0.pack(padx=10, pady=5)\n",
    "\n",
    "# Census Dataset URL\n",
    "tk.Label(root, text=\"Census Dataset (add /subject for S tables):\").pack(pady=(10, 0))\n",
    "text_box1 = scrolledtext.ScrolledText(root, width=80, height=2, wrap=tk.WORD)\n",
    "text_box1.insert(tk.INSERT, census_dataset_url)\n",
    "text_box1.pack(padx=10, pady=5)\n",
    "\n",
    "# Census Geography\n",
    "tk.Label(root, text=\"Census Geography:\").pack(pady=(10, 0))\n",
    "text_box2 = scrolledtext.ScrolledText(root, width=80, height=2, wrap=tk.WORD)\n",
    "text_box2.insert(tk.INSERT, in_geography)\n",
    "text_box2.pack(padx=10, pady=5)\n",
    "\n",
    "# Census Variables\n",
    "tk.Label(root, text=\"Census Variables:\").pack(pady=(10, 0))\n",
    "text_box3 = scrolledtext.ScrolledText(root, width=80, height=10, wrap=tk.WORD)\n",
    "text_box3.insert(tk.INSERT, census_variables)\n",
    "text_box3.pack(padx=10, pady=5)\n",
    "\n",
    "# Shapefile CBG\n",
    "tk.Label(root, text=\"CBG Shapefile path (relative to this notebook):\").pack(pady=(10, 0))\n",
    "text_box4 = scrolledtext.ScrolledText(root, width=80, height=2, wrap=tk.WORD)\n",
    "text_box4.insert(tk.INSERT, shapefile_cbg)\n",
    "text_box4.pack(padx=10, pady=5)\n",
    "\n",
    "# Submit Button\n",
    "tk.Button(root, text=\"Submit\", command=get_input).pack(pady=20)\n",
    "\n",
    "root.mainloop()"
   ]
  },
  {
   "cell_type": "code",
   "execution_count": null,
   "id": "9856db44-5efb-4d0b-b71a-bad6a549db1d",
   "metadata": {},
   "outputs": [],
   "source": []
  },
  {
   "cell_type": "markdown",
   "id": "f9331fac-f3b5-4e06-864c-0b35d68aa1da",
   "metadata": {},
   "source": [
    "**Display the values verified/collected from the user in the previous step:**"
   ]
  },
  {
   "cell_type": "code",
   "execution_count": 8,
   "id": "98fb03d9-3d59-417a-a917-86c2f9243bdb",
   "metadata": {},
   "outputs": [
    {
     "name": "stdout",
     "output_type": "stream",
     "text": [
      "Census Base URL: https://api.census.gov/\n",
      "Census Dataset URL: data/2023/acs/acs5\n",
      "Census Geography: &for=block%20group:*&in=state:15&in=county:*&in=tract:*\n",
      "Census Variables: GEO_ID,NAME,B01001_001E,B25003_001E,B01003_001E,C16001_001E,C16002_013E,C16002_014E,B28011_001E,B28011_008E,B25046_001E,B27010_001E,B27010_002E,B27010_017E,B27010_018E,B27010_033E,B27010_034E,B27010_050E,B27010_051E,B27010_066E,B17001_001E,B17001_002E\n",
      "Shapefile Name: input\\tl_2024_15_bg.shp\n"
     ]
    }
   ],
   "source": [
    "# Print values to verify\n",
    "print(\"Census Base URL:\", census_base_url)\n",
    "print(\"Census Dataset URL:\", census_dataset_url)\n",
    "print(\"Census Geography:\", in_geography)\n",
    "print(\"Census Variables:\", census_variables)\n",
    "print(\"Shapefile Name:\", shapefile_cbg)"
   ]
  },
  {
   "cell_type": "markdown",
   "id": "e96eea56-5e41-455f-bde5-5e2f85cb9be4",
   "metadata": {},
   "source": [
    "**Combine the current directory defined earlier with the shapefile name collected from the user.  \n",
    "This generates the full path for the CBG polygon shapefile:**"
   ]
  },
  {
   "cell_type": "code",
   "execution_count": 9,
   "id": "19b282a0-4497-4eb4-b1d9-9c6f5f2c5d5d",
   "metadata": {},
   "outputs": [
    {
     "name": "stdout",
     "output_type": "stream",
     "text": [
      "C:\\GITHUB\\CCSVI\\Scripts\\Pull_Census_BG_Data\\input\\tl_2024_15_bg.shp\n"
     ]
    }
   ],
   "source": [
    "shapefile_cbg_path = os.path.join(current_dir, shapefile_cbg)\n",
    "print(shapefile_cbg_path)"
   ]
  },
  {
   "cell_type": "markdown",
   "id": "8ac4a8e9-43bc-4709-bb3c-58ca98c16c11",
   "metadata": {},
   "source": [
    "**Combine Census Base and Dataset URL components:**"
   ]
  },
  {
   "cell_type": "code",
   "execution_count": 10,
   "id": "625e3140-e0a7-4688-bf69-1bf661332358",
   "metadata": {},
   "outputs": [
    {
     "name": "stdout",
     "output_type": "stream",
     "text": [
      "https://api.census.gov/data/2023/acs/acs5\n"
     ]
    }
   ],
   "source": [
    "census_combined_url = f\"{census_base_url}{census_dataset_url}\"\n",
    "print(census_combined_url)"
   ]
  },
  {
   "cell_type": "markdown",
   "id": "c3065c09-8de0-4cb1-9944-cc3a36b1234f",
   "metadata": {},
   "source": [
    "**Take the census_combined_url that was just generated, and combine with with variables and geography to allow pulling Block Group data:**"
   ]
  },
  {
   "cell_type": "code",
   "execution_count": 11,
   "id": "4f4898b9-89a2-4fd6-88ea-af04dae894bb",
   "metadata": {},
   "outputs": [
    {
     "name": "stdout",
     "output_type": "stream",
     "text": [
      "https://api.census.gov/data/2023/acs/acs5?get=GEO_ID,NAME,B01001_001E,B25003_001E,B01003_001E,C16001_001E,C16002_013E,C16002_014E,B28011_001E,B28011_008E,B25046_001E,B27010_001E,B27010_002E,B27010_017E,B27010_018E,B27010_033E,B27010_034E,B27010_050E,B27010_051E,B27010_066E,B17001_001E,B17001_002E&for=block%20group:*&in=state:15&in=county:*&in=tract:*\n"
     ]
    }
   ],
   "source": [
    "cbg_url = f\"{census_combined_url}?get={census_variables}{in_geography}\"\n",
    "print(cbg_url)"
   ]
  },
  {
   "cell_type": "markdown",
   "id": "1fc96502-f450-496c-9737-3d51bd663ab1",
   "metadata": {},
   "source": [
    "**Take the census_combined_url again, and combine with /variables.json to allow pulling a list of variable names and descriptions.**  \n",
    "**A simple way to view the variables is to visit the URL and replace .json with .html**"
   ]
  },
  {
   "cell_type": "code",
   "execution_count": 12,
   "id": "7725dd10-42d0-4d3b-aa53-97e28effd9cc",
   "metadata": {},
   "outputs": [
    {
     "name": "stdout",
     "output_type": "stream",
     "text": [
      "https://api.census.gov/data/2023/acs/acs5/variables.json\n"
     ]
    }
   ],
   "source": [
    "census_fields_url = f\"{census_combined_url}/variables.json\"\n",
    "print(census_fields_url)"
   ]
  },
  {
   "cell_type": "markdown",
   "id": "a347a2f3-189b-4e5d-95d6-bf5e4ef62e7f",
   "metadata": {},
   "source": [
    "**Use the URLs stored previously to generate table names with special characters removed.**  \n",
    "**Using the URL to generate the table names makes it easy to understand where a table came from:**"
   ]
  },
  {
   "cell_type": "code",
   "execution_count": 13,
   "id": "4cccb98a-127b-400d-8531-44f58534a337",
   "metadata": {},
   "outputs": [
    {
     "name": "stdout",
     "output_type": "stream",
     "text": [
      "data_2023_acs_acs5_Fields\n",
      "https://api.census.gov/data/2023/acs/acs5?get=GEO_ID,NAME,B01001_001E,B25003_001E,B01003_001E,C16001_001E,C16002_013E,C16002_014E,B28011_001E,B28011_008E,B25046_001E,B27010_001E,B27010_002E,B27010_017E,B27010_018E,B27010_033E,B27010_034E,B27010_050E,B27010_051E,B27010_066E,B17001_001E,B17001_002E&for=block%20group:*&in=state:15&in=county:*&in=tract:*\n",
      "data_2023_acs_acs5_CBG\n"
     ]
    }
   ],
   "source": [
    "#Create cleaned up table names from the URLs \n",
    "general_table_name = func_clean_table_name(f\"{census_dataset_url}\")\n",
    "\n",
    "fields_table_name = f\"{general_table_name}_Fields\"\n",
    "\n",
    "cbg_table_name = func_clean_table_name(f\"{census_dataset_url}_CBG\")\n",
    "\n",
    "print(fields_table_name)\n",
    "print(cbg_url)\n",
    "print(cbg_table_name)"
   ]
  },
  {
   "cell_type": "markdown",
   "id": "37460b18-6562-4afc-a77e-14f91b7483dc",
   "metadata": {},
   "source": [
    "**Set variables for current time and output folder which includes that time value.**  \n",
    "**This means every time the program is run, a new output subfolder is created:**"
   ]
  },
  {
   "cell_type": "code",
   "execution_count": 14,
   "id": "22ec16d0-e882-4b1a-8086-309ad5291e26",
   "metadata": {},
   "outputs": [
    {
     "name": "stdout",
     "output_type": "stream",
     "text": [
      "Location of this notebook: C:\\GITHUB\\CCSVI\\Scripts\\Pull_Census_BG_Data\n",
      "Destination folder: C:\\GITHUB\\CCSVI\\Scripts\\Pull_Census_BG_Data\\output\\output_20250424_141845\n"
     ]
    }
   ],
   "source": [
    "# Create an output subfolder in the same folder as this notebook file, named for current date and time\n",
    "current_time = datetime.now().strftime(\"%Y%m%d_%H%M%S\")\n",
    "output_folder_name = f\"output\\output_{current_time}\"\n",
    "\n",
    "# Construct the full path for the new output folder\n",
    "output_folder_path = os.path.join(current_dir, output_folder_name)\n",
    "\n",
    "# Create the folder\n",
    "os.makedirs(output_folder_path, exist_ok=True)\n",
    "\n",
    "destination_dir = output_folder_path # This is so the destination can be changed easily without messing up the previous code\n",
    "\n",
    "print(f\"Location of this notebook: {current_dir}\")\n",
    "print(f\"Destination folder: {destination_dir}\")"
   ]
  },
  {
   "cell_type": "markdown",
   "id": "5374fc32-555b-4edf-a0ac-deb80a1ba129",
   "metadata": {},
   "source": [
    "**Pull Census variables list (aka fields) and store as a dataframe:**"
   ]
  },
  {
   "cell_type": "code",
   "execution_count": 15,
   "id": "e916af1e-beea-4941-8fd0-2f57b7f62e86",
   "metadata": {},
   "outputs": [
    {
     "data": {
      "text/html": [
       "<div>\n",
       "<style scoped>\n",
       "    .dataframe tbody tr th:only-of-type {\n",
       "        vertical-align: middle;\n",
       "    }\n",
       "\n",
       "    .dataframe tbody tr th {\n",
       "        vertical-align: top;\n",
       "    }\n",
       "\n",
       "    .dataframe thead th {\n",
       "        text-align: right;\n",
       "    }\n",
       "</style>\n",
       "<table border=\"1\" class=\"dataframe\">\n",
       "  <thead>\n",
       "    <tr style=\"text-align: right;\">\n",
       "      <th></th>\n",
       "      <th>index</th>\n",
       "      <th>label</th>\n",
       "      <th>concept</th>\n",
       "      <th>predicateType</th>\n",
       "      <th>group</th>\n",
       "      <th>limit</th>\n",
       "      <th>predicateOnly</th>\n",
       "      <th>hasGeoCollectionSupport</th>\n",
       "      <th>attributes</th>\n",
       "      <th>required</th>\n",
       "    </tr>\n",
       "  </thead>\n",
       "  <tbody>\n",
       "    <tr>\n",
       "      <th>0</th>\n",
       "      <td>for</td>\n",
       "      <td>Census API FIPS 'for' clause</td>\n",
       "      <td>Census API Geography Specification</td>\n",
       "      <td>fips-for</td>\n",
       "      <td>N/A</td>\n",
       "      <td>0</td>\n",
       "      <td>True</td>\n",
       "      <td>NaN</td>\n",
       "      <td>NaN</td>\n",
       "      <td>NaN</td>\n",
       "    </tr>\n",
       "    <tr>\n",
       "      <th>1</th>\n",
       "      <td>in</td>\n",
       "      <td>Census API FIPS 'in' clause</td>\n",
       "      <td>Census API Geography Specification</td>\n",
       "      <td>fips-in</td>\n",
       "      <td>N/A</td>\n",
       "      <td>0</td>\n",
       "      <td>True</td>\n",
       "      <td>NaN</td>\n",
       "      <td>NaN</td>\n",
       "      <td>NaN</td>\n",
       "    </tr>\n",
       "    <tr>\n",
       "      <th>2</th>\n",
       "      <td>ucgid</td>\n",
       "      <td>Uniform Census Geography Identifier clause</td>\n",
       "      <td>Census API Geography Specification</td>\n",
       "      <td>ucgid</td>\n",
       "      <td>N/A</td>\n",
       "      <td>0</td>\n",
       "      <td>True</td>\n",
       "      <td>True</td>\n",
       "      <td>NaN</td>\n",
       "      <td>NaN</td>\n",
       "    </tr>\n",
       "    <tr>\n",
       "      <th>3</th>\n",
       "      <td>B24022_060E</td>\n",
       "      <td>Estimate!!Total:!!Female:!!Service occupations...</td>\n",
       "      <td>Sex by Occupation and Median Earnings in the P...</td>\n",
       "      <td>int</td>\n",
       "      <td>B24022</td>\n",
       "      <td>0</td>\n",
       "      <td>NaN</td>\n",
       "      <td>NaN</td>\n",
       "      <td>B24022_060EA,B24022_060M,B24022_060MA</td>\n",
       "      <td>NaN</td>\n",
       "    </tr>\n",
       "    <tr>\n",
       "      <th>4</th>\n",
       "      <td>B19001B_014E</td>\n",
       "      <td>Estimate!!Total:!!$100,000 to $124,999</td>\n",
       "      <td>Household Income in the Past 12 Months (in 202...</td>\n",
       "      <td>int</td>\n",
       "      <td>B19001B</td>\n",
       "      <td>0</td>\n",
       "      <td>NaN</td>\n",
       "      <td>NaN</td>\n",
       "      <td>B19001B_014EA,B19001B_014M,B19001B_014MA</td>\n",
       "      <td>NaN</td>\n",
       "    </tr>\n",
       "  </tbody>\n",
       "</table>\n",
       "</div>"
      ],
      "text/plain": [
       "          index                                              label  \\\n",
       "0           for                       Census API FIPS 'for' clause   \n",
       "1            in                        Census API FIPS 'in' clause   \n",
       "2         ucgid         Uniform Census Geography Identifier clause   \n",
       "3   B24022_060E  Estimate!!Total:!!Female:!!Service occupations...   \n",
       "4  B19001B_014E             Estimate!!Total:!!$100,000 to $124,999   \n",
       "\n",
       "                                             concept predicateType    group  \\\n",
       "0                 Census API Geography Specification      fips-for      N/A   \n",
       "1                 Census API Geography Specification       fips-in      N/A   \n",
       "2                 Census API Geography Specification         ucgid      N/A   \n",
       "3  Sex by Occupation and Median Earnings in the P...           int   B24022   \n",
       "4  Household Income in the Past 12 Months (in 202...           int  B19001B   \n",
       "\n",
       "   limit predicateOnly hasGeoCollectionSupport  \\\n",
       "0      0          True                     NaN   \n",
       "1      0          True                     NaN   \n",
       "2      0          True                    True   \n",
       "3      0           NaN                     NaN   \n",
       "4      0           NaN                     NaN   \n",
       "\n",
       "                                 attributes required  \n",
       "0                                       NaN      NaN  \n",
       "1                                       NaN      NaN  \n",
       "2                                       NaN      NaN  \n",
       "3     B24022_060EA,B24022_060M,B24022_060MA      NaN  \n",
       "4  B19001B_014EA,B19001B_014M,B19001B_014MA      NaN  "
      ]
     },
     "execution_count": 15,
     "metadata": {},
     "output_type": "execute_result"
    }
   ],
   "source": [
    "# Get field listing from json Census URL created previously and put into a data frame so that aliases can be assigned etc.\n",
    "# Dictionary intermediate step is necessary because the API presents the data as a dictionary rather than simple JSON like the other data\n",
    "\n",
    "fields_dict = requests.get(census_fields_url).json()\n",
    "\n",
    "fields_df = pd.DataFrame.from_dict(fields_dict[\"variables\"], orient=\"index\").reset_index()\n",
    "\n",
    "fields_df.head()"
   ]
  },
  {
   "cell_type": "markdown",
   "id": "da396043-bc0e-47c5-a3fb-b6eb4f80552c",
   "metadata": {},
   "source": [
    "**Pull Census data for CBG level using the previously generated API URL:**"
   ]
  },
  {
   "cell_type": "code",
   "execution_count": 16,
   "id": "f7b68374-5f1c-4862-a633-da3693b54678",
   "metadata": {},
   "outputs": [
    {
     "data": {
      "text/html": [
       "<div>\n",
       "<style scoped>\n",
       "    .dataframe tbody tr th:only-of-type {\n",
       "        vertical-align: middle;\n",
       "    }\n",
       "\n",
       "    .dataframe tbody tr th {\n",
       "        vertical-align: top;\n",
       "    }\n",
       "\n",
       "    .dataframe thead th {\n",
       "        text-align: right;\n",
       "    }\n",
       "</style>\n",
       "<table border=\"1\" class=\"dataframe\">\n",
       "  <thead>\n",
       "    <tr style=\"text-align: right;\">\n",
       "      <th></th>\n",
       "      <th>GEO_ID</th>\n",
       "      <th>NAME</th>\n",
       "      <th>B01001_001E</th>\n",
       "      <th>B25003_001E</th>\n",
       "      <th>B01003_001E</th>\n",
       "      <th>C16001_001E</th>\n",
       "      <th>C16002_013E</th>\n",
       "      <th>C16002_014E</th>\n",
       "      <th>B28011_001E</th>\n",
       "      <th>B28011_008E</th>\n",
       "      <th>...</th>\n",
       "      <th>B27010_034E</th>\n",
       "      <th>B27010_050E</th>\n",
       "      <th>B27010_051E</th>\n",
       "      <th>B27010_066E</th>\n",
       "      <th>B17001_001E</th>\n",
       "      <th>B17001_002E</th>\n",
       "      <th>state</th>\n",
       "      <th>county</th>\n",
       "      <th>tract</th>\n",
       "      <th>block group</th>\n",
       "    </tr>\n",
       "  </thead>\n",
       "  <tbody>\n",
       "    <tr>\n",
       "      <th>0</th>\n",
       "      <td>1500000US150010201001</td>\n",
       "      <td>Block Group 1; Census Tract 201; Hawaii County...</td>\n",
       "      <td>1505</td>\n",
       "      <td>485</td>\n",
       "      <td>1505</td>\n",
       "      <td>None</td>\n",
       "      <td>0</td>\n",
       "      <td>21</td>\n",
       "      <td>485</td>\n",
       "      <td>126</td>\n",
       "      <td>...</td>\n",
       "      <td>541</td>\n",
       "      <td>12</td>\n",
       "      <td>266</td>\n",
       "      <td>0</td>\n",
       "      <td>None</td>\n",
       "      <td>None</td>\n",
       "      <td>15</td>\n",
       "      <td>001</td>\n",
       "      <td>020100</td>\n",
       "      <td>1</td>\n",
       "    </tr>\n",
       "    <tr>\n",
       "      <th>1</th>\n",
       "      <td>1500000US150010201002</td>\n",
       "      <td>Block Group 2; Census Tract 201; Hawaii County...</td>\n",
       "      <td>495</td>\n",
       "      <td>213</td>\n",
       "      <td>495</td>\n",
       "      <td>None</td>\n",
       "      <td>0</td>\n",
       "      <td>31</td>\n",
       "      <td>213</td>\n",
       "      <td>42</td>\n",
       "      <td>...</td>\n",
       "      <td>218</td>\n",
       "      <td>3</td>\n",
       "      <td>111</td>\n",
       "      <td>7</td>\n",
       "      <td>None</td>\n",
       "      <td>None</td>\n",
       "      <td>15</td>\n",
       "      <td>001</td>\n",
       "      <td>020100</td>\n",
       "      <td>2</td>\n",
       "    </tr>\n",
       "    <tr>\n",
       "      <th>2</th>\n",
       "      <td>1500000US150010201003</td>\n",
       "      <td>Block Group 3; Census Tract 201; Hawaii County...</td>\n",
       "      <td>1427</td>\n",
       "      <td>603</td>\n",
       "      <td>1427</td>\n",
       "      <td>None</td>\n",
       "      <td>0</td>\n",
       "      <td>7</td>\n",
       "      <td>603</td>\n",
       "      <td>47</td>\n",
       "      <td>...</td>\n",
       "      <td>691</td>\n",
       "      <td>6</td>\n",
       "      <td>383</td>\n",
       "      <td>0</td>\n",
       "      <td>None</td>\n",
       "      <td>None</td>\n",
       "      <td>15</td>\n",
       "      <td>001</td>\n",
       "      <td>020100</td>\n",
       "      <td>3</td>\n",
       "    </tr>\n",
       "    <tr>\n",
       "      <th>3</th>\n",
       "      <td>1500000US150010201004</td>\n",
       "      <td>Block Group 4; Census Tract 201; Hawaii County...</td>\n",
       "      <td>1325</td>\n",
       "      <td>373</td>\n",
       "      <td>1325</td>\n",
       "      <td>None</td>\n",
       "      <td>12</td>\n",
       "      <td>9</td>\n",
       "      <td>373</td>\n",
       "      <td>34</td>\n",
       "      <td>...</td>\n",
       "      <td>538</td>\n",
       "      <td>8</td>\n",
       "      <td>176</td>\n",
       "      <td>22</td>\n",
       "      <td>None</td>\n",
       "      <td>None</td>\n",
       "      <td>15</td>\n",
       "      <td>001</td>\n",
       "      <td>020100</td>\n",
       "      <td>4</td>\n",
       "    </tr>\n",
       "    <tr>\n",
       "      <th>4</th>\n",
       "      <td>1500000US150010202021</td>\n",
       "      <td>Block Group 1; Census Tract 202.02; Hawaii Cou...</td>\n",
       "      <td>1170</td>\n",
       "      <td>212</td>\n",
       "      <td>1170</td>\n",
       "      <td>None</td>\n",
       "      <td>0</td>\n",
       "      <td>5</td>\n",
       "      <td>212</td>\n",
       "      <td>40</td>\n",
       "      <td>...</td>\n",
       "      <td>263</td>\n",
       "      <td>0</td>\n",
       "      <td>89</td>\n",
       "      <td>0</td>\n",
       "      <td>None</td>\n",
       "      <td>None</td>\n",
       "      <td>15</td>\n",
       "      <td>001</td>\n",
       "      <td>020202</td>\n",
       "      <td>1</td>\n",
       "    </tr>\n",
       "  </tbody>\n",
       "</table>\n",
       "<p>5 rows × 26 columns</p>\n",
       "</div>"
      ],
      "text/plain": [
       "                  GEO_ID                                               NAME  \\\n",
       "0  1500000US150010201001  Block Group 1; Census Tract 201; Hawaii County...   \n",
       "1  1500000US150010201002  Block Group 2; Census Tract 201; Hawaii County...   \n",
       "2  1500000US150010201003  Block Group 3; Census Tract 201; Hawaii County...   \n",
       "3  1500000US150010201004  Block Group 4; Census Tract 201; Hawaii County...   \n",
       "4  1500000US150010202021  Block Group 1; Census Tract 202.02; Hawaii Cou...   \n",
       "\n",
       "  B01001_001E B25003_001E B01003_001E C16001_001E C16002_013E C16002_014E  \\\n",
       "0        1505         485        1505        None           0          21   \n",
       "1         495         213         495        None           0          31   \n",
       "2        1427         603        1427        None           0           7   \n",
       "3        1325         373        1325        None          12           9   \n",
       "4        1170         212        1170        None           0           5   \n",
       "\n",
       "  B28011_001E B28011_008E  ... B27010_034E B27010_050E B27010_051E  \\\n",
       "0         485         126  ...         541          12         266   \n",
       "1         213          42  ...         218           3         111   \n",
       "2         603          47  ...         691           6         383   \n",
       "3         373          34  ...         538           8         176   \n",
       "4         212          40  ...         263           0          89   \n",
       "\n",
       "  B27010_066E B17001_001E B17001_002E state county   tract block group  \n",
       "0           0        None        None    15    001  020100           1  \n",
       "1           7        None        None    15    001  020100           2  \n",
       "2           0        None        None    15    001  020100           3  \n",
       "3          22        None        None    15    001  020100           4  \n",
       "4           0        None        None    15    001  020202           1  \n",
       "\n",
       "[5 rows x 26 columns]"
      ]
     },
     "execution_count": 16,
     "metadata": {},
     "output_type": "execute_result"
    }
   ],
   "source": [
    "# Get CBG level data with selected fields\n",
    "\n",
    "cbg_response = requests.get(cbg_url)\n",
    "\n",
    "cbg_data = cbg_response.json()\n",
    "\n",
    "cbg_df = pd.DataFrame(cbg_data[1:], columns=cbg_data[0])\n",
    "\n",
    "cbg_df.head()"
   ]
  },
  {
   "cell_type": "markdown",
   "id": "82c92176-3694-4587-82a6-696ab2f7eee1",
   "metadata": {},
   "source": [
    "**Generate path to store Census variable list as a CSV file:**"
   ]
  },
  {
   "cell_type": "code",
   "execution_count": 17,
   "id": "954603ab-90d8-40af-b2f1-fe425664d3cf",
   "metadata": {},
   "outputs": [
    {
     "name": "stdout",
     "output_type": "stream",
     "text": [
      "CSV file created successfully: C:\\GITHUB\\CCSVI\\Scripts\\Pull_Census_BG_Data\\output\\output_20250424_141845\\data_2023_acs_acs5_Fields.csv\n"
     ]
    }
   ],
   "source": [
    "fields_csv_path = os.path.join(destination_dir, f\"{fields_table_name}.csv\")\n",
    "\n",
    "fields_df.to_csv(fields_csv_path, index=False, encoding=\"utf-8\")\n",
    "\n",
    "print(f\"CSV file created successfully: {fields_csv_path}\")"
   ]
  },
  {
   "cell_type": "markdown",
   "id": "eb356b6f-c112-4444-904a-fe20050d32c8",
   "metadata": {},
   "source": [
    "**Generate path to store CBG data pull as a CSV file**"
   ]
  },
  {
   "cell_type": "code",
   "execution_count": 18,
   "id": "59b55308-5be4-42ab-9044-33d4e8bc0acc",
   "metadata": {},
   "outputs": [
    {
     "name": "stdout",
     "output_type": "stream",
     "text": [
      "CSV file created successfully: C:\\GITHUB\\CCSVI\\Scripts\\Pull_Census_BG_Data\\output\\output_20250424_141845\\data_2023_acs_acs5_CBG.csv\n"
     ]
    }
   ],
   "source": [
    "cbg_csv_path = os.path.join(destination_dir, f\"{cbg_table_name}.csv\")\n",
    "\n",
    "cbg_df.to_csv(cbg_csv_path, index=False, encoding=\"utf-8\")\n",
    "\n",
    "print(f\"CSV file created successfully: {cbg_csv_path}\")"
   ]
  },
  {
   "cell_type": "markdown",
   "id": "51bc8b31-3c6a-4a4d-b0b7-6e98d4a66273",
   "metadata": {},
   "source": [
    "**Generate path for Mobile Geodatabase and create it using ArcPy library:**"
   ]
  },
  {
   "cell_type": "code",
   "execution_count": 19,
   "id": "b63d5839-0806-4cfc-b575-8e9fd7c6277d",
   "metadata": {},
   "outputs": [
    {
     "name": "stdout",
     "output_type": "stream",
     "text": [
      "Mobile Geodatabase created at: C:\\GITHUB\\CCSVI\\Scripts\\Pull_Census_BG_Data\\output\\output_20250424_141845\\data_2023_acs_acs5.geodatabase\n"
     ]
    }
   ],
   "source": [
    "# Generate a filename using the previously generated data set name \n",
    "# Also assign destination_dir to the new gdb_dir\n",
    "\n",
    "gdb_dir = destination_dir\n",
    "gdb_name = f\"{general_table_name}.geodatabase\"\n",
    "#gdb_name = f\"{general_table_name}{current_time}.geodatabase\"\n",
    "\n",
    "# Construct the full path for the Mobile Geodatabase using the same Destination Dir as before\n",
    "gdb_path = os.path.join(gdb_dir, gdb_name)\n",
    "\n",
    "# Create the Mobile Geodatabase\n",
    "arcpy.management.CreateMobileGDB(gdb_dir, gdb_name)\n",
    "\n",
    "print(f\"Mobile Geodatabase created at: {gdb_path}\")"
   ]
  },
  {
   "cell_type": "markdown",
   "id": "1a2ea37a-dc71-42e8-b4c0-dce5da32f2e5",
   "metadata": {},
   "source": [
    "**Take the previously created CSV files and import to Mobile Geodatabase:**"
   ]
  },
  {
   "cell_type": "code",
   "execution_count": 20,
   "id": "c8b1e509-1a7e-4769-97c7-a731482da728",
   "metadata": {},
   "outputs": [
    {
     "name": "stdout",
     "output_type": "stream",
     "text": [
      "Successfully imported data_2023_acs_acs5_CBG.csv as data_2023_acs_acs5_CBG.\n",
      "Successfully imported data_2023_acs_acs5_Fields.csv as data_2023_acs_acs5_Fields.\n",
      "All CSV files have been imported to the Mobile GDB.\n"
     ]
    }
   ],
   "source": [
    "# Loop through all CSV files in the destination directory, clean up names, and put them into the Geodatabase as tables\n",
    "\n",
    "for root, dirs, files in os.walk(destination_dir):\n",
    "    for file in files:\n",
    "        if file.endswith('.csv'):\n",
    "            try:\n",
    "                # Construct the full path to the CSV file\n",
    "                csv_path = os.path.join(root, file)\n",
    "\n",
    "                # Generate a valid table name\n",
    "                table_name = func_clean_table_name(file)\n",
    "\n",
    "                # Import the CSV into the geodatabase\n",
    "                arcpy.TableToTable_conversion(\n",
    "                    in_rows=csv_path,\n",
    "                    out_path=gdb_path,\n",
    "                    out_name=table_name\n",
    "                )\n",
    "                print(f\"Successfully imported {file} as {table_name}.\")\n",
    "\n",
    "            except Exception as e:\n",
    "                print(f\"Error importing {file}: {e}\")\n",
    "\n",
    "print(\"All CSV files have been imported to the Mobile GDB.\")"
   ]
  },
  {
   "cell_type": "markdown",
   "id": "f7c64dc7-25d4-4de2-88ef-33f3494e1d00",
   "metadata": {},
   "source": [
    "**Find data and variable list tables within the geodatabase. We only have one of each  \n",
    "but this code can deal with multiple. They are distinguished by filenames.  \n",
    "Ending in _CBG or other geography marks a table  as data, but ending in  \n",
    "_Fields marks it as a variable listing table:**"
   ]
  },
  {
   "cell_type": "code",
   "execution_count": 21,
   "id": "875dc745-a160-489c-8ba4-a646e90a09bd",
   "metadata": {},
   "outputs": [
    {
     "name": "stdout",
     "output_type": "stream",
     "text": [
      "Data and field name listing tables found\n",
      "['main.data_2023_acs_acs5_CBG']\n",
      "['main.data_2023_acs_acs5_Fields']\n"
     ]
    }
   ],
   "source": [
    "# First step to assign field aliases to field names in all the data tables that were just put into the geodatabase\n",
    "\n",
    "# Set workspace to the geodatabase path\n",
    "arcpy.env.workspace = gdb_path\n",
    "\n",
    "# List all tables in the geodatabase\n",
    "tables = arcpy.ListTables()\n",
    "\n",
    "# Separate data and metadata tables\n",
    "data_tables = [t for t in tables if t.endswith((\"_State\", \"_County\",\"_Tract\",\"_CBG\"))]\n",
    "metadata_tables = [t for t in tables if t.endswith(\"_Fields\")]\n",
    "\n",
    "print(\"Data and field name listing tables found\")\n",
    "print(data_tables)\n",
    "print(metadata_tables)"
   ]
  },
  {
   "cell_type": "markdown",
   "id": "c1cdf8e5-ac9e-4adb-92d7-f673ca7fd343",
   "metadata": {},
   "source": [
    "**Assign the human-readable field aliases from variables list table to data tables:**"
   ]
  },
  {
   "cell_type": "code",
   "execution_count": 22,
   "id": "ec01f03d-278d-42c5-836f-b4f4c09bdac0",
   "metadata": {},
   "outputs": [
    {
     "name": "stdout",
     "output_type": "stream",
     "text": [
      "Processing main.data_2023_acs_acs5_CBG with metadata main.data_2023_acs_acs5_Fields\n",
      "Field OBJECTID not found in metadata mapping. Skipping alias update.\n",
      "\n",
      "Updated alias for GEO_ID to 'Geography'\n",
      "\n",
      "Field NAME not found in metadata mapping. Skipping alias update.\n",
      "\n",
      "Updated alias for B01001_001E to 'Estimate Total:'\n",
      "\n",
      "Updated alias for B25003_001E to 'Estimate Total:'\n",
      "\n",
      "Updated alias for B01003_001E to 'Estimate Total'\n",
      "\n",
      "Updated alias for C16001_001E to 'Estimate Total:'\n",
      "\n",
      "Updated alias for C16002_013E to 'Estimate Total: Other languages: Limited English speaking household'\n",
      "\n",
      "Updated alias for C16002_014E to 'Estimate Total: Other languages: Not a limited English speaking household'\n",
      "\n",
      "Updated alias for B28011_001E to 'Estimate Total:'\n",
      "\n",
      "Updated alias for B28011_008E to 'Estimate Total: No Internet access'\n",
      "\n",
      "Updated alias for B25046_001E to 'Estimate Aggregate number of vehicles available:'\n",
      "\n",
      "Updated alias for B27010_001E to 'Estimate Total:'\n",
      "\n",
      "Updated alias for B27010_002E to 'Estimate Total: Under 19 years:'\n",
      "\n",
      "Updated alias for B27010_017E to 'Estimate Total: Under 19 years: No health insurance coverage'\n",
      "\n",
      "Updated alias for B27010_018E to 'Estimate Total: 19 to 34 years:'\n",
      "\n",
      "Updated alias for B27010_033E to 'Estimate Total: 19 to 34 years: No health insurance coverage'\n",
      "\n",
      "Updated alias for B27010_034E to 'Estimate Total: 35 to 64 years:'\n",
      "\n",
      "Updated alias for B27010_050E to 'Estimate Total: 35 to 64 years: No health insurance coverage'\n",
      "\n",
      "Updated alias for B27010_051E to 'Estimate Total: 65 years and over:'\n",
      "\n",
      "Updated alias for B27010_066E to 'Estimate Total: 65 years and over: No health insurance coverage'\n",
      "\n",
      "Updated alias for B17001_001E to 'Estimate Total:'\n",
      "\n",
      "Updated alias for B17001_002E to 'Estimate Total: Income in the past 12 months below poverty level:'\n",
      "\n",
      "Field state not found in metadata mapping. Skipping alias update.\n",
      "\n",
      "Field county not found in metadata mapping. Skipping alias update.\n",
      "\n",
      "Field tract not found in metadata mapping. Skipping alias update.\n",
      "\n",
      "Field block_group not found in metadata mapping. Skipping alias update.\n",
      "\n",
      "Finished processing Mobile Geodatabase and assigning field aliases.\n"
     ]
    }
   ],
   "source": [
    "# Loop through all data tables and assign field aliases\n",
    "for data_table in data_tables:\n",
    "    try:\n",
    "       \n",
    "        metadata_table = re.sub(r'(_State|_County|_CBG)$', '_Fields', data_table) # Find the corresponding metadata table to any given state table\n",
    "\n",
    "        if metadata_table not in metadata_tables:\n",
    "            print(f\"Metadata table not found for {data_table}. Skipping.\")\n",
    "            continue\n",
    "\n",
    "        print(f\"Processing {data_table} with metadata {metadata_table}\")\n",
    "\n",
    "        # Get the actual field names from the metadata table\n",
    "        metadata_fields = [field.name for field in arcpy.ListFields(metadata_table)]\n",
    "\n",
    "        # Determine the correct field name for \"index\"\n",
    "        index_field = \"index_\" if \"index_\" in metadata_fields else \"index\"\n",
    "        # Read the mapping of short names to human-readable aliases\n",
    "        field_name_mapping = {}\n",
    "        with arcpy.da.SearchCursor(metadata_table, [index_field, \"label\"]) as cursor:\n",
    "            for row in cursor:\n",
    "                field_name_mapping[row[0]] = row[1]\n",
    "\n",
    "        #print(f\"Field name mapping for {metadata_table}: {field_name_mapping}\")\n",
    "\n",
    "        # Update field aliases in the data table\n",
    "        fields = arcpy.ListFields(data_table)\n",
    "        for field in fields:\n",
    "            if field.name in field_name_mapping:\n",
    "                \n",
    "                alias0 = field_name_mapping[field.name]\n",
    "                alias1 = alias0.replace(\"!!\", \" \")\n",
    "                alias = alias1\n",
    "                #print(f\"Modified alias: '{alias1}'\")\n",
    "                \n",
    "                arcpy.AlterField_management(data_table, field.name, new_field_alias=alias)\n",
    "                print(f\"Updated alias for {field.name} to '{alias}'\\n\")\n",
    "            else:\n",
    "                print(f\"Field {field.name} not found in metadata mapping. Skipping alias update.\\n\")\n",
    "\n",
    "    except Exception as e:\n",
    "        print(f\"Error processing {data_table}: {e}\")\n",
    "\n",
    "print(\"Finished processing Mobile Geodatabase and assigning field aliases.\")"
   ]
  },
  {
   "cell_type": "markdown",
   "id": "614f8973-c536-4c6f-b4d4-f2cbffc77569",
   "metadata": {},
   "source": [
    "**Check the tables in the geodatabase and generate a list stored as a CSV for checking:**"
   ]
  },
  {
   "cell_type": "code",
   "execution_count": 23,
   "id": "a9fbb5cf-a78f-4f2c-a6e5-08b9bea3768c",
   "metadata": {},
   "outputs": [
    {
     "name": "stdout",
     "output_type": "stream",
     "text": [
      "Processing table: main.data_2023_acs_acs5_CBG\n",
      "Processing table: main.data_2023_acs_acs5_Fields\n",
      "Field information saved to C:\\GITHUB\\CCSVI\\Scripts\\Pull_Census_BG_Data\\output\\output_20250424_141845\\FieldInfo.csv\n"
     ]
    }
   ],
   "source": [
    "# List all tables in the geodatabase with field names and aliases nd store as a CSV to check\n",
    "\n",
    "arcpy.env.workspace = gdb_path\n",
    "tables = arcpy.ListTables()\n",
    "\n",
    "# Collect field information for all tables\n",
    "field_info = []\n",
    "\n",
    "for table in tables:\n",
    "    print(f\"Processing table: {table}\")\n",
    "    fields = arcpy.ListFields(table)\n",
    "    for field in fields:\n",
    "        field_info.append({\n",
    "            \"Table\": table,\n",
    "            \"Field Name\": field.name,\n",
    "            \"Field Alias\": field.aliasName\n",
    "        })\n",
    "\n",
    "# Convert to a DataFrame for better visualization\n",
    "\n",
    "field_info_df = pd.DataFrame(field_info)\n",
    "\n",
    "# Display the DataFrame in Jupyter Notebook\n",
    "# field_info_df\n",
    "\n",
    "#  save to a CSV for reference\n",
    "output_csv = f\"{destination_dir}\\\\FieldInfo.csv\"\n",
    "field_info_df.to_csv(output_csv, index=False)\n",
    "print(f\"Field information saved to {output_csv}\")"
   ]
  },
  {
   "cell_type": "markdown",
   "id": "6eb836cd-937a-4c54-94be-23d8bf3528d4",
   "metadata": {},
   "source": [
    "**Import CBG polygon shapefile to Mobile Geodatabase:**"
   ]
  },
  {
   "cell_type": "code",
   "execution_count": 24,
   "id": "d13eeef5-276b-439c-a734-d0952142c67b",
   "metadata": {},
   "outputs": [
    {
     "name": "stdout",
     "output_type": "stream",
     "text": [
      "Shapefile found at 'C:\\GITHUB\\CCSVI\\Scripts\\Pull_Census_BG_Data\\input\\tl_2024_15_bg.shp' and imported to 'C:\\GITHUB\\CCSVI\\Scripts\\Pull_Census_BG_Data\\output\\output_20250424_141845\\data_2023_acs_acs5.geodatabase'\n"
     ]
    }
   ],
   "source": [
    "if not os.path.exists(shapefile_cbg_path):\n",
    "    print(f\"Error: The shapefile '{shapefile_cbg}' was not found in '{current_dir}'.\")\n",
    "else:\n",
    "    arcpy.FeatureClassToGeodatabase_conversion(shapefile_cbg_path, gdb_path)\n",
    "    print(f\"Shapefile found at '{shapefile_cbg_path}' and imported to '{gdb_path}'\")\n",
    "    "
   ]
  },
  {
   "cell_type": "markdown",
   "id": "3f0183a7-6c76-447b-b870-a15d1e284c75",
   "metadata": {},
   "source": [
    "**Generate name of CBG feature class within GDB for use later:**"
   ]
  },
  {
   "cell_type": "code",
   "execution_count": 25,
   "id": "bbf1a510-20cf-433e-908d-3d60861f2d65",
   "metadata": {},
   "outputs": [
    {
     "name": "stdout",
     "output_type": "stream",
     "text": [
      "input\\tl_2024_15_bg\n"
     ]
    }
   ],
   "source": [
    "featureclass_cbg = os.path.splitext(shapefile_cbg)[0]\n",
    "print(featureclass_cbg)"
   ]
  },
  {
   "cell_type": "markdown",
   "id": "741cdaea-dee9-4d01-bcd8-d3d2848cd427",
   "metadata": {},
   "source": [
    "**Generate path of CBG feature class within GDB for use later:**"
   ]
  },
  {
   "cell_type": "code",
   "execution_count": 26,
   "id": "bfc47a6b-9274-4368-8b6e-9099184ecf6f",
   "metadata": {},
   "outputs": [
    {
     "name": "stdout",
     "output_type": "stream",
     "text": [
      "C:\\GITHUB\\CCSVI\\Scripts\\Pull_Census_BG_Data\\output\\output_20250424_141845\\data_2023_acs_acs5.geodatabase\\main.tl_2024_15_bg\n"
     ]
    }
   ],
   "source": [
    "#featureclass_cbg_path = os.path.join(gdb_path, featureclass_cbg)\n",
    "featureclass_cbg_path = os.path.join(gdb_path, \"main.tl_2024_15_bg\")\n",
    "print(featureclass_cbg_path)"
   ]
  },
  {
   "cell_type": "markdown",
   "id": "1cedbd86-198c-45b8-bac4-610663d0aed1",
   "metadata": {},
   "source": [
    "**Append all Census variables in variables table to the CBG feature class to create a \"flat\" dataset:**"
   ]
  },
  {
   "cell_type": "code",
   "execution_count": 27,
   "id": "965c1230-2624-4427-b14b-9b827b653b4e",
   "metadata": {},
   "outputs": [
    {
     "name": "stdout",
     "output_type": "stream",
     "text": [
      "Appending fields from main.data_2023_acs_acs5_CBG to C:\\GITHUB\\CCSVI\\Scripts\\Pull_Census_BG_Data\\output\\output_20250424_141845\\data_2023_acs_acs5.geodatabase\\main.tl_2024_15_bg...\n",
      "Successfully joined main.data_2023_acs_acs5_CBG\n",
      "Join fields completed\n"
     ]
    }
   ],
   "source": [
    "# List all tables in the geodatabase\n",
    "arcpy.env.workspace = gdb_path\n",
    "tables = arcpy.ListTables()\n",
    "\n",
    "# Loop through each table and join fields to the feature class\n",
    "for table in tables:\n",
    "    if table.endswith(\"_CBG\"):\n",
    "        print(f\"Appending fields from {table} to {featureclass_cbg_path}...\")\n",
    "        \n",
    "        try:\n",
    "            arcpy.JoinField_management(\n",
    "                in_data=featureclass_cbg_path,  # Feature class\n",
    "                in_field=\"GEOIDFQ\",  # Key field in the feature class\n",
    "                join_table=os.path.join(gdb_path, table),  # Full table path\n",
    "                join_field=\"GEO_ID\"  # Key field in the table\n",
    "            )\n",
    "            print(f\"Successfully joined {table}\")\n",
    "        except Exception as e:\n",
    "            print(f\"Skipping {table} due to error {e}\")\n",
    "\n",
    "print(\"Join fields completed\")"
   ]
  },
  {
   "cell_type": "markdown",
   "id": "131746ab-47f0-4f1e-884a-4f172adbbdb6",
   "metadata": {},
   "source": [
    "**Verify destination_dir and create a temporary shapefile to verify the data:**"
   ]
  },
  {
   "cell_type": "code",
   "execution_count": 28,
   "id": "0c07e2d6-86a9-4d0b-ba04-e232bad5be0a",
   "metadata": {},
   "outputs": [
    {
     "name": "stdout",
     "output_type": "stream",
     "text": [
      "C:\\GITHUB\\CCSVI\\Scripts\\Pull_Census_BG_Data\\output\\output_20250424_141845\n"
     ]
    }
   ],
   "source": [
    "print(destination_dir)"
   ]
  },
  {
   "cell_type": "markdown",
   "id": "db035f42-da62-4537-8c4c-6576b13240d1",
   "metadata": {},
   "source": [
    "**Export Mobile Geodatabase feature class to temporary shapefile within output folder.**  \n",
    "**This will allow it to be displayed to verify that it was created successfully:**"
   ]
  },
  {
   "cell_type": "code",
   "execution_count": 29,
   "id": "de3be509-08d9-4b7b-a04d-22bbc9203ee7",
   "metadata": {},
   "outputs": [
    {
     "data": {
      "text/html": [
       "<div class='gpresult'><h2 class='msg-title'>Messages</h2><div id='messages'>Start Time: Thursday, April 24, 2025 2:19:47 PM<br>Succeeded at Thursday, April 24, 2025 2:19:47 PM (Elapsed Time: 0.23 seconds)<br></div><div id = 'default' /></div></div>"
      ],
      "text/plain": [
       "<Result 'C:\\\\GITHUB\\\\CCSVI\\\\Scripts\\\\Pull_Census_BG_Data\\\\output\\\\output_20250424_141845\\\\cbg_temp.shp'>"
      ]
     },
     "execution_count": 29,
     "metadata": {},
     "output_type": "execute_result"
    }
   ],
   "source": [
    "# Export to temporary shapefile\n",
    "temp_shp = os.path.join(destination_dir,\"cbg_temp.shp\")\n",
    "arcpy.conversion.FeatureClassToFeatureClass(\n",
    "    in_features=featureclass_cbg_path,\n",
    "    out_path=destination_dir,\n",
    "    out_name=\"cbg_temp\"\n",
    ")"
   ]
  },
  {
   "cell_type": "code",
   "execution_count": null,
   "id": "91e77596-5331-4272-9482-51e1fb07e64c",
   "metadata": {},
   "outputs": [],
   "source": []
  },
  {
   "cell_type": "markdown",
   "id": "f62f9581-c8d9-40e9-85a3-f97311317b62",
   "metadata": {},
   "source": [
    "**Read the temporary shapefile into a geographic dataframe and display it as simple polygons:**"
   ]
  },
  {
   "cell_type": "code",
   "execution_count": 30,
   "id": "2f0ac56f-89f0-4495-b4b1-554685c0cfbf",
   "metadata": {},
   "outputs": [
    {
     "data": {
      "image/png": "[encoded data removed]",
      "text/plain": [
       "<Figure size 1000x1000 with 1 Axes>"
      ]
     },
     "metadata": {},
     "output_type": "display_data"
    }
   ],
   "source": [
    "# Read the shapefile exported earlier\n",
    "gdf = geopandas.read_file(temp_shp)\n",
    "\n",
    "# Optional: reproject to Web Mercator for better display\n",
    "gdf = gdf.to_crs(epsg=3857)\n",
    "\n",
    "# Plot the polygons\n",
    "gdf.plot(edgecolor='black', facecolor='lightgray', figsize=(10, 10))\n",
    "\n",
    "plt.axis('off')\n",
    "plt.title(\"Census Block Groups\")\n",
    "plt.show()"
   ]
  },
  {
   "cell_type": "markdown",
   "id": "7b44c1e2-28ac-45c0-be9d-91cd7cc0a5e9",
   "metadata": {},
   "source": [
    "**Load attribute table from the temporary shapefile into a dataframe and display the \"head\" or first few rows.  \n",
    "These are the raw field names, not field aliases that would be visible in the Mobile Geodatabase:**"
   ]
  },
  {
   "cell_type": "code",
   "execution_count": 31,
   "id": "f6c9ae81-2a5b-4796-85f2-f9b8aaaa4cc6",
   "metadata": {},
   "outputs": [
    {
     "data": {
      "text/html": [
       "<div>\n",
       "<style scoped>\n",
       "    .dataframe tbody tr th:only-of-type {\n",
       "        vertical-align: middle;\n",
       "    }\n",
       "\n",
       "    .dataframe tbody tr th {\n",
       "        vertical-align: top;\n",
       "    }\n",
       "\n",
       "    .dataframe thead th {\n",
       "        text-align: right;\n",
       "    }\n",
       "</style>\n",
       "<table border=\"1\" class=\"dataframe\">\n",
       "  <thead>\n",
       "    <tr style=\"text-align: right;\">\n",
       "      <th></th>\n",
       "      <th>STATEFP</th>\n",
       "      <th>COUNTYFP</th>\n",
       "      <th>TRACTCE</th>\n",
       "      <th>BLKGRPCE</th>\n",
       "      <th>GEOID</th>\n",
       "      <th>GEOIDFQ</th>\n",
       "      <th>NAMELSAD</th>\n",
       "      <th>MTFCC</th>\n",
       "      <th>FUNCSTAT</th>\n",
       "      <th>ALAND</th>\n",
       "      <th>...</th>\n",
       "      <th>B27010_051</th>\n",
       "      <th>B27010_066</th>\n",
       "      <th>B17001_001</th>\n",
       "      <th>B17001_002</th>\n",
       "      <th>state</th>\n",
       "      <th>county</th>\n",
       "      <th>tract</th>\n",
       "      <th>block_grou</th>\n",
       "      <th>st_area_Sh</th>\n",
       "      <th>st_perimet</th>\n",
       "    </tr>\n",
       "  </thead>\n",
       "  <tbody>\n",
       "    <tr>\n",
       "      <th>0</th>\n",
       "      <td>15</td>\n",
       "      <td>003</td>\n",
       "      <td>008948</td>\n",
       "      <td>3</td>\n",
       "      <td>150030089483</td>\n",
       "      <td>1500000US150030089483</td>\n",
       "      <td>Block Group 3</td>\n",
       "      <td>G5030</td>\n",
       "      <td>S</td>\n",
       "      <td>218082.0</td>\n",
       "      <td>...</td>\n",
       "      <td>264</td>\n",
       "      <td>0</td>\n",
       "      <td>None</td>\n",
       "      <td>None</td>\n",
       "      <td>15</td>\n",
       "      <td>3</td>\n",
       "      <td>8948</td>\n",
       "      <td>3</td>\n",
       "      <td>0.000019</td>\n",
       "      <td>0.019027</td>\n",
       "    </tr>\n",
       "    <tr>\n",
       "      <th>1</th>\n",
       "      <td>15</td>\n",
       "      <td>003</td>\n",
       "      <td>003414</td>\n",
       "      <td>3</td>\n",
       "      <td>150030034143</td>\n",
       "      <td>1500000US150030034143</td>\n",
       "      <td>Block Group 3</td>\n",
       "      <td>G5030</td>\n",
       "      <td>S</td>\n",
       "      <td>75471.0</td>\n",
       "      <td>...</td>\n",
       "      <td>288</td>\n",
       "      <td>0</td>\n",
       "      <td>None</td>\n",
       "      <td>None</td>\n",
       "      <td>15</td>\n",
       "      <td>3</td>\n",
       "      <td>3414</td>\n",
       "      <td>3</td>\n",
       "      <td>0.000007</td>\n",
       "      <td>0.011633</td>\n",
       "    </tr>\n",
       "    <tr>\n",
       "      <th>2</th>\n",
       "      <td>15</td>\n",
       "      <td>003</td>\n",
       "      <td>008952</td>\n",
       "      <td>3</td>\n",
       "      <td>150030089523</td>\n",
       "      <td>1500000US150030089523</td>\n",
       "      <td>Block Group 3</td>\n",
       "      <td>G5030</td>\n",
       "      <td>S</td>\n",
       "      <td>921290.0</td>\n",
       "      <td>...</td>\n",
       "      <td>218</td>\n",
       "      <td>0</td>\n",
       "      <td>None</td>\n",
       "      <td>None</td>\n",
       "      <td>15</td>\n",
       "      <td>3</td>\n",
       "      <td>8952</td>\n",
       "      <td>3</td>\n",
       "      <td>0.000080</td>\n",
       "      <td>0.045011</td>\n",
       "    </tr>\n",
       "    <tr>\n",
       "      <th>3</th>\n",
       "      <td>15</td>\n",
       "      <td>003</td>\n",
       "      <td>008947</td>\n",
       "      <td>1</td>\n",
       "      <td>150030089471</td>\n",
       "      <td>1500000US150030089471</td>\n",
       "      <td>Block Group 1</td>\n",
       "      <td>G5030</td>\n",
       "      <td>S</td>\n",
       "      <td>272431.0</td>\n",
       "      <td>...</td>\n",
       "      <td>339</td>\n",
       "      <td>0</td>\n",
       "      <td>None</td>\n",
       "      <td>None</td>\n",
       "      <td>15</td>\n",
       "      <td>3</td>\n",
       "      <td>8947</td>\n",
       "      <td>1</td>\n",
       "      <td>0.000024</td>\n",
       "      <td>0.020576</td>\n",
       "    </tr>\n",
       "    <tr>\n",
       "      <th>4</th>\n",
       "      <td>15</td>\n",
       "      <td>003</td>\n",
       "      <td>008948</td>\n",
       "      <td>2</td>\n",
       "      <td>150030089482</td>\n",
       "      <td>1500000US150030089482</td>\n",
       "      <td>Block Group 2</td>\n",
       "      <td>G5030</td>\n",
       "      <td>S</td>\n",
       "      <td>189770.0</td>\n",
       "      <td>...</td>\n",
       "      <td>199</td>\n",
       "      <td>0</td>\n",
       "      <td>None</td>\n",
       "      <td>None</td>\n",
       "      <td>15</td>\n",
       "      <td>3</td>\n",
       "      <td>8948</td>\n",
       "      <td>2</td>\n",
       "      <td>0.000017</td>\n",
       "      <td>0.016577</td>\n",
       "    </tr>\n",
       "  </tbody>\n",
       "</table>\n",
       "<p>5 rows × 41 columns</p>\n",
       "</div>"
      ],
      "text/plain": [
       "  STATEFP COUNTYFP TRACTCE BLKGRPCE         GEOID                GEOIDFQ  \\\n",
       "0      15      003  008948        3  150030089483  1500000US150030089483   \n",
       "1      15      003  003414        3  150030034143  1500000US150030034143   \n",
       "2      15      003  008952        3  150030089523  1500000US150030089523   \n",
       "3      15      003  008947        1  150030089471  1500000US150030089471   \n",
       "4      15      003  008948        2  150030089482  1500000US150030089482   \n",
       "\n",
       "        NAMELSAD  MTFCC FUNCSTAT     ALAND  ...  B27010_051 B27010_066  \\\n",
       "0  Block Group 3  G5030        S  218082.0  ...         264          0   \n",
       "1  Block Group 3  G5030        S   75471.0  ...         288          0   \n",
       "2  Block Group 3  G5030        S  921290.0  ...         218          0   \n",
       "3  Block Group 1  G5030        S  272431.0  ...         339          0   \n",
       "4  Block Group 2  G5030        S  189770.0  ...         199          0   \n",
       "\n",
       "  B17001_001 B17001_002 state  county  tract  block_grou st_area_Sh  \\\n",
       "0       None       None    15       3   8948           3   0.000019   \n",
       "1       None       None    15       3   3414           3   0.000007   \n",
       "2       None       None    15       3   8952           3   0.000080   \n",
       "3       None       None    15       3   8947           1   0.000024   \n",
       "4       None       None    15       3   8948           2   0.000017   \n",
       "\n",
       "   st_perimet  \n",
       "0    0.019027  \n",
       "1    0.011633  \n",
       "2    0.045011  \n",
       "3    0.020576  \n",
       "4    0.016577  \n",
       "\n",
       "[5 rows x 41 columns]"
      ]
     },
     "execution_count": 31,
     "metadata": {},
     "output_type": "execute_result"
    }
   ],
   "source": [
    "\n",
    "# Convert GeoDataFrame to DataFrame\n",
    "df = gdf.drop(columns='geometry')\n",
    "\n",
    "# Display the first few rows\n",
    "df.head()"
   ]
  },
  {
   "cell_type": "markdown",
   "id": "90a34130-e029-47ea-a768-e0b3795be343",
   "metadata": {},
   "source": [
    "## The following code is \"Phase 2\" which calculates new values from existing variables in the Feature Class"
   ]
  },
  {
   "attachments": {
    "4aad4e0f-6f36-46e2-ae84-088ecbf35546.png": {
     "image/png": "[encoded data removed]"
    }
   },
   "cell_type": "markdown",
   "id": "ce7a2047-3273-4a39-89eb-94aa79ca212a",
   "metadata": {},
   "source": [
    "#### For flexibility, the calculations will be loaded from an Excel file\n",
    "#### The .XLSX has 3 fields: Name for new calculated field, Alias for new calc field, and the expression (formula)\n",
    "![image.png](attachment:4aad4e0f-6f36-46e2-ae84-088ecbf35546.png)"
   ]
  },
  {
   "cell_type": "markdown",
   "id": "69dbd4f0-1b5e-4113-9b54-ea8370cd09d5",
   "metadata": {},
   "source": [
    "#### Create text variable and calculate path for an input .XLSX file:"
   ]
  },
  {
   "cell_type": "code",
   "execution_count": 32,
   "id": "f597ba5c-c68d-42ef-8842-7915f8f937af",
   "metadata": {},
   "outputs": [
    {
     "name": "stdout",
     "output_type": "stream",
     "text": [
      "C:\\GITHUB\\CCSVI\\Scripts\\Pull_Census_BG_Data\\input\\calculations.xlsx\n"
     ]
    }
   ],
   "source": [
    "calc_excel = r\"input\\calculations.xlsx\"\n",
    "calc_path = os.path.join(current_dir, calc_excel)\n",
    "print(calc_path)"
   ]
  },
  {
   "cell_type": "markdown",
   "id": "b4aec6a3-6ca5-47a2-9643-3a62f767782c",
   "metadata": {},
   "source": [
    "####\n",
    "#### Load Excel file starting with line 2 into a data frame:"
   ]
  },
  {
   "cell_type": "code",
   "execution_count": 33,
   "id": "198e8bd5-1c4b-4855-a27a-8354f79119c4",
   "metadata": {},
   "outputs": [
    {
     "name": "stdout",
     "output_type": "stream",
     "text": [
      "  New_Calc_Field   New_Calc_Alias                       Expression\n",
      "0     PctPoverty  % Below Poverty  B17001_002E / B17001_001E * 100\n"
     ]
    }
   ],
   "source": [
    "calc_df = pd.read_excel(calc_path)\n",
    "\n",
    "# Check the first few rows\n",
    "print(calc_df.head())"
   ]
  },
  {
   "cell_type": "markdown",
   "id": "72a2076d-8217-4d04-ac25-e2569f92bf80",
   "metadata": {},
   "source": [
    "#### This function deals with null values in the table by blocking the expression:"
   ]
  },
  {
   "cell_type": "code",
   "execution_count": 34,
   "id": "bd82a2fc-e6d3-4a80-81dd-b9c5a4c2ad21",
   "metadata": {},
   "outputs": [],
   "source": [
    "def wrap_expression_with_null_check(expr):\n",
    "    # Find all field names inside !...!\n",
    "    field_names = re.findall(r\"!([^!]+)!\", expr)\n",
    "    null_check = \" and \".join([f\"{f} is not None\" for f in field_names])\n",
    "    # Wrap the original expression with a conditional null check\n",
    "    return f\"({expr}) if {null_check} else None\""
   ]
  },
  {
   "cell_type": "code",
   "execution_count": 37,
   "id": "6352aefb-c996-45df-afb2-8b41107b7f33",
   "metadata": {},
   "outputs": [
    {
     "name": "stdout",
     "output_type": "stream",
     "text": [
      "Skipping invalid expression on row 0: B17001_002E / B17001_001E * 100\n"
     ]
    }
   ],
   "source": [
    "# Loop through each row in the DataFrame\n",
    "for i, row in calc_df.iterrows():\n",
    "    calc_field = row[\"New_Calc_Field\"]\n",
    "    calc_alias = row[\"New_Calc_Alias\"]\n",
    "    raw_expr = row[\"Expression\"]\n",
    "\n",
    "    fields_in_expr = re.findall(r'!(\\w+)!', raw_expr)\n",
    "    if len(fields_in_expr) < 2:\n",
    "        print(f\"Skipping invalid expression on row {i}: {raw_expr}\")\n",
    "        continue\n",
    "\n",
    "    null_checks = ' and '.join([f\"{f} is not None\" for f in fields_in_expr])\n",
    "    denom_check = f\"{fields_in_expr[1]} != 0\"\n",
    "    safe_expr = f\"{raw_expr} if ({null_checks} and {denom_check}) else None\"\n",
    "\n",
    "    arcpy.AddField_management(featureclass_cbg_path, calc_field, \"DOUBLE\", field_alias=calc_alias)\n",
    "    arcpy.CalculateField_management(featureclass_cbg_path, calc_field, safe_expr, \"PYTHON3\")"
   ]
  },
  {
   "cell_type": "code",
   "execution_count": null,
   "id": "5c427640-f060-4ed2-ab29-62f00d88416e",
   "metadata": {},
   "outputs": [],
   "source": []
  }
 ],
 "metadata": {
  "kernelspec": {
   "display_name": "Python 3 (ipykernel)",
   "language": "python",
   "name": "python3"
  },
  "language_info": {
   "codemirror_mode": {
    "name": "ipython",
    "version": 3
   },
   "file_extension": ".py",
   "mimetype": "text/x-python",
   "name": "python",
   "nbconvert_exporter": "python",
   "pygments_lexer": "ipython3",
   "version": "3.11.10"
  }
 },
 "nbformat": 4,
 "nbformat_minor": 5
}
