{
 "cells": [
  {
   "cell_type": "code",
   "execution_count": 1,
   "id": "42ebdbb3-bccc-4b92-a26c-6cd0488a3e77",
   "metadata": {},
   "outputs": [],
   "source": [
    "import osmnx as ox\n",
    "import geopandas as gpd\n",
    "import os\n",
    "import datetime\n",
    "import re\n",
    "import requests\n",
    "import numpy as np\n",
    "import arcpy\n",
    "from arcpy import env\n",
    "#from osmnx.geometries import geometries_from_place\n"
   ]
  },
  {
   "cell_type": "code",
   "execution_count": 2,
   "id": "e66ab62a-b6d7-40ef-874a-e3009a8ab636",
   "metadata": {},
   "outputs": [],
   "source": [
    "# Function to clean table names\n",
    "def func_clean_table_name(filename):\n",
    "    # Replace forbidden characters with underscores\n",
    "    cleaned_name = re.sub(r'[^a-zA-Z0-9_]', '_', os.path.splitext(filename)[0])\n",
    "    # Ensure the name doesn't start with a number\n",
    "    if cleaned_name[0].isdigit():\n",
    "        cleaned_name = f\"_{cleaned_name}\"\n",
    "    return cleaned_name"
   ]
  },
  {
   "cell_type": "code",
   "execution_count": 3,
   "id": "8b020d90-0196-40aa-8cb4-45d8d23e631a",
   "metadata": {},
   "outputs": [
    {
     "name": "stdout",
     "output_type": "stream",
     "text": [
      "Clean Name from Location: Honolulu_County__Hawaii__USA\n"
     ]
    }
   ],
   "source": [
    "#pull_location = \"Hawaii County, Hawaii, USA\"\n",
    "pull_location = \"Honolulu County, Hawaii, USA\"\n",
    "clean_loc_name = func_clean_table_name(f\"{pull_location}\")\n",
    "print(f\"Clean Name from Location: {clean_loc_name}\")"
   ]
  },
  {
   "cell_type": "code",
   "execution_count": 4,
   "id": "8ad09869-9587-4752-ab6b-46fddaba21ec",
   "metadata": {},
   "outputs": [
    {
     "name": "stdout",
     "output_type": "stream",
     "text": [
      "C:\\jup\\buildings_osm_extract\n"
     ]
    }
   ],
   "source": [
    "current_dir = os.getcwd()\n",
    "print(current_dir)"
   ]
  },
  {
   "cell_type": "code",
   "execution_count": 5,
   "id": "a4f84bc8-7de8-41c3-a753-d76f61507db9",
   "metadata": {},
   "outputs": [
    {
     "name": "stdout",
     "output_type": "stream",
     "text": [
      "Location of this notebook: C:\\jup\\buildings_osm_extract\n",
      "Destination folder: C:\\jup\\buildings_osm_extract\\output\\output_20250414_192121\n"
     ]
    }
   ],
   "source": [
    "# Create an output subfolder in the same folder as this notebook file, named for current date and time\n",
    "current_time = datetime.datetime.now().strftime(\"%Y%m%d_%H%M%S\")\n",
    "output_folder_name = f\"output\\output_{current_time}\"\n",
    "\n",
    "# Construct the full path for the new output folder\n",
    "output_folder_path = os.path.join(current_dir, output_folder_name)\n",
    "\n",
    "# Create the folder\n",
    "os.makedirs(output_folder_path, exist_ok=True)\n",
    "\n",
    "destination_dir = output_folder_path # This is so the destination can be changed easily without messing up the previous code\n",
    "\n",
    "print(f\"Location of this notebook: {current_dir}\")\n",
    "print(f\"Destination folder: {destination_dir}\")"
   ]
  },
  {
   "cell_type": "code",
   "execution_count": 6,
   "id": "a7c14649-93bf-48b5-a4a8-2b9986d10b46",
   "metadata": {},
   "outputs": [
    {
     "name": "stdout",
     "output_type": "stream",
     "text": [
      "Destination GPKG: C:\\jup\\buildings_osm_extract\\output\\output_20250414_192121\\Honolulu_County__Hawaii__USA.gpkg\n"
     ]
    }
   ],
   "source": [
    "geopackage_name = clean_loc_name + \".gpkg\"\n",
    "geopackage_path = os.path.join(destination_dir, geopackage_name)\n",
    "print(f\"Destination GPKG: {geopackage_path}\")"
   ]
  },
  {
   "cell_type": "code",
   "execution_count": 7,
   "id": "d0aee78f-8a51-4700-a4f6-63a3e138c7b3",
   "metadata": {},
   "outputs": [
    {
     "name": "stderr",
     "output_type": "stream",
     "text": [
      "C:\\Users\\JPL\\AppData\\Roaming\\Python\\Python311\\site-packages\\osmnx\\_overpass.py:267: UserWarning: This area is 106 times your configured Overpass max query area size. It will automatically be divided up into multiple sub-queries accordingly. This may take a long time.\n",
      "  multi_poly_proj = utils_geo._consolidate_subdivide_geometry(poly_proj)\n"
     ]
    },
    {
     "name": "stdout",
     "output_type": "stream",
     "text": [
      "Polygon         68755\n",
      "Point              43\n",
      "MultiPolygon       22\n",
      "Name: count, dtype: int64\n"
     ]
    }
   ],
   "source": [
    "# Define the place to pull buildings for\n",
    "mytags = {\"building\": True}\n",
    "gdf_temp = ox.features_from_place(pull_location, tags=mytags)\n",
    "print(gdf_temp.geom_type.value_counts())"
   ]
  },
  {
   "cell_type": "code",
   "execution_count": 8,
   "id": "d0e5e39c-291b-43c3-93ba-291a1f618425",
   "metadata": {},
   "outputs": [
    {
     "name": "stdout",
     "output_type": "stream",
     "text": [
      "Data filtered to polygons only\n"
     ]
    }
   ],
   "source": [
    "#Filter to polygon part of data only\n",
    "gdf_polygons = gdf_temp[gdf_temp.geom_type.isin([\"Polygon\", \"MultiPolygon\"])]\n",
    "print(\"Data filtered to polygons only\")"
   ]
  },
  {
   "cell_type": "code",
   "execution_count": 9,
   "id": "c32a408b-81c3-480c-8d80-5f4238fad0b9",
   "metadata": {},
   "outputs": [
    {
     "name": "stdout",
     "output_type": "stream",
     "text": [
      "epsg:4326\n"
     ]
    }
   ],
   "source": [
    "print(gdf_polygons.crs)"
   ]
  },
  {
   "cell_type": "code",
   "execution_count": 10,
   "id": "8e6dd586-6117-4516-8e66-e0f1447b6d6f",
   "metadata": {},
   "outputs": [
    {
     "name": "stdout",
     "output_type": "stream",
     "text": [
      "Geopackage at C:\\jup\\buildings_osm_extract\\output\\output_20250414_192121\\Honolulu_County__Hawaii__USA.gpkg now contains building footprints in layer Honolulu_County__Hawaii__USA\n"
     ]
    }
   ],
   "source": [
    "gdf_polygons.to_file(geopackage_path, layer=clean_loc_name, driver=\"GPKG\")\n",
    "print(f\"Geopackage at {geopackage_path} now contains building footprints in layer {clean_loc_name}\")"
   ]
  },
  {
   "cell_type": "code",
   "execution_count": 11,
   "id": "f495dd73-1b79-4724-b6bf-64134fe3e6c9",
   "metadata": {},
   "outputs": [],
   "source": [
    "# Export to Shapefile\n",
    "#gdf_polygons.to_file(shapefile_path)\n",
    "#print(f\"Shapefile created at: {shapefile_path}\")"
   ]
  },
  {
   "cell_type": "code",
   "execution_count": null,
   "id": "97be409b-97eb-4ca3-b67b-cdeb2f3fbc2b",
   "metadata": {},
   "outputs": [],
   "source": []
  }
 ],
 "metadata": {
  "kernelspec": {
   "display_name": "Python 3 (ipykernel)",
   "language": "python",
   "name": "python3"
  },
  "language_info": {
   "codemirror_mode": {
    "name": "ipython",
    "version": 3
   },
   "file_extension": ".py",
   "mimetype": "text/x-python",
   "name": "python",
   "nbconvert_exporter": "python",
   "pygments_lexer": "ipython3",
   "version": "3.11.10"
  }
 },
 "nbformat": 4,
 "nbformat_minor": 5
}
