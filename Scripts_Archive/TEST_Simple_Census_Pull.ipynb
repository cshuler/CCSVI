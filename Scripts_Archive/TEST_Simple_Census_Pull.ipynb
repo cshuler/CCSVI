{
 "cells": [
  {
   "cell_type": "code",
   "execution_count": 1,
   "id": "ecfac711-7e26-4bef-9014-bc3f18312561",
   "metadata": {},
   "outputs": [],
   "source": [
    "import requests\n",
    "import pandas as pd\n",
    "import tkinter as tk\n",
    "from tkinter import filedialog\n",
    "from IPython.display import display"
   ]
  },
  {
   "cell_type": "code",
   "execution_count": 2,
   "id": "605cea15-53a0-4788-b39f-1ff53a80e208",
   "metadata": {},
   "outputs": [
    {
     "name": "stdout",
     "output_type": "stream",
     "text": [
      "https://api.census.gov/data/2020/dec/pl\n",
      "{'get': 'GEO_ID,P1_001N,NAME', 'for': 'block group:*', 'in': 'state:15 county:*'}\n"
     ]
    }
   ],
   "source": [
    "url = \"https://api.census.gov/data/2020/dec/pl\"\n",
    "\n",
    "params = {\n",
    "    \"get\": \"GEO_ID,P1_001N,NAME\",\n",
    "    \"for\": \"block group:*\",\n",
    "    \"in\": \"state:15 county:*\",\n",
    "}\n",
    "\n",
    "print(url)\n",
    "print(params)"
   ]
  },
  {
   "cell_type": "code",
   "execution_count": 3,
   "id": "1a72fe74-4393-496c-ae5c-b9cbfc06aa94",
   "metadata": {},
   "outputs": [
    {
     "data": {
      "text/html": [
       "<div>\n",
       "<style scoped>\n",
       "    .dataframe tbody tr th:only-of-type {\n",
       "        vertical-align: middle;\n",
       "    }\n",
       "\n",
       "    .dataframe tbody tr th {\n",
       "        vertical-align: top;\n",
       "    }\n",
       "\n",
       "    .dataframe thead th {\n",
       "        text-align: right;\n",
       "    }\n",
       "</style>\n",
       "<table border=\"1\" class=\"dataframe\">\n",
       "  <thead>\n",
       "    <tr style=\"text-align: right;\">\n",
       "      <th></th>\n",
       "      <th>GEO_ID</th>\n",
       "      <th>P1_001N</th>\n",
       "      <th>NAME</th>\n",
       "      <th>state</th>\n",
       "      <th>county</th>\n",
       "      <th>tract</th>\n",
       "      <th>block group</th>\n",
       "    </tr>\n",
       "  </thead>\n",
       "  <tbody>\n",
       "    <tr>\n",
       "      <th>0</th>\n",
       "      <td>1500000US150010201002</td>\n",
       "      <td>1044</td>\n",
       "      <td>Block Group 2, Census Tract 201, Hawaii County...</td>\n",
       "      <td>15</td>\n",
       "      <td>001</td>\n",
       "      <td>020100</td>\n",
       "      <td>2</td>\n",
       "    </tr>\n",
       "    <tr>\n",
       "      <th>1</th>\n",
       "      <td>1500000US150010201001</td>\n",
       "      <td>1826</td>\n",
       "      <td>Block Group 1, Census Tract 201, Hawaii County...</td>\n",
       "      <td>15</td>\n",
       "      <td>001</td>\n",
       "      <td>020100</td>\n",
       "      <td>1</td>\n",
       "    </tr>\n",
       "    <tr>\n",
       "      <th>2</th>\n",
       "      <td>1500000US150010201003</td>\n",
       "      <td>1350</td>\n",
       "      <td>Block Group 3, Census Tract 201, Hawaii County...</td>\n",
       "      <td>15</td>\n",
       "      <td>001</td>\n",
       "      <td>020100</td>\n",
       "      <td>3</td>\n",
       "    </tr>\n",
       "    <tr>\n",
       "      <th>3</th>\n",
       "      <td>1500000US150010201004</td>\n",
       "      <td>1213</td>\n",
       "      <td>Block Group 4, Census Tract 201, Hawaii County...</td>\n",
       "      <td>15</td>\n",
       "      <td>001</td>\n",
       "      <td>020100</td>\n",
       "      <td>4</td>\n",
       "    </tr>\n",
       "    <tr>\n",
       "      <th>4</th>\n",
       "      <td>1500000US150010202021</td>\n",
       "      <td>888</td>\n",
       "      <td>Block Group 1, Census Tract 202.02, Hawaii Cou...</td>\n",
       "      <td>15</td>\n",
       "      <td>001</td>\n",
       "      <td>020202</td>\n",
       "      <td>1</td>\n",
       "    </tr>\n",
       "  </tbody>\n",
       "</table>\n",
       "</div>"
      ],
      "text/plain": [
       "                  GEO_ID P1_001N  \\\n",
       "0  1500000US150010201002    1044   \n",
       "1  1500000US150010201001    1826   \n",
       "2  1500000US150010201003    1350   \n",
       "3  1500000US150010201004    1213   \n",
       "4  1500000US150010202021     888   \n",
       "\n",
       "                                                NAME state county   tract  \\\n",
       "0  Block Group 2, Census Tract 201, Hawaii County...    15    001  020100   \n",
       "1  Block Group 1, Census Tract 201, Hawaii County...    15    001  020100   \n",
       "2  Block Group 3, Census Tract 201, Hawaii County...    15    001  020100   \n",
       "3  Block Group 4, Census Tract 201, Hawaii County...    15    001  020100   \n",
       "4  Block Group 1, Census Tract 202.02, Hawaii Cou...    15    001  020202   \n",
       "\n",
       "  block group  \n",
       "0           2  \n",
       "1           1  \n",
       "2           3  \n",
       "3           4  \n",
       "4           1  "
      ]
     },
     "execution_count": 3,
     "metadata": {},
     "output_type": "execute_result"
    }
   ],
   "source": [
    "response = requests.get(url, params=params)\n",
    "data = response.json()\n",
    "\n",
    "columns = data[0]\n",
    "rows = data[1:]\n",
    "\n",
    "df = pd.DataFrame(rows, columns=columns)\n",
    "\n",
    "df.head()"
   ]
  },
  {
   "cell_type": "code",
   "execution_count": 4,
   "id": "6d8e7ff7-bed3-448c-a327-703e64b59ef5",
   "metadata": {},
   "outputs": [],
   "source": [
    "# Function to handle file dialog\n",
    "def save_file_dialog():\n",
    "    root = tk.Tk()\n",
    "    root.withdraw()  # Hide the root window\n",
    "    \n",
    "    # Force the dialog to appear in front\n",
    "    root.lift()\n",
    "    root.attributes('-topmost', True)  # Keeps the dialog on top\n",
    "    root.after(100, root.attributes, '-topmost', False)  # Remove topmost after the dialog opens\n",
    "    \n",
    "    # Open save file dialog\n",
    "    file_path = filedialog.asksaveasfilename(\n",
    "        defaultextension=\".csv\", \n",
    "        filetypes=[(\"CSV files\", \"*.csv\"), (\"All files\", \"*.*\")]\n",
    "    )\n",
    "    \n",
    "    if file_path:\n",
    "        df.to_csv(file_path, index=False)\n",
    "        print(f\"File saved to: {file_path}\")\n",
    "    else:\n",
    "        print(\"Save operation was canceled.\")\n",
    "    \n",
    "    root.quit()"
   ]
  },
  {
   "cell_type": "markdown",
   "id": "b66f00d9-6354-473c-bd90-7d307ea981d2",
   "metadata": {},
   "source": [
    "## Ensure the file dialog appears after the notebook display\n",
    "display(\"Opening Save File Dialog...\")\n",
    "save_file_dialog()"
   ]
  },
  {
   "cell_type": "code",
   "execution_count": null,
   "id": "22d1492a-bc11-4ca7-9895-2e801e750a97",
   "metadata": {},
   "outputs": [],
   "source": [
    "print("
   ]
  }
 ],
 "metadata": {
  "kernelspec": {
   "display_name": "Python 3 (ipykernel)",
   "language": "python",
   "name": "python3"
  },
  "language_info": {
   "codemirror_mode": {
    "name": "ipython",
    "version": 3
   },
   "file_extension": ".py",
   "mimetype": "text/x-python",
   "name": "python",
   "nbconvert_exporter": "python",
   "pygments_lexer": "ipython3",
   "version": "3.11.10"
  }
 },
 "nbformat": 4,
 "nbformat_minor": 5
}
