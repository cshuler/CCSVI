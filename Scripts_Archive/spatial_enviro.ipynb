{
 "cells": [
  {
   "cell_type": "code",
   "execution_count": 8,
   "id": "05d927d3-4769-4595-8aa8-0ad8ec50e4e8",
   "metadata": {},
   "outputs": [
    {
     "data": {
      "text/plain": [
       "'CheckedOut'"
      ]
     },
     "execution_count": 8,
     "metadata": {},
     "output_type": "execute_result"
    }
   ],
   "source": [
    "import os\n",
    "import pandas as pd\n",
    "import arcpy\n",
    "import arcpy.mp as mp\n",
    "import re\n",
    "import requests\n",
    "import numpy as np\n",
    "import geopandas\n",
    "from arcpy.sa import *\n",
    "arcpy.CheckOutExtension(\"Spatial\")"
   ]
  },
  {
   "cell_type": "markdown",
   "id": "448550f4-dfe6-4bdb-8b9c-1d252271f9e5",
   "metadata": {},
   "source": [
    "#### Define function to reproject raster data and store within a mobile geodatabase"
   ]
  },
  {
   "cell_type": "code",
   "execution_count": 9,
   "id": "50c9c1ed-1d7f-4d0a-a1a2-efed930cb343",
   "metadata": {},
   "outputs": [],
   "source": [
    "\n",
    "def func_import_raster(raster_path, mgdb_path, reference_fc):\n",
    "    \"\"\"\n",
    "    Copies a raster to a mobile geodatabase and reprojects it to match the spatial reference\n",
    "    of a reference feature class. Saves the reprojected raster with '_reproj' appended to the name.\n",
    "\n",
    "    Parameters:\n",
    "        raster_path (str): Path to the original .tif raster.\n",
    "        mgdb_path (str): Path to the mobile geodatabase (.geodatabase).\n",
    "        reference_fc (str): Full path to the feature class in the same geodatabase to match projection.\n",
    "    \n",
    "    Returns:\n",
    "        Tuple[str, str]: Paths to the original raster in the GDB and the reprojected raster in the GDB.\n",
    "    \"\"\"\n",
    "    \n",
    "    # Extract base name (no extension)\n",
    "    raster_name = os.path.splitext(os.path.basename(raster_path))[0]\n",
    "    raster_in_gdb = os.path.join(mgdb_path, raster_name)\n",
    "\n",
    "    # Copy raster to GDB if it doesn't exist\n",
    "    if not arcpy.Exists(raster_in_gdb):\n",
    "        arcpy.management.CopyRaster(raster_path, raster_in_gdb)\n",
    "    \n",
    "    # Get spatial reference of the reference feature class\n",
    "    ref_sr = arcpy.Describe(reference_fc).spatialReference\n",
    "\n",
    "    # Reproject raster to match feature class\n",
    "    raster_reproj_name = f\"{raster_name}_reproj\"\n",
    "    raster_reproj_gdb = os.path.join(mgdb_path, raster_reproj_name)\n",
    "\n",
    "    arcpy.management.ProjectRaster(\n",
    "        in_raster=raster_in_gdb,\n",
    "        out_raster=raster_reproj_gdb,\n",
    "        out_coor_system=ref_sr,\n",
    "        resampling_type=\"BILINEAR\"\n",
    "    )\n",
    "\n",
    "    return raster_in_gdb, raster_reproj_gdb"
   ]
  },
  {
   "cell_type": "markdown",
   "id": "2869b75d-ae1a-457e-94ac-f43bcd1f399a",
   "metadata": {},
   "source": [
    "#### Get the path of this notebook and use it to generate path for input shapefile:"
   ]
  },
  {
   "cell_type": "code",
   "execution_count": 10,
   "id": "68a1da9f-739b-43c9-b1f8-7951f64eee05",
   "metadata": {},
   "outputs": [
    {
     "name": "stdout",
     "output_type": "stream",
     "text": [
      "Location of this notebook: C:\\GITHUB\\CCSVI\\Scripts\\Spatial_Analysis\n",
      "Location of CBG SHP: C:\\GITHUB\\CCSVI\\Scripts\\Spatial_Analysis\\input\\cbg_kontur.shp\n",
      "Location for output: C:\\GITHUB\\CCSVI\\Scripts\\Spatial_Analysis\\output\n"
     ]
    }
   ],
   "source": [
    "current_dir = os.getcwd()\n",
    "shapefile_cbg = r\"input\\cbg_kontur.shp\"\n",
    "shapefile_cbg_path = os.path.join(current_dir, shapefile_cbg)\n",
    "output_folder_path = os.path.join(current_dir, \"output\")\n",
    "print(f\"Location of this notebook: {current_dir}\")\n",
    "print(f\"Location of CBG SHP: {shapefile_cbg_path}\")\n",
    "print(f\"Location for output: {output_folder_path}\")"
   ]
  },
  {
   "cell_type": "markdown",
   "id": "407a6fea-a83d-4030-953a-28b272cfbae9",
   "metadata": {},
   "source": [
    "#### Set up ArcPy Workspace:"
   ]
  },
  {
   "cell_type": "code",
   "execution_count": 11,
   "id": "b3ae849a-ba58-44bc-9f87-f1251ffde6cc",
   "metadata": {},
   "outputs": [],
   "source": [
    "arcpy.env.overwriteOutput = True\n",
    "workspace = os.path.dirname(shapefile_cbg_path)\n",
    "arcpy.env.workspace = workspace"
   ]
  },
  {
   "cell_type": "markdown",
   "id": "7a434ed8-bee9-4df8-90b7-322bcf201c96",
   "metadata": {},
   "source": [
    "#### Load shapefile into a layer and check spatial reference etc:"
   ]
  },
  {
   "cell_type": "code",
   "execution_count": 12,
   "id": "72d5c9ae-d80f-4fef-8627-623d0c8f0b54",
   "metadata": {},
   "outputs": [
    {
     "name": "stdout",
     "output_type": "stream",
     "text": [
      "Layer cbg_layer info:\n",
      "\n",
      "Shape type: Polygon\n",
      "Spatial reference: WGS_1984_Web_Mercator_Auxiliary_Sphere\n",
      "Number of features: 1057\n",
      "\n",
      "Field List: ['FID', 'Shape', 'GEOID', 'GEO_ID', 'GEOIDFQ', 'STATEFP', 'COUNTYFP', 'TRACTCE', 'BLKGRPCE', 'NAMELSAD', 'P1_001N', 'trim_acres', 'pop_per_ac', 'pop_sqkm', 'Shape_Leng', 'Shape_Area', 'whole_bg_a', 'whole_bg_s', 'trim_bg_ac', 'trim_bg_sq', 'rainavgin']\n"
     ]
    }
   ],
   "source": [
    "cbg_layer = shapefile_cbg_path\n",
    "desc = arcpy.Describe(cbg_layer)\n",
    "fields = [f.name for f in arcpy.ListFields(cbg_layer)]\n",
    "count = arcpy.management.GetCount(cbg_layer)\n",
    "print(\"Layer cbg_layer info:\\n\")\n",
    "print(\"Shape type:\", desc.shapeType)\n",
    "print(\"Spatial reference:\", desc.spatialReference.name)\n",
    "print(f\"Number of features: {count[0]}\\n\")\n",
    "print(f\"Field List: {fields}\")\n"
   ]
  },
  {
   "cell_type": "markdown",
   "id": "41f09998-6251-4a4e-9e66-bf40b0eada06",
   "metadata": {},
   "source": [
    "#### Shapefile limits field names to only 10 char so we need to create a Mobile GDB as an intermediate step:"
   ]
  },
  {
   "cell_type": "code",
   "execution_count": 15,
   "id": "c1b587a6-d2d9-4e00-983e-91633e5e2aa6",
   "metadata": {},
   "outputs": [
    {
     "name": "stdout",
     "output_type": "stream",
     "text": [
      "Field List: ['OBJECTID', 'GEOID', 'GEO_ID', 'GEOIDFQ', 'STATEFP', 'COUNTYFP', 'TRACTCE', 'BLKGRPCE', 'NAMELSAD', 'P1_001N', 'trim_acres', 'pop_per_ac', 'pop_sqkm', 'Shape_Leng', 'whole_bg_a', 'whole_bg_s', 'trim_bg_ac', 'trim_bg_sq', 'rainavgin', 'Shape', 'MeanIsohyetAnn_Hawaii_in_mean', 'st_area(Shape)', 'st_perimeter(Shape)']\n"
     ]
    }
   ],
   "source": [
    "# Define mobile GDB path and name\n",
    "mgdb_name = \"cbg_analysis.geodatabase\"\n",
    "mgdb_path = os.path.join(workspace, mgdb_name)\n",
    "\n",
    "# Create the mobile GDB (only once)\n",
    "if not arcpy.Exists(mgdb_path):\n",
    "    arcpy.management.CreateMobileGDB(workspace, mgdb_name)\n",
    "\n",
    "# Copy the shapefile into the mobile GDB\n",
    "cbg_fc = os.path.join(mgdb_path, \"cbg_layer\")\n",
    "if not arcpy.Exists(cbg_fc):\n",
    "    arcpy.management.CopyFeatures(shapefile_cbg_path, cbg_fc)\n",
    "\n",
    "fields = [f.name for f in arcpy.ListFields(cbg_fc)]\n",
    "print(f\"Field List: {fields}\")"
   ]
  },
  {
   "cell_type": "markdown",
   "id": "3549f9ff-1553-4307-9186-a4dae89597c3",
   "metadata": {},
   "source": [
    "#### Define location/name of raster for analysis and fieldname to put resulting value into:"
   ]
  },
  {
   "cell_type": "code",
   "execution_count": 16,
   "id": "0809e95e-9a6b-4390-bf4c-ccd014b817b7",
   "metadata": {},
   "outputs": [],
   "source": [
    "raster_path = os.path.join(workspace, \"MeanIsohyetAnn_Hawaii_in.tif\")\n",
    "stat_type = \"MEAN\"  # other options: \"MAX\", \"MIN\", \"SUM\", etc.\n",
    "\n",
    "# Create field name using raster base name and stat type\n",
    "raster_name = os.path.splitext(os.path.basename(raster_path))[0]\n",
    "output_field = f\"{raster_name}_{stat_type.lower()}\"\n"
   ]
  },
  {
   "cell_type": "code",
   "execution_count": 20,
   "id": "f15004c6-bd6d-4faa-b077-8293176ad38e",
   "metadata": {},
   "outputs": [
    {
     "name": "stdout",
     "output_type": "stream",
     "text": [
      "C:\\GITHUB\\CCSVI\\Scripts\\Spatial_Analysis\\input\\cbg_analysis.geodatabase\\cbg_layer\n"
     ]
    },
    {
     "data": {
      "text/plain": [
       "True"
      ]
     },
     "execution_count": 20,
     "metadata": {},
     "output_type": "execute_result"
    }
   ],
   "source": [
    "print(cbg_fc)\n",
    "arcpy.Exists(r\"C:\\GITHUB\\CCSVI\\Scripts\\Spatial_Analysis\\input\\cbg_analysis.geodatabase\\cbg_layer\")"
   ]
  },
  {
   "cell_type": "code",
   "execution_count": 19,
   "id": "2c15b59f-81be-4740-b262-c22f5e7ea3ad",
   "metadata": {},
   "outputs": [
    {
     "ename": "ExecuteError",
     "evalue": "ERROR 999999: Something unexpected caused the tool to fail. Contact Esri Technical Support (http://esriurl.com/support) to Report a Bug, and refer to the error help for potential solutions or workarounds.\nNo spatial reference exists.\nFailed to execute (CopyRaster).\n",
     "output_type": "error",
     "traceback": [
      "\u001b[1;31m---------------------------------------------------------------------------\u001b[0m",
      "\u001b[1;31mExecuteError\u001b[0m                              Traceback (most recent call last)",
      "Cell \u001b[1;32mIn[19], line 1\u001b[0m\n\u001b[1;32m----> 1\u001b[0m func_import_raster(raster_path, mgdb_path, \u001b[38;5;124m\"\u001b[39m\u001b[38;5;124mcbg_layer\u001b[39m\u001b[38;5;124m\"\u001b[39m)\n\u001b[0;32m      2\u001b[0m \u001b[38;5;28mprint\u001b[39m(\u001b[38;5;124m\"\u001b[39m\u001b[38;5;124mRaster imported\u001b[39m\u001b[38;5;124m\"\u001b[39m)\n",
      "Cell \u001b[1;32mIn[9], line 21\u001b[0m, in \u001b[0;36mfunc_import_raster\u001b[1;34m(raster_path, mgdb_path, reference_fc)\u001b[0m\n\u001b[0;32m     19\u001b[0m \u001b[38;5;66;03m# Copy raster to GDB if it doesn't exist\u001b[39;00m\n\u001b[0;32m     20\u001b[0m \u001b[38;5;28;01mif\u001b[39;00m \u001b[38;5;129;01mnot\u001b[39;00m arcpy\u001b[38;5;241m.\u001b[39mExists(raster_in_gdb):\n\u001b[1;32m---> 21\u001b[0m     arcpy\u001b[38;5;241m.\u001b[39mmanagement\u001b[38;5;241m.\u001b[39mCopyRaster(raster_path, raster_in_gdb)\n\u001b[0;32m     23\u001b[0m \u001b[38;5;66;03m# Get spatial reference of the reference feature class\u001b[39;00m\n\u001b[0;32m     24\u001b[0m ref_sr \u001b[38;5;241m=\u001b[39m arcpy\u001b[38;5;241m.\u001b[39mDescribe(reference_fc)\u001b[38;5;241m.\u001b[39mspatialReference\n",
      "File \u001b[1;32mC:\\Program Files\\ArcGIS\\Pro\\Resources\\ArcPy\\arcpy\\management.py:27114\u001b[0m, in \u001b[0;36mCopyRaster\u001b[1;34m(in_raster, out_rasterdataset, config_keyword, background_value, nodata_value, onebit_to_eightbit, colormap_to_RGB, pixel_type, scale_pixel_value, RGB_to_Colormap, format, transform, process_as_multidimensional, build_multidimensional_transpose)\u001b[0m\n\u001b[0;32m  27112\u001b[0m     \u001b[38;5;28;01mreturn\u001b[39;00m retval\n\u001b[0;32m  27113\u001b[0m \u001b[38;5;28;01mexcept\u001b[39;00m \u001b[38;5;167;01mException\u001b[39;00m \u001b[38;5;28;01mas\u001b[39;00m e:\n\u001b[1;32m> 27114\u001b[0m     \u001b[38;5;28;01mraise\u001b[39;00m e\n",
      "File \u001b[1;32mC:\\Program Files\\ArcGIS\\Pro\\Resources\\ArcPy\\arcpy\\management.py:27090\u001b[0m, in \u001b[0;36mCopyRaster\u001b[1;34m(in_raster, out_rasterdataset, config_keyword, background_value, nodata_value, onebit_to_eightbit, colormap_to_RGB, pixel_type, scale_pixel_value, RGB_to_Colormap, format, transform, process_as_multidimensional, build_multidimensional_transpose)\u001b[0m\n\u001b[0;32m  27086\u001b[0m \u001b[38;5;28;01mfrom\u001b[39;00m \u001b[38;5;21;01marcpy\u001b[39;00m\u001b[38;5;21;01m.\u001b[39;00m\u001b[38;5;21;01marcobjects\u001b[39;00m\u001b[38;5;21;01m.\u001b[39;00m\u001b[38;5;21;01marcobjectconversion\u001b[39;00m \u001b[38;5;28;01mimport\u001b[39;00m convertArcObjectToPythonObject\n\u001b[0;32m  27088\u001b[0m \u001b[38;5;28;01mtry\u001b[39;00m:\n\u001b[0;32m  27089\u001b[0m     retval \u001b[38;5;241m=\u001b[39m convertArcObjectToPythonObject(\n\u001b[1;32m> 27090\u001b[0m         gp\u001b[38;5;241m.\u001b[39mCopyRaster_management(\n\u001b[0;32m  27091\u001b[0m             \u001b[38;5;241m*\u001b[39mgp_fixargs(\n\u001b[0;32m  27092\u001b[0m                 (\n\u001b[0;32m  27093\u001b[0m                     in_raster,\n\u001b[0;32m  27094\u001b[0m                     out_rasterdataset,\n\u001b[0;32m  27095\u001b[0m                     config_keyword,\n\u001b[0;32m  27096\u001b[0m                     background_value,\n\u001b[0;32m  27097\u001b[0m                     nodata_value,\n\u001b[0;32m  27098\u001b[0m                     onebit_to_eightbit,\n\u001b[0;32m  27099\u001b[0m                     colormap_to_RGB,\n\u001b[0;32m  27100\u001b[0m                     pixel_type,\n\u001b[0;32m  27101\u001b[0m                     scale_pixel_value,\n\u001b[0;32m  27102\u001b[0m                     RGB_to_Colormap,\n\u001b[0;32m  27103\u001b[0m                     \u001b[38;5;28mformat\u001b[39m,\n\u001b[0;32m  27104\u001b[0m                     transform,\n\u001b[0;32m  27105\u001b[0m                     process_as_multidimensional,\n\u001b[0;32m  27106\u001b[0m                     build_multidimensional_transpose,\n\u001b[0;32m  27107\u001b[0m                 ),\n\u001b[0;32m  27108\u001b[0m                 \u001b[38;5;28;01mTrue\u001b[39;00m,\n\u001b[0;32m  27109\u001b[0m             )\n\u001b[0;32m  27110\u001b[0m         )\n\u001b[0;32m  27111\u001b[0m     )\n\u001b[0;32m  27112\u001b[0m     \u001b[38;5;28;01mreturn\u001b[39;00m retval\n\u001b[0;32m  27113\u001b[0m \u001b[38;5;28;01mexcept\u001b[39;00m \u001b[38;5;167;01mException\u001b[39;00m \u001b[38;5;28;01mas\u001b[39;00m e:\n",
      "File \u001b[1;32mC:\\Program Files\\ArcGIS\\Pro\\Resources\\ArcPy\\arcpy\\geoprocessing\\_base.py:532\u001b[0m, in \u001b[0;36mGeoprocessor.__getattr__.<locals>.<lambda>\u001b[1;34m(*args)\u001b[0m\n\u001b[0;32m    530\u001b[0m val \u001b[38;5;241m=\u001b[39m \u001b[38;5;28mgetattr\u001b[39m(\u001b[38;5;28mself\u001b[39m\u001b[38;5;241m.\u001b[39m_gp, attr)\n\u001b[0;32m    531\u001b[0m \u001b[38;5;28;01mif\u001b[39;00m \u001b[38;5;28mcallable\u001b[39m(val):\n\u001b[1;32m--> 532\u001b[0m     \u001b[38;5;28;01mreturn\u001b[39;00m \u001b[38;5;28;01mlambda\u001b[39;00m \u001b[38;5;241m*\u001b[39margs: val(\u001b[38;5;241m*\u001b[39mgp_fixargs(args, \u001b[38;5;28;01mTrue\u001b[39;00m))\n\u001b[0;32m    533\u001b[0m \u001b[38;5;28;01melse\u001b[39;00m:\n\u001b[0;32m    534\u001b[0m     \u001b[38;5;28;01mreturn\u001b[39;00m convertArcObjectToPythonObject(val)\n",
      "\u001b[1;31mExecuteError\u001b[0m: ERROR 999999: Something unexpected caused the tool to fail. Contact Esri Technical Support (http://esriurl.com/support) to Report a Bug, and refer to the error help for potential solutions or workarounds.\nNo spatial reference exists.\nFailed to execute (CopyRaster).\n"
     ]
    }
   ],
   "source": [
    "func_import_raster(raster_path, mgdb_path, cbg_fc)\n",
    "print(\"Raster imported\")"
   ]
  },
  {
   "cell_type": "markdown",
   "id": "21eeac2d-f615-482a-a0f6-1e9a0df2416b",
   "metadata": {},
   "source": [
    "#### Create a temporary table to store zonal stats and run the analysis:"
   ]
  },
  {
   "cell_type": "code",
   "execution_count": 7,
   "id": "772f961d-8eb1-4fc3-b36c-d388faeeca81",
   "metadata": {
    "scrolled": true
   },
   "outputs": [
    {
     "ename": "ExecuteError",
     "evalue": "Failed to execute. Parameters are not valid.\nERROR 010568: Invalid extent. Please check for zero length or width, or failure to project extent to output spatial reference. \nFailed to execute (ZonalStatisticsAsTable).\n",
     "output_type": "error",
     "traceback": [
      "\u001b[1;31m---------------------------------------------------------------------------\u001b[0m",
      "\u001b[1;31mExecuteError\u001b[0m                              Traceback (most recent call last)",
      "Cell \u001b[1;32mIn[7], line 5\u001b[0m\n\u001b[0;32m      2\u001b[0m zone_field \u001b[38;5;241m=\u001b[39m \u001b[38;5;124m\"\u001b[39m\u001b[38;5;124mOBJECTID\u001b[39m\u001b[38;5;124m\"\u001b[39m\n\u001b[0;32m      3\u001b[0m zonal_table \u001b[38;5;241m=\u001b[39m os\u001b[38;5;241m.\u001b[39mpath\u001b[38;5;241m.\u001b[39mjoin(\u001b[38;5;124m\"\u001b[39m\u001b[38;5;124min_memory\u001b[39m\u001b[38;5;124m\"\u001b[39m, \u001b[38;5;124mf\u001b[39m\u001b[38;5;124m\"\u001b[39m\u001b[38;5;132;01m{\u001b[39;00mraster_name\u001b[38;5;132;01m}\u001b[39;00m\u001b[38;5;124m_zonal\u001b[39m\u001b[38;5;124m\"\u001b[39m)\n\u001b[1;32m----> 5\u001b[0m ZonalStatisticsAsTable(\n\u001b[0;32m      6\u001b[0m     in_zone_data\u001b[38;5;241m=\u001b[39mcbg_fc,\n\u001b[0;32m      7\u001b[0m     zone_field\u001b[38;5;241m=\u001b[39mzone_field,\n\u001b[0;32m      8\u001b[0m     in_value_raster\u001b[38;5;241m=\u001b[39mraster_path,\n\u001b[0;32m      9\u001b[0m     out_table\u001b[38;5;241m=\u001b[39mzonal_table,\n\u001b[0;32m     10\u001b[0m     statistics_type\u001b[38;5;241m=\u001b[39mstat_type,\n\u001b[0;32m     11\u001b[0m     ignore_nodata\u001b[38;5;241m=\u001b[39m\u001b[38;5;124m\"\u001b[39m\u001b[38;5;124mDATA\u001b[39m\u001b[38;5;124m\"\u001b[39m\n\u001b[0;32m     12\u001b[0m )\n",
      "File \u001b[1;32mC:\\Program Files\\ArcGIS\\Pro\\Resources\\ArcPy\\arcpy\\sa\\Functions.py:20646\u001b[0m, in \u001b[0;36mZonalStatisticsAsTable\u001b[1;34m(in_zone_data, zone_field, in_value_raster, out_table, ignore_nodata, statistics_type, process_as_multidimensional, percentile_values, percentile_interpolation_type, circular_calculation, circular_wrap_value, out_join_layer)\u001b[0m\n\u001b[0;32m  20630\u001b[0m     result \u001b[38;5;241m=\u001b[39m arcpy\u001b[38;5;241m.\u001b[39mgp\u001b[38;5;241m.\u001b[39mZonalStatisticsAsTable_sa(\n\u001b[0;32m  20631\u001b[0m         in_zone_data,\n\u001b[0;32m  20632\u001b[0m         zone_field,\n\u001b[1;32m   (...)\u001b[0m\n\u001b[0;32m  20642\u001b[0m         out_join_layer,\n\u001b[0;32m  20643\u001b[0m     )\n\u001b[0;32m  20644\u001b[0m     \u001b[38;5;28;01mreturn\u001b[39;00m arcpy\u001b[38;5;241m.\u001b[39mconvertArcObjectToPythonObject(result)\n\u001b[1;32m> 20646\u001b[0m \u001b[38;5;28;01mreturn\u001b[39;00m Wrapper(\n\u001b[0;32m  20647\u001b[0m     in_zone_data,\n\u001b[0;32m  20648\u001b[0m     zone_field,\n\u001b[0;32m  20649\u001b[0m     in_value_raster,\n\u001b[0;32m  20650\u001b[0m     out_table,\n\u001b[0;32m  20651\u001b[0m     ignore_nodata,\n\u001b[0;32m  20652\u001b[0m     statistics_type,\n\u001b[0;32m  20653\u001b[0m     process_as_multidimensional,\n\u001b[0;32m  20654\u001b[0m     percentile_values,\n\u001b[0;32m  20655\u001b[0m     percentile_interpolation_type,\n\u001b[0;32m  20656\u001b[0m     circular_calculation,\n\u001b[0;32m  20657\u001b[0m     circular_wrap_value,\n\u001b[0;32m  20658\u001b[0m     out_join_layer,\n\u001b[0;32m  20659\u001b[0m )\n",
      "File \u001b[1;32mC:\\Program Files\\ArcGIS\\Pro\\Resources\\ArcPy\\arcpy\\sa\\Utils.py:45\u001b[0m, in \u001b[0;36mStateSwapper.__call__.<locals>.swapper\u001b[1;34m(*args, **kwargs)\u001b[0m\n\u001b[0;32m     42\u001b[0m result \u001b[38;5;241m=\u001b[39m \u001b[38;5;28;01mNone\u001b[39;00m\n\u001b[0;32m     44\u001b[0m \u001b[38;5;28;01mtry\u001b[39;00m:\n\u001b[1;32m---> 45\u001b[0m     result \u001b[38;5;241m=\u001b[39m wrapper(\u001b[38;5;241m*\u001b[39margs, \u001b[38;5;241m*\u001b[39m\u001b[38;5;241m*\u001b[39mkwargs)\n\u001b[0;32m     46\u001b[0m \u001b[38;5;28;01mfinally\u001b[39;00m:\n\u001b[0;32m     47\u001b[0m     \u001b[38;5;66;03m# Reset the geoprocessor state to the original setting.\u001b[39;00m\n\u001b[0;32m     48\u001b[0m     \u001b[38;5;66;03m# Whatever the result of calling the wrapper function, this\u001b[39;00m\n\u001b[0;32m     49\u001b[0m     \u001b[38;5;66;03m# code will run.\u001b[39;00m\n\u001b[0;32m     50\u001b[0m     gp\u001b[38;5;241m.\u001b[39m_gp\u001b[38;5;241m.\u001b[39mAddOutputsToMap \u001b[38;5;241m=\u001b[39m addToResultState\n",
      "File \u001b[1;32mC:\\Program Files\\ArcGIS\\Pro\\Resources\\ArcPy\\arcpy\\sa\\Functions.py:20630\u001b[0m, in \u001b[0;36mZonalStatisticsAsTable.<locals>.Wrapper\u001b[1;34m(in_zone_data, zone_field, in_value_raster, out_table, ignore_nodata, statistics_type, process_as_multidimensional, percentile_values, percentile_interpolation_type, circular_calculation, circular_wrap_value, out_join_layer)\u001b[0m\n\u001b[0;32m  20615\u001b[0m \u001b[38;5;129m@Utils\u001b[39m\u001b[38;5;241m.\u001b[39mStateSwapper(Utils\u001b[38;5;241m.\u001b[39mStateSwapper\u001b[38;5;241m.\u001b[39mNoSingleRasterResult)\n\u001b[0;32m  20616\u001b[0m \u001b[38;5;28;01mdef\u001b[39;00m \u001b[38;5;21mWrapper\u001b[39m(\n\u001b[0;32m  20617\u001b[0m     in_zone_data,\n\u001b[1;32m   (...)\u001b[0m\n\u001b[0;32m  20628\u001b[0m     out_join_layer,\n\u001b[0;32m  20629\u001b[0m ):\n\u001b[1;32m> 20630\u001b[0m     result \u001b[38;5;241m=\u001b[39m arcpy\u001b[38;5;241m.\u001b[39mgp\u001b[38;5;241m.\u001b[39mZonalStatisticsAsTable_sa(\n\u001b[0;32m  20631\u001b[0m         in_zone_data,\n\u001b[0;32m  20632\u001b[0m         zone_field,\n\u001b[0;32m  20633\u001b[0m         in_value_raster,\n\u001b[0;32m  20634\u001b[0m         out_table,\n\u001b[0;32m  20635\u001b[0m         ignore_nodata,\n\u001b[0;32m  20636\u001b[0m         statistics_type,\n\u001b[0;32m  20637\u001b[0m         process_as_multidimensional,\n\u001b[0;32m  20638\u001b[0m         percentile_values,\n\u001b[0;32m  20639\u001b[0m         percentile_interpolation_type,\n\u001b[0;32m  20640\u001b[0m         circular_calculation,\n\u001b[0;32m  20641\u001b[0m         circular_wrap_value,\n\u001b[0;32m  20642\u001b[0m         out_join_layer,\n\u001b[0;32m  20643\u001b[0m     )\n\u001b[0;32m  20644\u001b[0m     \u001b[38;5;28;01mreturn\u001b[39;00m arcpy\u001b[38;5;241m.\u001b[39mconvertArcObjectToPythonObject(result)\n",
      "File \u001b[1;32mC:\\Program Files\\ArcGIS\\Pro\\Resources\\ArcPy\\arcpy\\geoprocessing\\_base.py:532\u001b[0m, in \u001b[0;36mGeoprocessor.__getattr__.<locals>.<lambda>\u001b[1;34m(*args)\u001b[0m\n\u001b[0;32m    530\u001b[0m val \u001b[38;5;241m=\u001b[39m \u001b[38;5;28mgetattr\u001b[39m(\u001b[38;5;28mself\u001b[39m\u001b[38;5;241m.\u001b[39m_gp, attr)\n\u001b[0;32m    531\u001b[0m \u001b[38;5;28;01mif\u001b[39;00m \u001b[38;5;28mcallable\u001b[39m(val):\n\u001b[1;32m--> 532\u001b[0m     \u001b[38;5;28;01mreturn\u001b[39;00m \u001b[38;5;28;01mlambda\u001b[39;00m \u001b[38;5;241m*\u001b[39margs: val(\u001b[38;5;241m*\u001b[39mgp_fixargs(args, \u001b[38;5;28;01mTrue\u001b[39;00m))\n\u001b[0;32m    533\u001b[0m \u001b[38;5;28;01melse\u001b[39;00m:\n\u001b[0;32m    534\u001b[0m     \u001b[38;5;28;01mreturn\u001b[39;00m convertArcObjectToPythonObject(val)\n",
      "\u001b[1;31mExecuteError\u001b[0m: Failed to execute. Parameters are not valid.\nERROR 010568: Invalid extent. Please check for zero length or width, or failure to project extent to output spatial reference. \nFailed to execute (ZonalStatisticsAsTable).\n"
     ]
    }
   ],
   "source": [
    "# Run Zonal Statistics as Table\n",
    "zone_field = \"OBJECTID\"\n",
    "zonal_table = os.path.join(\"in_memory\", f\"{raster_name}_zonal\")\n",
    "\n",
    "ZonalStatisticsAsTable(\n",
    "    in_zone_data=cbg_fc,\n",
    "    zone_field=zone_field,\n",
    "    in_value_raster=raster_path,\n",
    "    out_table=zonal_table,\n",
    "    statistics_type=stat_type,\n",
    "    ignore_nodata=\"DATA\"\n",
    ")"
   ]
  },
  {
   "cell_type": "markdown",
   "id": "002a5774-07d1-4ff4-a76c-9652a2226afc",
   "metadata": {},
   "source": [
    "#### Join the statistics back to the CBG feature class"
   ]
  },
  {
   "cell_type": "code",
   "execution_count": null,
   "id": "daf905c6-106c-4c44-91d6-2b97033636c0",
   "metadata": {},
   "outputs": [],
   "source": [
    "# Add a field for the result (now allowed to use long names)\n",
    "arcpy.management.AddField(cbg_fc, output_field, \"DOUBLE\")\n",
    "\n",
    "# Join the zonal stats table to the feature class\n",
    "arcpy.management.JoinField(\n",
    "    in_data=cbg_fc,\n",
    "    in_field=zone_field,\n",
    "    join_table=zonal_table,\n",
    "    join_field=zone_field,\n",
    "    fields=[stat_type]\n",
    ")\n",
    "\n",
    "# Copy the stat value into the named field\n",
    "arcpy.management.CalculateField(\n",
    "    in_table=cbg_fc,\n",
    "    field=output_field,\n",
    "    expression=f\"!{stat_type}!\",\n",
    "    expression_type=\"PYTHON3\"\n",
    ")\n",
    "\n",
    "# Remove the join\n",
    "arcpy.management.RemoveJoin(cbg_fc)"
   ]
  },
  {
   "cell_type": "code",
   "execution_count": null,
   "id": "da487fac-bfed-45f4-b521-bef7de5e84ff",
   "metadata": {},
   "outputs": [],
   "source": [
    "\n",
    "\n",
    "fields2 = [f.name for f in arcpy.ListFields(cbg_fc)]\n",
    "print(f\"New field List: {fields2}\")"
   ]
  },
  {
   "cell_type": "code",
   "execution_count": null,
   "id": "18c2768e-04ed-4589-85bf-90e8d9b7fd8a",
   "metadata": {},
   "outputs": [],
   "source": []
  }
 ],
 "metadata": {
  "kernelspec": {
   "display_name": "Python 3 (ipykernel)",
   "language": "python",
   "name": "python3"
  },
  "language_info": {
   "codemirror_mode": {
    "name": "ipython",
    "version": 3
   },
   "file_extension": ".py",
   "mimetype": "text/x-python",
   "name": "python",
   "nbconvert_exporter": "python",
   "pygments_lexer": "ipython3",
   "version": "3.11.10"
  }
 },
 "nbformat": 4,
 "nbformat_minor": 5
}
